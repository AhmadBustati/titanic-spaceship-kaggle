{
 "cells": [
  {
   "cell_type": "markdown",
   "metadata": {},
   "source": [
    "## End to end predictor of whether someone survived or not  \n",
    "\n",
    "1. **Problem definition:**  Given information about the passengers on the titanic spaceship how accurately can the model predict their survival \n",
    "\n",
    "2. **Data:**  The data is provided by [Kaggle](https://www.kaggle.com/competitions/spaceship-titanic/data)\n",
    "\n",
    "3. **Evaluation:** The model will be evaluated on `accuracy`\n",
    "\n",
    "4. **Features:**  \n",
    "* `PassengerId`  A unique Id for each passenger. Each Id takes the form `gggg_pp` where `gggg` indicates a group the passenger is traveling with and `pp` is their number within the group. People in a group are often family members, but not always.\n",
    "\n",
    "* `HomePlanet`  The planet the passenger departed from, typically their planet of permanent residence.\n",
    "\n",
    "* `CryoSleep`  Indicates whether the passenger elected to be put into suspended animation for the duration of the voyage. Passengers in cryosleep are confined to their cabins.\n",
    "\n",
    "* `Cabin`  The cabin number where the passenger is staying. Takes the form deck/num/side, where side can be either `P` for Port or `S` for Starboard.\n",
    "\n",
    "* `Destination`  The planet the passenger will be debarking to.\n",
    "\n",
    "* `Age`  The age of the passenger.\n",
    "\n",
    "* `VIP`  Whether the passenger has paid for special VIP service during the voyage.\n",
    "\n",
    "* `RoomService`, `FoodCourt`, `ShoppingMall`, `Spa`, `VRDeck`  Amount the passenger has billed at each of the Spaceship Titanic's many luxury amenities.\n",
    "\n",
    "* `Name`  The first and last names of the passenger.\n",
    "\n",
    "* `Transported`  Whether the passenger was transported to another dimension. This is the target, the column you are trying to predict.\n"
   ]
  },
  {
   "cell_type": "code",
   "execution_count": 1,
   "metadata": {},
   "outputs": [],
   "source": [
    "import pandas as pd \n",
    "import numpy as np \n",
    "import matplotlib.pyplot as plt "
   ]
  },
  {
   "cell_type": "markdown",
   "metadata": {},
   "source": [
    "## Data exploration "
   ]
  },
  {
   "cell_type": "code",
   "execution_count": 2,
   "metadata": {},
   "outputs": [
    {
     "data": {
      "text/html": [
       "<div>\n",
       "<style scoped>\n",
       "    .dataframe tbody tr th:only-of-type {\n",
       "        vertical-align: middle;\n",
       "    }\n",
       "\n",
       "    .dataframe tbody tr th {\n",
       "        vertical-align: top;\n",
       "    }\n",
       "\n",
       "    .dataframe thead th {\n",
       "        text-align: right;\n",
       "    }\n",
       "</style>\n",
       "<table border=\"1\" class=\"dataframe\">\n",
       "  <thead>\n",
       "    <tr style=\"text-align: right;\">\n",
       "      <th></th>\n",
       "      <th>PassengerId</th>\n",
       "      <th>HomePlanet</th>\n",
       "      <th>CryoSleep</th>\n",
       "      <th>Cabin</th>\n",
       "      <th>Destination</th>\n",
       "      <th>Age</th>\n",
       "      <th>VIP</th>\n",
       "      <th>RoomService</th>\n",
       "      <th>FoodCourt</th>\n",
       "      <th>ShoppingMall</th>\n",
       "      <th>Spa</th>\n",
       "      <th>VRDeck</th>\n",
       "      <th>Name</th>\n",
       "      <th>Transported</th>\n",
       "    </tr>\n",
       "  </thead>\n",
       "  <tbody>\n",
       "    <tr>\n",
       "      <th>0</th>\n",
       "      <td>0001_01</td>\n",
       "      <td>Europa</td>\n",
       "      <td>False</td>\n",
       "      <td>B/0/P</td>\n",
       "      <td>TRAPPIST-1e</td>\n",
       "      <td>39.0</td>\n",
       "      <td>False</td>\n",
       "      <td>0.0</td>\n",
       "      <td>0.0</td>\n",
       "      <td>0.0</td>\n",
       "      <td>0.0</td>\n",
       "      <td>0.0</td>\n",
       "      <td>Maham Ofracculy</td>\n",
       "      <td>False</td>\n",
       "    </tr>\n",
       "    <tr>\n",
       "      <th>1</th>\n",
       "      <td>0002_01</td>\n",
       "      <td>Earth</td>\n",
       "      <td>False</td>\n",
       "      <td>F/0/S</td>\n",
       "      <td>TRAPPIST-1e</td>\n",
       "      <td>24.0</td>\n",
       "      <td>False</td>\n",
       "      <td>109.0</td>\n",
       "      <td>9.0</td>\n",
       "      <td>25.0</td>\n",
       "      <td>549.0</td>\n",
       "      <td>44.0</td>\n",
       "      <td>Juanna Vines</td>\n",
       "      <td>True</td>\n",
       "    </tr>\n",
       "    <tr>\n",
       "      <th>2</th>\n",
       "      <td>0003_01</td>\n",
       "      <td>Europa</td>\n",
       "      <td>False</td>\n",
       "      <td>A/0/S</td>\n",
       "      <td>TRAPPIST-1e</td>\n",
       "      <td>58.0</td>\n",
       "      <td>True</td>\n",
       "      <td>43.0</td>\n",
       "      <td>3576.0</td>\n",
       "      <td>0.0</td>\n",
       "      <td>6715.0</td>\n",
       "      <td>49.0</td>\n",
       "      <td>Altark Susent</td>\n",
       "      <td>False</td>\n",
       "    </tr>\n",
       "    <tr>\n",
       "      <th>3</th>\n",
       "      <td>0003_02</td>\n",
       "      <td>Europa</td>\n",
       "      <td>False</td>\n",
       "      <td>A/0/S</td>\n",
       "      <td>TRAPPIST-1e</td>\n",
       "      <td>33.0</td>\n",
       "      <td>False</td>\n",
       "      <td>0.0</td>\n",
       "      <td>1283.0</td>\n",
       "      <td>371.0</td>\n",
       "      <td>3329.0</td>\n",
       "      <td>193.0</td>\n",
       "      <td>Solam Susent</td>\n",
       "      <td>False</td>\n",
       "    </tr>\n",
       "    <tr>\n",
       "      <th>4</th>\n",
       "      <td>0004_01</td>\n",
       "      <td>Earth</td>\n",
       "      <td>False</td>\n",
       "      <td>F/1/S</td>\n",
       "      <td>TRAPPIST-1e</td>\n",
       "      <td>16.0</td>\n",
       "      <td>False</td>\n",
       "      <td>303.0</td>\n",
       "      <td>70.0</td>\n",
       "      <td>151.0</td>\n",
       "      <td>565.0</td>\n",
       "      <td>2.0</td>\n",
       "      <td>Willy Santantines</td>\n",
       "      <td>True</td>\n",
       "    </tr>\n",
       "  </tbody>\n",
       "</table>\n",
       "</div>"
      ],
      "text/plain": [
       "  PassengerId HomePlanet CryoSleep  Cabin  Destination   Age    VIP  \\\n",
       "0     0001_01     Europa     False  B/0/P  TRAPPIST-1e  39.0  False   \n",
       "1     0002_01      Earth     False  F/0/S  TRAPPIST-1e  24.0  False   \n",
       "2     0003_01     Europa     False  A/0/S  TRAPPIST-1e  58.0   True   \n",
       "3     0003_02     Europa     False  A/0/S  TRAPPIST-1e  33.0  False   \n",
       "4     0004_01      Earth     False  F/1/S  TRAPPIST-1e  16.0  False   \n",
       "\n",
       "   RoomService  FoodCourt  ShoppingMall     Spa  VRDeck               Name  \\\n",
       "0          0.0        0.0           0.0     0.0     0.0    Maham Ofracculy   \n",
       "1        109.0        9.0          25.0   549.0    44.0       Juanna Vines   \n",
       "2         43.0     3576.0           0.0  6715.0    49.0      Altark Susent   \n",
       "3          0.0     1283.0         371.0  3329.0   193.0       Solam Susent   \n",
       "4        303.0       70.0         151.0   565.0     2.0  Willy Santantines   \n",
       "\n",
       "   Transported  \n",
       "0        False  \n",
       "1         True  \n",
       "2        False  \n",
       "3        False  \n",
       "4         True  "
      ]
     },
     "execution_count": 2,
     "metadata": {},
     "output_type": "execute_result"
    }
   ],
   "source": [
    "titanic_df = pd.read_csv(\"train.csv\")\n",
    "titanic_df.head()"
   ]
  },
  {
   "cell_type": "code",
   "execution_count": 3,
   "metadata": {},
   "outputs": [
    {
     "data": {
      "text/plain": [
       "(8693, 14)"
      ]
     },
     "execution_count": 3,
     "metadata": {},
     "output_type": "execute_result"
    }
   ],
   "source": [
    "titanic_df.shape"
   ]
  },
  {
   "cell_type": "code",
   "execution_count": 4,
   "metadata": {},
   "outputs": [
    {
     "name": "stdout",
     "output_type": "stream",
     "text": [
      "<class 'pandas.core.frame.DataFrame'>\n",
      "RangeIndex: 8693 entries, 0 to 8692\n",
      "Data columns (total 14 columns):\n",
      " #   Column        Non-Null Count  Dtype  \n",
      "---  ------        --------------  -----  \n",
      " 0   PassengerId   8693 non-null   object \n",
      " 1   HomePlanet    8492 non-null   object \n",
      " 2   CryoSleep     8476 non-null   object \n",
      " 3   Cabin         8494 non-null   object \n",
      " 4   Destination   8511 non-null   object \n",
      " 5   Age           8514 non-null   float64\n",
      " 6   VIP           8490 non-null   object \n",
      " 7   RoomService   8512 non-null   float64\n",
      " 8   FoodCourt     8510 non-null   float64\n",
      " 9   ShoppingMall  8485 non-null   float64\n",
      " 10  Spa           8510 non-null   float64\n",
      " 11  VRDeck        8505 non-null   float64\n",
      " 12  Name          8493 non-null   object \n",
      " 13  Transported   8693 non-null   bool   \n",
      "dtypes: bool(1), float64(6), object(7)\n",
      "memory usage: 891.5+ KB\n"
     ]
    }
   ],
   "source": [
    "titanic_df.info()"
   ]
  },
  {
   "cell_type": "code",
   "execution_count": 5,
   "metadata": {},
   "outputs": [
    {
     "data": {
      "image/png": "[encoded data removed]",
      "text/plain": [
       "<Figure size 1000x700 with 6 Axes>"
      ]
     },
     "metadata": {},
     "output_type": "display_data"
    }
   ],
   "source": [
    "titanic_df.hist(figsize=(10,7));"
   ]
  },
  {
   "cell_type": "code",
   "execution_count": 6,
   "metadata": {},
   "outputs": [
    {
     "data": {
      "text/html": [
       "<div>\n",
       "<style scoped>\n",
       "    .dataframe tbody tr th:only-of-type {\n",
       "        vertical-align: middle;\n",
       "    }\n",
       "\n",
       "    .dataframe tbody tr th {\n",
       "        vertical-align: top;\n",
       "    }\n",
       "\n",
       "    .dataframe thead th {\n",
       "        text-align: right;\n",
       "    }\n",
       "</style>\n",
       "<table border=\"1\" class=\"dataframe\">\n",
       "  <thead>\n",
       "    <tr style=\"text-align: right;\">\n",
       "      <th></th>\n",
       "      <th>Age</th>\n",
       "      <th>RoomService</th>\n",
       "      <th>FoodCourt</th>\n",
       "      <th>ShoppingMall</th>\n",
       "      <th>Spa</th>\n",
       "      <th>VRDeck</th>\n",
       "    </tr>\n",
       "  </thead>\n",
       "  <tbody>\n",
       "    <tr>\n",
       "      <th>count</th>\n",
       "      <td>8514.000000</td>\n",
       "      <td>8512.000000</td>\n",
       "      <td>8510.000000</td>\n",
       "      <td>8485.000000</td>\n",
       "      <td>8510.000000</td>\n",
       "      <td>8505.000000</td>\n",
       "    </tr>\n",
       "    <tr>\n",
       "      <th>mean</th>\n",
       "      <td>28.827930</td>\n",
       "      <td>224.687617</td>\n",
       "      <td>458.077203</td>\n",
       "      <td>173.729169</td>\n",
       "      <td>311.138778</td>\n",
       "      <td>304.854791</td>\n",
       "    </tr>\n",
       "    <tr>\n",
       "      <th>std</th>\n",
       "      <td>14.489021</td>\n",
       "      <td>666.717663</td>\n",
       "      <td>1611.489240</td>\n",
       "      <td>604.696458</td>\n",
       "      <td>1136.705535</td>\n",
       "      <td>1145.717189</td>\n",
       "    </tr>\n",
       "    <tr>\n",
       "      <th>min</th>\n",
       "      <td>0.000000</td>\n",
       "      <td>0.000000</td>\n",
       "      <td>0.000000</td>\n",
       "      <td>0.000000</td>\n",
       "      <td>0.000000</td>\n",
       "      <td>0.000000</td>\n",
       "    </tr>\n",
       "    <tr>\n",
       "      <th>25%</th>\n",
       "      <td>19.000000</td>\n",
       "      <td>0.000000</td>\n",
       "      <td>0.000000</td>\n",
       "      <td>0.000000</td>\n",
       "      <td>0.000000</td>\n",
       "      <td>0.000000</td>\n",
       "    </tr>\n",
       "    <tr>\n",
       "      <th>50%</th>\n",
       "      <td>27.000000</td>\n",
       "      <td>0.000000</td>\n",
       "      <td>0.000000</td>\n",
       "      <td>0.000000</td>\n",
       "      <td>0.000000</td>\n",
       "      <td>0.000000</td>\n",
       "    </tr>\n",
       "    <tr>\n",
       "      <th>75%</th>\n",
       "      <td>38.000000</td>\n",
       "      <td>47.000000</td>\n",
       "      <td>76.000000</td>\n",
       "      <td>27.000000</td>\n",
       "      <td>59.000000</td>\n",
       "      <td>46.000000</td>\n",
       "    </tr>\n",
       "    <tr>\n",
       "      <th>max</th>\n",
       "      <td>79.000000</td>\n",
       "      <td>14327.000000</td>\n",
       "      <td>29813.000000</td>\n",
       "      <td>23492.000000</td>\n",
       "      <td>22408.000000</td>\n",
       "      <td>24133.000000</td>\n",
       "    </tr>\n",
       "  </tbody>\n",
       "</table>\n",
       "</div>"
      ],
      "text/plain": [
       "               Age   RoomService     FoodCourt  ShoppingMall           Spa  \\\n",
       "count  8514.000000   8512.000000   8510.000000   8485.000000   8510.000000   \n",
       "mean     28.827930    224.687617    458.077203    173.729169    311.138778   \n",
       "std      14.489021    666.717663   1611.489240    604.696458   1136.705535   \n",
       "min       0.000000      0.000000      0.000000      0.000000      0.000000   \n",
       "25%      19.000000      0.000000      0.000000      0.000000      0.000000   \n",
       "50%      27.000000      0.000000      0.000000      0.000000      0.000000   \n",
       "75%      38.000000     47.000000     76.000000     27.000000     59.000000   \n",
       "max      79.000000  14327.000000  29813.000000  23492.000000  22408.000000   \n",
       "\n",
       "             VRDeck  \n",
       "count   8505.000000  \n",
       "mean     304.854791  \n",
       "std     1145.717189  \n",
       "min        0.000000  \n",
       "25%        0.000000  \n",
       "50%        0.000000  \n",
       "75%       46.000000  \n",
       "max    24133.000000  "
      ]
     },
     "execution_count": 6,
     "metadata": {},
     "output_type": "execute_result"
    }
   ],
   "source": [
    "titanic_df.describe()"
   ]
  },
  {
   "cell_type": "code",
   "execution_count": 7,
   "metadata": {},
   "outputs": [
    {
     "data": {
      "text/plain": [
       "PassengerId     0.000000\n",
       "HomePlanet      2.312205\n",
       "CryoSleep       2.496261\n",
       "Cabin           2.289198\n",
       "Destination     2.093639\n",
       "Age             2.059128\n",
       "VIP             2.335212\n",
       "RoomService     2.082135\n",
       "FoodCourt       2.105142\n",
       "ShoppingMall    2.392730\n",
       "Spa             2.105142\n",
       "VRDeck          2.162660\n",
       "Name            2.300702\n",
       "Transported     0.000000\n",
       "dtype: float64"
      ]
     },
     "execution_count": 7,
     "metadata": {},
     "output_type": "execute_result"
    }
   ],
   "source": [
    "titanic_df.isna().sum()/len(titanic_df)*100"
   ]
  },
  {
   "cell_type": "code",
   "execution_count": 8,
   "metadata": {},
   "outputs": [
    {
     "data": {
      "text/plain": [
       "Earth     4602\n",
       "Europa    2131\n",
       "Mars      1759\n",
       "Name: HomePlanet, dtype: int64"
      ]
     },
     "execution_count": 8,
     "metadata": {},
     "output_type": "execute_result"
    }
   ],
   "source": [
    "titanic_df[\"HomePlanet\"].value_counts()"
   ]
  },
  {
   "cell_type": "code",
   "execution_count": 9,
   "metadata": {},
   "outputs": [
    {
     "data": {
      "text/plain": [
       "Text(0, 0.5, 'Count')"
      ]
     },
     "execution_count": 9,
     "metadata": {},
     "output_type": "execute_result"
    },
    {
     "data": {
      "image/png": "[encoded data removed]",
      "text/plain": [
       "<Figure size 640x480 with 1 Axes>"
      ]
     },
     "metadata": {},
     "output_type": "display_data"
    }
   ],
   "source": [
    "home_planet_value_counts = titanic_df[\"HomePlanet\"].value_counts()\n",
    "x = home_planet_value_counts.index\n",
    "height = home_planet_value_counts.values\n",
    "\n",
    "# Plot the bar graph\n",
    "plt.bar(x, height)\n",
    "plt.title(\"Bar Graph of different Home Planets \")\n",
    "plt.xlabel(\"Planet\")\n",
    "plt.ylabel(\"Count\")"
   ]
  },
  {
   "cell_type": "code",
   "execution_count": 10,
   "metadata": {},
   "outputs": [
    {
     "data": {
      "text/plain": [
       "(8693, 14)"
      ]
     },
     "execution_count": 10,
     "metadata": {},
     "output_type": "execute_result"
    }
   ],
   "source": [
    "titanic_df.shape"
   ]
  },
  {
   "cell_type": "code",
   "execution_count": 11,
   "metadata": {},
   "outputs": [
    {
     "data": {
      "text/plain": [
       "PassengerId      object\n",
       "HomePlanet       object\n",
       "CryoSleep        object\n",
       "Cabin            object\n",
       "Destination      object\n",
       "Age             float64\n",
       "VIP              object\n",
       "RoomService     float64\n",
       "FoodCourt       float64\n",
       "ShoppingMall    float64\n",
       "Spa             float64\n",
       "VRDeck          float64\n",
       "Name             object\n",
       "Transported        bool\n",
       "dtype: object"
      ]
     },
     "execution_count": 11,
     "metadata": {},
     "output_type": "execute_result"
    }
   ],
   "source": [
    "titanic_df.dtypes"
   ]
  },
  {
   "cell_type": "code",
   "execution_count": 12,
   "metadata": {},
   "outputs": [
    {
     "data": {
      "text/plain": [
       "217"
      ]
     },
     "execution_count": 12,
     "metadata": {},
     "output_type": "execute_result"
    }
   ],
   "source": [
    "titanic_df[\"CryoSleep\"].isna().sum()"
   ]
  },
  {
   "cell_type": "code",
   "execution_count": 13,
   "metadata": {},
   "outputs": [
    {
     "data": {
      "text/plain": [
       "False    5439\n",
       "True     3037\n",
       "Name: CryoSleep, dtype: int64"
      ]
     },
     "execution_count": 13,
     "metadata": {},
     "output_type": "execute_result"
    }
   ],
   "source": [
    "titanic_df[\"CryoSleep\"].value_counts()"
   ]
  },
  {
   "cell_type": "code",
   "execution_count": 14,
   "metadata": {},
   "outputs": [
    {
     "data": {
      "text/plain": [
       "199"
      ]
     },
     "execution_count": 14,
     "metadata": {},
     "output_type": "execute_result"
    }
   ],
   "source": [
    "\n",
    "titanic_df[\"Cabin\"].isna().sum()"
   ]
  },
  {
   "cell_type": "code",
   "execution_count": 15,
   "metadata": {},
   "outputs": [
    {
     "data": {
      "text/plain": [
       "TRAPPIST-1e      5915\n",
       "55 Cancri e      1800\n",
       "PSO J318.5-22     796\n",
       "Name: Destination, dtype: int64"
      ]
     },
     "execution_count": 15,
     "metadata": {},
     "output_type": "execute_result"
    }
   ],
   "source": [
    "titanic_df[\"Destination\"].value_counts()"
   ]
  },
  {
   "cell_type": "code",
   "execution_count": 16,
   "metadata": {},
   "outputs": [
    {
     "data": {
      "text/plain": [
       "182"
      ]
     },
     "execution_count": 16,
     "metadata": {},
     "output_type": "execute_result"
    }
   ],
   "source": [
    "titanic_df[\"Destination\"].isna().sum()"
   ]
  },
  {
   "cell_type": "code",
   "execution_count": 17,
   "metadata": {},
   "outputs": [
    {
     "data": {
      "text/plain": [
       "PassengerId      object\n",
       "HomePlanet       object\n",
       "CryoSleep        object\n",
       "Cabin            object\n",
       "Destination      object\n",
       "Age             float64\n",
       "VIP              object\n",
       "RoomService     float64\n",
       "FoodCourt       float64\n",
       "ShoppingMall    float64\n",
       "Spa             float64\n",
       "VRDeck          float64\n",
       "Name             object\n",
       "Transported        bool\n",
       "dtype: object"
      ]
     },
     "execution_count": 17,
     "metadata": {},
     "output_type": "execute_result"
    }
   ],
   "source": [
    "titanic_df.dtypes"
   ]
  },
  {
   "cell_type": "markdown",
   "metadata": {},
   "source": [
    "the `helper_functions` implements a function that returns either the number of unique values if \n",
    "the unique values are more than a cretin number or returns the unique values with their count also it returns \n",
    "the number of missing values  "
   ]
  },
  {
   "cell_type": "code",
   "execution_count": 18,
   "metadata": {},
   "outputs": [
    {
     "data": {
      "text/plain": [
       "True"
      ]
     },
     "execution_count": 18,
     "metadata": {},
     "output_type": "execute_result"
    }
   ],
   "source": [
    "titanic_df[\"VIP\"].dtype==\"object\""
   ]
  },
  {
   "cell_type": "code",
   "execution_count": 19,
   "metadata": {},
   "outputs": [
    {
     "name": "stdout",
     "output_type": "stream",
     "text": [
      "PassengerId, \t 8693\n",
      "number of missing values 0\n",
      "HomePlanet, \t Earth     4602\n",
      "Europa    2131\n",
      "Mars      1759\n",
      "Name: HomePlanet, dtype: int64\n",
      "number of missing values 201\n",
      "CryoSleep, \t False    5439\n",
      "True     3037\n",
      "Name: CryoSleep, dtype: int64\n",
      "number of missing values 217\n",
      "Cabin, \t 6561\n",
      "number of missing values 199\n",
      "Destination, \t TRAPPIST-1e      5915\n",
      "55 Cancri e      1800\n",
      "PSO J318.5-22     796\n",
      "Name: Destination, dtype: int64\n",
      "number of missing values 182\n",
      "VIP, \t False    8291\n",
      "True      199\n",
      "Name: VIP, dtype: int64\n",
      "number of missing values 203\n",
      "Name, \t 8474\n",
      "number of missing values 200\n"
     ]
    }
   ],
   "source": [
    "from helper_functions import * \n",
    "cat_columns = []\n",
    "cat_dict = []\n",
    "for column in titanic_df.columns:\n",
    "    if titanic_df[column].dtype ==\"object\":\n",
    "        cat_columns.append(column)\n",
    "        count,missing = get_value_counts_and_missing(titanic_df,column,5)\n",
    "        cat_dict.append([column,missing,isinstance(count,int)])\n",
    "        print(f\"{column}, \\t {count}\")\n",
    "        print(f\"number of missing values {missing}\")"
   ]
  },
  {
   "cell_type": "code",
   "execution_count": 20,
   "metadata": {},
   "outputs": [
    {
     "data": {
      "text/plain": [
       "[['PassengerId', 0, True],\n",
       " ['HomePlanet', 201, False],\n",
       " ['CryoSleep', 217, False],\n",
       " ['Cabin', 199, True],\n",
       " ['Destination', 182, False],\n",
       " ['VIP', 203, False],\n",
       " ['Name', 200, True]]"
      ]
     },
     "execution_count": 20,
     "metadata": {},
     "output_type": "execute_result"
    }
   ],
   "source": [
    "cat_dict"
   ]
  },
  {
   "cell_type": "code",
   "execution_count": 21,
   "metadata": {},
   "outputs": [
    {
     "data": {
      "text/html": [
       "<div>\n",
       "<style scoped>\n",
       "    .dataframe tbody tr th:only-of-type {\n",
       "        vertical-align: middle;\n",
       "    }\n",
       "\n",
       "    .dataframe tbody tr th {\n",
       "        vertical-align: top;\n",
       "    }\n",
       "\n",
       "    .dataframe thead th {\n",
       "        text-align: right;\n",
       "    }\n",
       "</style>\n",
       "<table border=\"1\" class=\"dataframe\">\n",
       "  <thead>\n",
       "    <tr style=\"text-align: right;\">\n",
       "      <th></th>\n",
       "      <th>column_name</th>\n",
       "      <th>missing_values</th>\n",
       "      <th>high_number_of_unique_values</th>\n",
       "    </tr>\n",
       "  </thead>\n",
       "  <tbody>\n",
       "    <tr>\n",
       "      <th>0</th>\n",
       "      <td>PassengerId</td>\n",
       "      <td>0</td>\n",
       "      <td>True</td>\n",
       "    </tr>\n",
       "    <tr>\n",
       "      <th>1</th>\n",
       "      <td>HomePlanet</td>\n",
       "      <td>201</td>\n",
       "      <td>False</td>\n",
       "    </tr>\n",
       "    <tr>\n",
       "      <th>2</th>\n",
       "      <td>CryoSleep</td>\n",
       "      <td>217</td>\n",
       "      <td>False</td>\n",
       "    </tr>\n",
       "    <tr>\n",
       "      <th>3</th>\n",
       "      <td>Cabin</td>\n",
       "      <td>199</td>\n",
       "      <td>True</td>\n",
       "    </tr>\n",
       "    <tr>\n",
       "      <th>4</th>\n",
       "      <td>Destination</td>\n",
       "      <td>182</td>\n",
       "      <td>False</td>\n",
       "    </tr>\n",
       "    <tr>\n",
       "      <th>5</th>\n",
       "      <td>VIP</td>\n",
       "      <td>203</td>\n",
       "      <td>False</td>\n",
       "    </tr>\n",
       "    <tr>\n",
       "      <th>6</th>\n",
       "      <td>Name</td>\n",
       "      <td>200</td>\n",
       "      <td>True</td>\n",
       "    </tr>\n",
       "  </tbody>\n",
       "</table>\n",
       "</div>"
      ],
      "text/plain": [
       "   column_name  missing_values  high_number_of_unique_values\n",
       "0  PassengerId               0                          True\n",
       "1   HomePlanet             201                         False\n",
       "2    CryoSleep             217                         False\n",
       "3        Cabin             199                          True\n",
       "4  Destination             182                         False\n",
       "5          VIP             203                         False\n",
       "6         Name             200                          True"
      ]
     },
     "execution_count": 21,
     "metadata": {},
     "output_type": "execute_result"
    }
   ],
   "source": [
    "categorical_info_pd = pd.DataFrame(cat_dict,columns=[\"column_name\",\"missing_values\",\"high_number_of_unique_values\"])\n",
    "categorical_info_pd"
   ]
  },
  {
   "cell_type": "code",
   "execution_count": 22,
   "metadata": {},
   "outputs": [
    {
     "data": {
      "text/plain": [
       "(8693, 14)"
      ]
     },
     "execution_count": 22,
     "metadata": {},
     "output_type": "execute_result"
    }
   ],
   "source": [
    "df_shape = titanic_df.shape\n",
    "df_shape"
   ]
  },
  {
   "cell_type": "code",
   "execution_count": 23,
   "metadata": {},
   "outputs": [
    {
     "data": {
      "text/html": [
       "<div>\n",
       "<style scoped>\n",
       "    .dataframe tbody tr th:only-of-type {\n",
       "        vertical-align: middle;\n",
       "    }\n",
       "\n",
       "    .dataframe tbody tr th {\n",
       "        vertical-align: top;\n",
       "    }\n",
       "\n",
       "    .dataframe thead th {\n",
       "        text-align: right;\n",
       "    }\n",
       "</style>\n",
       "<table border=\"1\" class=\"dataframe\">\n",
       "  <thead>\n",
       "    <tr style=\"text-align: right;\">\n",
       "      <th></th>\n",
       "      <th>Age</th>\n",
       "      <th>RoomService</th>\n",
       "      <th>FoodCourt</th>\n",
       "      <th>ShoppingMall</th>\n",
       "      <th>Spa</th>\n",
       "      <th>VRDeck</th>\n",
       "    </tr>\n",
       "  </thead>\n",
       "  <tbody>\n",
       "    <tr>\n",
       "      <th>count</th>\n",
       "      <td>8514.000000</td>\n",
       "      <td>8512.000000</td>\n",
       "      <td>8510.000000</td>\n",
       "      <td>8485.000000</td>\n",
       "      <td>8510.000000</td>\n",
       "      <td>8505.000000</td>\n",
       "    </tr>\n",
       "    <tr>\n",
       "      <th>mean</th>\n",
       "      <td>28.827930</td>\n",
       "      <td>224.687617</td>\n",
       "      <td>458.077203</td>\n",
       "      <td>173.729169</td>\n",
       "      <td>311.138778</td>\n",
       "      <td>304.854791</td>\n",
       "    </tr>\n",
       "    <tr>\n",
       "      <th>std</th>\n",
       "      <td>14.489021</td>\n",
       "      <td>666.717663</td>\n",
       "      <td>1611.489240</td>\n",
       "      <td>604.696458</td>\n",
       "      <td>1136.705535</td>\n",
       "      <td>1145.717189</td>\n",
       "    </tr>\n",
       "    <tr>\n",
       "      <th>min</th>\n",
       "      <td>0.000000</td>\n",
       "      <td>0.000000</td>\n",
       "      <td>0.000000</td>\n",
       "      <td>0.000000</td>\n",
       "      <td>0.000000</td>\n",
       "      <td>0.000000</td>\n",
       "    </tr>\n",
       "    <tr>\n",
       "      <th>25%</th>\n",
       "      <td>19.000000</td>\n",
       "      <td>0.000000</td>\n",
       "      <td>0.000000</td>\n",
       "      <td>0.000000</td>\n",
       "      <td>0.000000</td>\n",
       "      <td>0.000000</td>\n",
       "    </tr>\n",
       "    <tr>\n",
       "      <th>50%</th>\n",
       "      <td>27.000000</td>\n",
       "      <td>0.000000</td>\n",
       "      <td>0.000000</td>\n",
       "      <td>0.000000</td>\n",
       "      <td>0.000000</td>\n",
       "      <td>0.000000</td>\n",
       "    </tr>\n",
       "    <tr>\n",
       "      <th>75%</th>\n",
       "      <td>38.000000</td>\n",
       "      <td>47.000000</td>\n",
       "      <td>76.000000</td>\n",
       "      <td>27.000000</td>\n",
       "      <td>59.000000</td>\n",
       "      <td>46.000000</td>\n",
       "    </tr>\n",
       "    <tr>\n",
       "      <th>max</th>\n",
       "      <td>79.000000</td>\n",
       "      <td>14327.000000</td>\n",
       "      <td>29813.000000</td>\n",
       "      <td>23492.000000</td>\n",
       "      <td>22408.000000</td>\n",
       "      <td>24133.000000</td>\n",
       "    </tr>\n",
       "  </tbody>\n",
       "</table>\n",
       "</div>"
      ],
      "text/plain": [
       "               Age   RoomService     FoodCourt  ShoppingMall           Spa  \\\n",
       "count  8514.000000   8512.000000   8510.000000   8485.000000   8510.000000   \n",
       "mean     28.827930    224.687617    458.077203    173.729169    311.138778   \n",
       "std      14.489021    666.717663   1611.489240    604.696458   1136.705535   \n",
       "min       0.000000      0.000000      0.000000      0.000000      0.000000   \n",
       "25%      19.000000      0.000000      0.000000      0.000000      0.000000   \n",
       "50%      27.000000      0.000000      0.000000      0.000000      0.000000   \n",
       "75%      38.000000     47.000000     76.000000     27.000000     59.000000   \n",
       "max      79.000000  14327.000000  29813.000000  23492.000000  22408.000000   \n",
       "\n",
       "             VRDeck  \n",
       "count   8505.000000  \n",
       "mean     304.854791  \n",
       "std     1145.717189  \n",
       "min        0.000000  \n",
       "25%        0.000000  \n",
       "50%        0.000000  \n",
       "75%       46.000000  \n",
       "max    24133.000000  "
      ]
     },
     "execution_count": 23,
     "metadata": {},
     "output_type": "execute_result"
    }
   ],
   "source": [
    "titanic_df.describe()"
   ]
  },
  {
   "cell_type": "markdown",
   "metadata": {},
   "source": [
    "This is intended to check the number of rows that have missing values  1867 rows have one missing value 203 rows have 2 \n",
    "missing values 17 rows have 3 missing values totaling in 2087 rows with missing values  "
   ]
  },
  {
   "cell_type": "code",
   "execution_count": 24,
   "metadata": {},
   "outputs": [
    {
     "name": "stdout",
     "output_type": "stream",
     "text": [
      "0\n"
     ]
    },
    {
     "data": {
      "text/html": [
       "<div>\n",
       "<style scoped>\n",
       "    .dataframe tbody tr th:only-of-type {\n",
       "        vertical-align: middle;\n",
       "    }\n",
       "\n",
       "    .dataframe tbody tr th {\n",
       "        vertical-align: top;\n",
       "    }\n",
       "\n",
       "    .dataframe thead th {\n",
       "        text-align: right;\n",
       "    }\n",
       "</style>\n",
       "<table border=\"1\" class=\"dataframe\">\n",
       "  <thead>\n",
       "    <tr style=\"text-align: right;\">\n",
       "      <th></th>\n",
       "      <th>PassengerId</th>\n",
       "      <th>HomePlanet</th>\n",
       "      <th>CryoSleep</th>\n",
       "      <th>Cabin</th>\n",
       "      <th>Destination</th>\n",
       "      <th>Age</th>\n",
       "      <th>VIP</th>\n",
       "      <th>RoomService</th>\n",
       "      <th>FoodCourt</th>\n",
       "      <th>ShoppingMall</th>\n",
       "      <th>Spa</th>\n",
       "      <th>VRDeck</th>\n",
       "      <th>Name</th>\n",
       "      <th>Transported</th>\n",
       "    </tr>\n",
       "  </thead>\n",
       "  <tbody>\n",
       "    <tr>\n",
       "      <th>7</th>\n",
       "      <td>0006_02</td>\n",
       "      <td>Earth</td>\n",
       "      <td>True</td>\n",
       "      <td>G/0/S</td>\n",
       "      <td>TRAPPIST-1e</td>\n",
       "      <td>28.0</td>\n",
       "      <td>False</td>\n",
       "      <td>0.0</td>\n",
       "      <td>0.0</td>\n",
       "      <td>0.0</td>\n",
       "      <td>0.0</td>\n",
       "      <td>NaN</td>\n",
       "      <td>Candra Jacostaffey</td>\n",
       "      <td>True</td>\n",
       "    </tr>\n",
       "    <tr>\n",
       "      <th>10</th>\n",
       "      <td>0008_02</td>\n",
       "      <td>Europa</td>\n",
       "      <td>True</td>\n",
       "      <td>B/1/P</td>\n",
       "      <td>TRAPPIST-1e</td>\n",
       "      <td>34.0</td>\n",
       "      <td>False</td>\n",
       "      <td>0.0</td>\n",
       "      <td>0.0</td>\n",
       "      <td>NaN</td>\n",
       "      <td>0.0</td>\n",
       "      <td>0.0</td>\n",
       "      <td>Altardr Flatic</td>\n",
       "      <td>True</td>\n",
       "    </tr>\n",
       "    <tr>\n",
       "      <th>15</th>\n",
       "      <td>0012_01</td>\n",
       "      <td>Earth</td>\n",
       "      <td>False</td>\n",
       "      <td>NaN</td>\n",
       "      <td>TRAPPIST-1e</td>\n",
       "      <td>31.0</td>\n",
       "      <td>False</td>\n",
       "      <td>32.0</td>\n",
       "      <td>0.0</td>\n",
       "      <td>876.0</td>\n",
       "      <td>0.0</td>\n",
       "      <td>0.0</td>\n",
       "      <td>Justie Pooles</td>\n",
       "      <td>False</td>\n",
       "    </tr>\n",
       "    <tr>\n",
       "      <th>16</th>\n",
       "      <td>0014_01</td>\n",
       "      <td>Mars</td>\n",
       "      <td>False</td>\n",
       "      <td>F/3/P</td>\n",
       "      <td>55 Cancri e</td>\n",
       "      <td>27.0</td>\n",
       "      <td>False</td>\n",
       "      <td>1286.0</td>\n",
       "      <td>122.0</td>\n",
       "      <td>NaN</td>\n",
       "      <td>0.0</td>\n",
       "      <td>0.0</td>\n",
       "      <td>Flats Eccle</td>\n",
       "      <td>False</td>\n",
       "    </tr>\n",
       "    <tr>\n",
       "      <th>23</th>\n",
       "      <td>0020_03</td>\n",
       "      <td>Earth</td>\n",
       "      <td>True</td>\n",
       "      <td>E/0/S</td>\n",
       "      <td>55 Cancri e</td>\n",
       "      <td>29.0</td>\n",
       "      <td>False</td>\n",
       "      <td>0.0</td>\n",
       "      <td>0.0</td>\n",
       "      <td>NaN</td>\n",
       "      <td>0.0</td>\n",
       "      <td>0.0</td>\n",
       "      <td>Mollen Mcfaddennon</td>\n",
       "      <td>False</td>\n",
       "    </tr>\n",
       "    <tr>\n",
       "      <th>...</th>\n",
       "      <td>...</td>\n",
       "      <td>...</td>\n",
       "      <td>...</td>\n",
       "      <td>...</td>\n",
       "      <td>...</td>\n",
       "      <td>...</td>\n",
       "      <td>...</td>\n",
       "      <td>...</td>\n",
       "      <td>...</td>\n",
       "      <td>...</td>\n",
       "      <td>...</td>\n",
       "      <td>...</td>\n",
       "      <td>...</td>\n",
       "      <td>...</td>\n",
       "    </tr>\n",
       "    <tr>\n",
       "      <th>8667</th>\n",
       "      <td>9250_01</td>\n",
       "      <td>Europa</td>\n",
       "      <td>False</td>\n",
       "      <td>E/597/P</td>\n",
       "      <td>TRAPPIST-1e</td>\n",
       "      <td>29.0</td>\n",
       "      <td>False</td>\n",
       "      <td>0.0</td>\n",
       "      <td>2972.0</td>\n",
       "      <td>NaN</td>\n",
       "      <td>28.0</td>\n",
       "      <td>188.0</td>\n",
       "      <td>Chain Reedectied</td>\n",
       "      <td>True</td>\n",
       "    </tr>\n",
       "    <tr>\n",
       "      <th>8674</th>\n",
       "      <td>9257_01</td>\n",
       "      <td>NaN</td>\n",
       "      <td>False</td>\n",
       "      <td>F/1892/P</td>\n",
       "      <td>TRAPPIST-1e</td>\n",
       "      <td>13.0</td>\n",
       "      <td>False</td>\n",
       "      <td>39.0</td>\n",
       "      <td>0.0</td>\n",
       "      <td>1085.0</td>\n",
       "      <td>24.0</td>\n",
       "      <td>0.0</td>\n",
       "      <td>Ties Apple</td>\n",
       "      <td>False</td>\n",
       "    </tr>\n",
       "    <tr>\n",
       "      <th>8675</th>\n",
       "      <td>9259_01</td>\n",
       "      <td>Earth</td>\n",
       "      <td>NaN</td>\n",
       "      <td>F/1893/P</td>\n",
       "      <td>TRAPPIST-1e</td>\n",
       "      <td>44.0</td>\n",
       "      <td>False</td>\n",
       "      <td>1030.0</td>\n",
       "      <td>1015.0</td>\n",
       "      <td>0.0</td>\n",
       "      <td>11.0</td>\n",
       "      <td>NaN</td>\n",
       "      <td>Annah Gilleyons</td>\n",
       "      <td>True</td>\n",
       "    </tr>\n",
       "    <tr>\n",
       "      <th>8684</th>\n",
       "      <td>9274_01</td>\n",
       "      <td>NaN</td>\n",
       "      <td>True</td>\n",
       "      <td>G/1508/P</td>\n",
       "      <td>TRAPPIST-1e</td>\n",
       "      <td>23.0</td>\n",
       "      <td>False</td>\n",
       "      <td>0.0</td>\n",
       "      <td>0.0</td>\n",
       "      <td>0.0</td>\n",
       "      <td>0.0</td>\n",
       "      <td>0.0</td>\n",
       "      <td>Chelsa Bullisey</td>\n",
       "      <td>True</td>\n",
       "    </tr>\n",
       "    <tr>\n",
       "      <th>8687</th>\n",
       "      <td>9275_03</td>\n",
       "      <td>Europa</td>\n",
       "      <td>NaN</td>\n",
       "      <td>A/97/P</td>\n",
       "      <td>TRAPPIST-1e</td>\n",
       "      <td>30.0</td>\n",
       "      <td>False</td>\n",
       "      <td>0.0</td>\n",
       "      <td>3208.0</td>\n",
       "      <td>0.0</td>\n",
       "      <td>2.0</td>\n",
       "      <td>330.0</td>\n",
       "      <td>Atlasym Conable</td>\n",
       "      <td>True</td>\n",
       "    </tr>\n",
       "  </tbody>\n",
       "</table>\n",
       "<p>2087 rows × 14 columns</p>\n",
       "</div>"
      ],
      "text/plain": [
       "     PassengerId HomePlanet CryoSleep     Cabin  Destination   Age    VIP  \\\n",
       "7        0006_02      Earth      True     G/0/S  TRAPPIST-1e  28.0  False   \n",
       "10       0008_02     Europa      True     B/1/P  TRAPPIST-1e  34.0  False   \n",
       "15       0012_01      Earth     False       NaN  TRAPPIST-1e  31.0  False   \n",
       "16       0014_01       Mars     False     F/3/P  55 Cancri e  27.0  False   \n",
       "23       0020_03      Earth      True     E/0/S  55 Cancri e  29.0  False   \n",
       "...          ...        ...       ...       ...          ...   ...    ...   \n",
       "8667     9250_01     Europa     False   E/597/P  TRAPPIST-1e  29.0  False   \n",
       "8674     9257_01        NaN     False  F/1892/P  TRAPPIST-1e  13.0  False   \n",
       "8675     9259_01      Earth       NaN  F/1893/P  TRAPPIST-1e  44.0  False   \n",
       "8684     9274_01        NaN      True  G/1508/P  TRAPPIST-1e  23.0  False   \n",
       "8687     9275_03     Europa       NaN    A/97/P  TRAPPIST-1e  30.0  False   \n",
       "\n",
       "      RoomService  FoodCourt  ShoppingMall   Spa  VRDeck                Name  \\\n",
       "7             0.0        0.0           0.0   0.0     NaN  Candra Jacostaffey   \n",
       "10            0.0        0.0           NaN   0.0     0.0      Altardr Flatic   \n",
       "15           32.0        0.0         876.0   0.0     0.0       Justie Pooles   \n",
       "16         1286.0      122.0           NaN   0.0     0.0         Flats Eccle   \n",
       "23            0.0        0.0           NaN   0.0     0.0  Mollen Mcfaddennon   \n",
       "...           ...        ...           ...   ...     ...                 ...   \n",
       "8667          0.0     2972.0           NaN  28.0   188.0    Chain Reedectied   \n",
       "8674         39.0        0.0        1085.0  24.0     0.0          Ties Apple   \n",
       "8675       1030.0     1015.0           0.0  11.0     NaN     Annah Gilleyons   \n",
       "8684          0.0        0.0           0.0   0.0     0.0     Chelsa Bullisey   \n",
       "8687          0.0     3208.0           0.0   2.0   330.0     Atlasym Conable   \n",
       "\n",
       "      Transported  \n",
       "7            True  \n",
       "10           True  \n",
       "15          False  \n",
       "16          False  \n",
       "23          False  \n",
       "...           ...  \n",
       "8667         True  \n",
       "8674        False  \n",
       "8675         True  \n",
       "8684         True  \n",
       "8687         True  \n",
       "\n",
       "[2087 rows x 14 columns]"
      ]
     },
     "execution_count": 24,
     "metadata": {},
     "output_type": "execute_result"
    }
   ],
   "source": [
    "print(len(titanic_df[titanic_df.isna().sum(axis=1)==4]))\n",
    "titanic_df[titanic_df.isna().sum(axis=1)>=1]\n"
   ]
  },
  {
   "cell_type": "code",
   "execution_count": 25,
   "metadata": {},
   "outputs": [
    {
     "data": {
      "text/plain": [
       "Transported     1.000000\n",
       "FoodCourt       0.046566\n",
       "ShoppingMall    0.010141\n",
       "Age            -0.075026\n",
       "VRDeck         -0.207075\n",
       "Spa            -0.221131\n",
       "RoomService    -0.244611\n",
       "Name: Transported, dtype: float64"
      ]
     },
     "execution_count": 25,
     "metadata": {},
     "output_type": "execute_result"
    }
   ],
   "source": [
    "corr_matrix = titanic_df.corr(numeric_only=True)\n",
    "corr_matrix[\"Transported\"].sort_values(ascending=False)"
   ]
  },
  {
   "cell_type": "code",
   "execution_count": 26,
   "metadata": {},
   "outputs": [
    {
     "data": {
      "image/png": "[encoded data removed]",
      "text/plain": [
       "<Figure size 640x480 with 16 Axes>"
      ]
     },
     "metadata": {},
     "output_type": "display_data"
    }
   ],
   "source": [
    "from pandas.plotting import scatter_matrix\n",
    "attributes = [\"Transported\",\"RoomService\",\"Age\",\"FoodCourt\"]\n",
    "scatter_matrix(corr_matrix[attributes]);"
   ]
  },
  {
   "cell_type": "code",
   "execution_count": 27,
   "metadata": {},
   "outputs": [
    {
     "data": {
      "text/plain": [
       "Index(['PassengerId', 'HomePlanet', 'CryoSleep', 'Cabin', 'Destination', 'Age',\n",
       "       'VIP', 'RoomService', 'FoodCourt', 'ShoppingMall', 'Spa', 'VRDeck',\n",
       "       'Name', 'Transported'],\n",
       "      dtype='object')"
      ]
     },
     "execution_count": 27,
     "metadata": {},
     "output_type": "execute_result"
    }
   ],
   "source": [
    "titanic_df.columns"
   ]
  },
  {
   "cell_type": "code",
   "execution_count": 28,
   "metadata": {},
   "outputs": [
    {
     "data": {
      "image/png": "[encoded data removed]",
      "text/plain": [
       "<Figure size 640x480 with 2 Axes>"
      ]
     },
     "metadata": {},
     "output_type": "display_data"
    }
   ],
   "source": [
    "cm = pd.crosstab(titanic_df[\"CryoSleep\"],titanic_df[\"Transported\"])\n",
    "plt.imshow(cm,cmap=\"Blues\")\n",
    "plt.title(\"Cryo sleep survival rate \")\n",
    "plt.xlabel(\"CryoSleep\")\n",
    "plt.ylabel(\"Transported\")\n",
    "plt.colorbar();\n"
   ]
  },
  {
   "cell_type": "code",
   "execution_count": 29,
   "metadata": {},
   "outputs": [
    {
     "data": {
      "text/plain": [
       "False    3650\n",
       "True     1789\n",
       "Name: Transported, dtype: int64"
      ]
     },
     "execution_count": 29,
     "metadata": {},
     "output_type": "execute_result"
    }
   ],
   "source": [
    "titanic_df[titanic_df[\"CryoSleep\"]==False][\"Transported\"].value_counts()"
   ]
  },
  {
   "cell_type": "code",
   "execution_count": 30,
   "metadata": {},
   "outputs": [
    {
     "data": {
      "text/plain": [
       "True     2483\n",
       "False     554\n",
       "Name: Transported, dtype: int64"
      ]
     },
     "execution_count": 30,
     "metadata": {},
     "output_type": "execute_result"
    }
   ],
   "source": [
    "titanic_df[titanic_df[\"CryoSleep\"]==True][\"Transported\"].value_counts()"
   ]
  },
  {
   "cell_type": "code",
   "execution_count": 31,
   "metadata": {},
   "outputs": [
    {
     "data": {
      "text/plain": [
       "False    111\n",
       "True     106\n",
       "Name: Transported, dtype: int64"
      ]
     },
     "execution_count": 31,
     "metadata": {},
     "output_type": "execute_result"
    }
   ],
   "source": [
    "titanic_df[titanic_df[\"CryoSleep\"].isna()][\"Transported\"].value_counts()"
   ]
  },
  {
   "cell_type": "markdown",
   "metadata": {},
   "source": [
    "So we could assume that `CryoSleep` is a good indictor of survivorship if the passenger didn't use it  "
   ]
  },
  {
   "cell_type": "code",
   "execution_count": 32,
   "metadata": {},
   "outputs": [
    {
     "data": {
      "image/png": "[encoded data removed]",
      "text/plain": [
       "<Figure size 640x480 with 2 Axes>"
      ]
     },
     "metadata": {},
     "output_type": "display_data"
    }
   ],
   "source": [
    "cm = pd.crosstab(titanic_df[\"VIP\"],titanic_df[\"Transported\"])\n",
    "plt.imshow(cm,cmap=\"Blues\")\n",
    "plt.title(\"VIP vs Transported\")\n",
    "plt.xlabel(\"VIP\")\n",
    "plt.ylabel(\"Transported\")\n",
    "plt.colorbar();\n",
    "\n"
   ]
  },
  {
   "cell_type": "markdown",
   "metadata": {},
   "source": [
    "So there is no actual correlation between VIP and survivorship\n",
    "\n",
    "## Data Preparation (Preprocessing) \n",
    "\n",
    "Firstly the data is to be split into train and test sets then we fill the missing values using scikit-learn's transformers "
   ]
  },
  {
   "cell_type": "code",
   "execution_count": 33,
   "metadata": {},
   "outputs": [],
   "source": [
    "from sklearn.model_selection import train_test_split \n",
    "np.random.seed(42)\n",
    "titanic_features = titanic_df.drop(\"Transported\",axis=1)\n",
    "titanic_labels = titanic_df[\"Transported\"]\n",
    "train_X,test_X,train_y,test_y  = train_test_split(titanic_features,titanic_labels,test_size=0.2)"
   ]
  },
  {
   "cell_type": "code",
   "execution_count": 34,
   "metadata": {},
   "outputs": [
    {
     "data": {
      "text/plain": [
       "Index(['PassengerId', 'HomePlanet', 'CryoSleep', 'Cabin', 'Destination', 'Age',\n",
       "       'VIP', 'RoomService', 'FoodCourt', 'ShoppingMall', 'Spa', 'VRDeck',\n",
       "       'Name'],\n",
       "      dtype='object')"
      ]
     },
     "execution_count": 34,
     "metadata": {},
     "output_type": "execute_result"
    }
   ],
   "source": [
    "train_X.columns"
   ]
  },
  {
   "cell_type": "code",
   "execution_count": 37,
   "metadata": {},
   "outputs": [
    {
     "name": "stdout",
     "output_type": "stream",
     "text": [
      "[[486.0 4071.0 False ... 0.0 1.0 '01']\n",
      " [3268.0 1621.0 False ... 0.0 1.0 '02']\n",
      " [803.0 355.0 True ... 0.0 0.0 '04']\n",
      " ...\n",
      " [2056.0 3661.0 False ... 1.0 0.0 '06']\n",
      " [2823.0 5710.0 False ... 0.0 1.0 '01']\n",
      " [722.0 346.0 False ... 0.0 0.0 '01']]\n"
     ]
    }
   ],
   "source": [
    "from sklearn.preprocessing import StandardScaler, OrdinalEncoder, OneHotEncoder\n",
    "from sklearn.compose import ColumnTransformer\n",
    "from sklearn.pipeline import Pipeline\n",
    "from sklearn.impute import SimpleImputer\n",
    "from sklearn.base import BaseEstimator, TransformerMixin\n",
    "\n",
    "class ExtractPassengerID(BaseEstimator, TransformerMixin):\n",
    "    def fit(self, X, y=None):\n",
    "        return self\n",
    "\n",
    "    def transform(self, X):\n",
    "        return X[\"PassengerId\"].str.split('_').str[1].values.reshape(-1, 1)\n",
    "\n",
    "num_pipeline = Pipeline([\n",
    "    (\"imputer\", SimpleImputer(strategy=\"median\")),\n",
    "    (\"std_scalar\", StandardScaler())\n",
    "])\n",
    "\n",
    "non_numerical_pipeline = Pipeline([\n",
    "    (\"imputer\", SimpleImputer(strategy=\"most_frequent\")),\n",
    "    (\"encode\", OrdinalEncoder(handle_unknown='use_encoded_value', unknown_value=-1))\n",
    "])\n",
    "\n",
    "categorical_pipeline = Pipeline([\n",
    "    (\"imputer\", SimpleImputer(strategy=\"most_frequent\")),\n",
    "    (\"encode\", OneHotEncoder())\n",
    "])\n",
    "\n",
    "numerical_columns = [\"Age\", \"RoomService\", \"FoodCourt\", \"ShoppingMall\", \"Spa\", \"VRDeck\"]\n",
    "categorical_columns = [\"HomePlanet\", \"Destination\"]\n",
    "boolean_columns = [\"CryoSleep\", \"VIP\"]\n",
    "non_numerical_columns = [\"Cabin\", \"Name\"]\n",
    "id_column = [\"PassengerId\"]\n",
    "\n",
    "preprocessor = ColumnTransformer(\n",
    "    transformers=[\n",
    "        ('non_numerical', non_numerical_pipeline, non_numerical_columns),\n",
    "        ('boolean', SimpleImputer(strategy='most_frequent'), boolean_columns),\n",
    "        ('numerical', num_pipeline, numerical_columns),\n",
    "        ('categorical', categorical_pipeline, categorical_columns),\n",
    "        ('passenger_id', ExtractPassengerID(), id_column)\n",
    "    ])\n",
    "\n",
    "pipeline = Pipeline(steps=[('preprocessor', preprocessor)])\n",
    "\n",
    "# Fit and transform the data\n",
    "transformed_data = pipeline.fit_transform(train_X)\n",
    "transformed_test = pipeline.transform(test_X)\n",
    "\n",
    "# Print the transformed data\n",
    "print(transformed_data)\n"
   ]
  },
  {
   "cell_type": "code",
   "execution_count": 38,
   "metadata": {},
   "outputs": [
    {
     "name": "stdout",
     "output_type": "stream",
     "text": [
      "Fitting 5 folds for each of 15 candidates, totalling 75 fits\n",
      "[CV] END .............................C=0.0001, solver=lbfgs; total time=   0.0s\n",
      "[CV] END .............................C=0.0001, solver=lbfgs; total time=   0.0s\n",
      "[CV] END .............................C=0.0001, solver=lbfgs; total time=   0.0s\n",
      "[CV] END .............................C=0.0001, solver=lbfgs; total time=   0.0s\n",
      "[CV] END .............................C=0.0001, solver=lbfgs; total time=   0.0s\n",
      "[CV] END .............C=1291.5496650148827, solver=liblinear; total time=   0.1s\n",
      "[CV] END .............C=1291.5496650148827, solver=liblinear; total time=   0.0s\n",
      "[CV] END .............C=1291.5496650148827, solver=liblinear; total time=   0.0s\n",
      "[CV] END .............C=1291.5496650148827, solver=liblinear; total time=   0.0s\n",
      "[CV] END .............C=1291.5496650148827, solver=liblinear; total time=   0.0s\n",
      "[CV] END .............C=166.81005372000558, solver=liblinear; total time=   0.0s\n",
      "[CV] END .............C=166.81005372000558, solver=liblinear; total time=   0.0s\n",
      "[CV] END .............C=166.81005372000558, solver=liblinear; total time=   0.2s\n",
      "[CV] END .............C=166.81005372000558, solver=liblinear; total time=   0.1s\n",
      "[CV] END .............C=166.81005372000558, solver=liblinear; total time=   0.1s\n",
      "[CV] END .........................C=0.0001, solver=liblinear; total time=   0.0s\n",
      "[CV] END .........................C=0.0001, solver=liblinear; total time=   0.0s\n",
      "[CV] END .........................C=0.0001, solver=liblinear; total time=   0.0s\n",
      "[CV] END .........................C=0.0001, solver=liblinear; total time=   0.0s\n",
      "[CV] END .........................C=0.0001, solver=liblinear; total time=   0.0s\n"
     ]
    },
    {
     "name": "stderr",
     "output_type": "stream",
     "text": [
      "C:\\Users\\Bustati\\AppData\\Roaming\\Python\\Python311\\site-packages\\sklearn\\linear_model\\_logistic.py:460: ConvergenceWarning: lbfgs failed to converge (status=1):\n",
      "STOP: TOTAL NO. of ITERATIONS REACHED LIMIT.\n",
      "\n",
      "Increase the number of iterations (max_iter) or scale the data as shown in:\n",
      "    https://scikit-learn.org/stable/modules/preprocessing.html\n",
      "Please also refer to the documentation for alternative solver options:\n",
      "    https://scikit-learn.org/stable/modules/linear_model.html#logistic-regression\n",
      "  n_iter_i = _check_optimize_result(\n"
     ]
    },
    {
     "name": "stdout",
     "output_type": "stream",
     "text": [
      "[CV] END .................C=0.3593813663804626, solver=lbfgs; total time=   0.3s\n",
      "[CV] END .................C=0.3593813663804626, solver=lbfgs; total time=   0.1s\n"
     ]
    },
    {
     "name": "stderr",
     "output_type": "stream",
     "text": [
      "C:\\Users\\Bustati\\AppData\\Roaming\\Python\\Python311\\site-packages\\sklearn\\linear_model\\_logistic.py:460: ConvergenceWarning: lbfgs failed to converge (status=1):\n",
      "STOP: TOTAL NO. of ITERATIONS REACHED LIMIT.\n",
      "\n",
      "Increase the number of iterations (max_iter) or scale the data as shown in:\n",
      "    https://scikit-learn.org/stable/modules/preprocessing.html\n",
      "Please also refer to the documentation for alternative solver options:\n",
      "    https://scikit-learn.org/stable/modules/linear_model.html#logistic-regression\n",
      "  n_iter_i = _check_optimize_result(\n"
     ]
    },
    {
     "name": "stdout",
     "output_type": "stream",
     "text": [
      "[CV] END .................C=0.3593813663804626, solver=lbfgs; total time=   0.2s\n"
     ]
    },
    {
     "name": "stderr",
     "output_type": "stream",
     "text": [
      "C:\\Users\\Bustati\\AppData\\Roaming\\Python\\Python311\\site-packages\\sklearn\\linear_model\\_logistic.py:460: ConvergenceWarning: lbfgs failed to converge (status=1):\n",
      "STOP: TOTAL NO. of ITERATIONS REACHED LIMIT.\n",
      "\n",
      "Increase the number of iterations (max_iter) or scale the data as shown in:\n",
      "    https://scikit-learn.org/stable/modules/preprocessing.html\n",
      "Please also refer to the documentation for alternative solver options:\n",
      "    https://scikit-learn.org/stable/modules/linear_model.html#logistic-regression\n",
      "  n_iter_i = _check_optimize_result(\n"
     ]
    },
    {
     "name": "stdout",
     "output_type": "stream",
     "text": [
      "[CV] END .................C=0.3593813663804626, solver=lbfgs; total time=   0.2s\n",
      "[CV] END .................C=0.3593813663804626, solver=lbfgs; total time=   0.3s\n",
      "[CV] END ...........C=0.005994842503189409, solver=liblinear; total time=   0.1s\n",
      "[CV] END ...........C=0.005994842503189409, solver=liblinear; total time=   0.1s\n",
      "[CV] END ...........C=0.005994842503189409, solver=liblinear; total time=   0.1s\n",
      "[CV] END ...........C=0.005994842503189409, solver=liblinear; total time=   0.0s\n",
      "[CV] END ...........C=0.005994842503189409, solver=liblinear; total time=   0.0s\n",
      "[CV] END ..............C=2.782559402207126, solver=liblinear; total time=   0.0s\n",
      "[CV] END ..............C=2.782559402207126, solver=liblinear; total time=   0.0s\n",
      "[CV] END ..............C=2.782559402207126, solver=liblinear; total time=   0.0s\n",
      "[CV] END ..............C=2.782559402207126, solver=liblinear; total time=   0.0s\n",
      "[CV] END ..............C=2.782559402207126, solver=liblinear; total time=   0.0s\n",
      "[CV] END ...........C=0.000774263682681127, solver=liblinear; total time=   0.0s\n",
      "[CV] END ...........C=0.000774263682681127, solver=liblinear; total time=   0.0s\n",
      "[CV] END ...........C=0.000774263682681127, solver=liblinear; total time=   0.0s\n",
      "[CV] END ...........C=0.000774263682681127, solver=liblinear; total time=   0.0s\n",
      "[CV] END ...........C=0.000774263682681127, solver=liblinear; total time=   0.0s\n",
      "[CV] END ............................C=10000.0, solver=lbfgs; total time=   0.0s\n"
     ]
    },
    {
     "name": "stderr",
     "output_type": "stream",
     "text": [
      "C:\\Users\\Bustati\\AppData\\Roaming\\Python\\Python311\\site-packages\\sklearn\\linear_model\\_logistic.py:460: ConvergenceWarning: lbfgs failed to converge (status=1):\n",
      "STOP: TOTAL NO. of ITERATIONS REACHED LIMIT.\n",
      "\n",
      "Increase the number of iterations (max_iter) or scale the data as shown in:\n",
      "    https://scikit-learn.org/stable/modules/preprocessing.html\n",
      "Please also refer to the documentation for alternative solver options:\n",
      "    https://scikit-learn.org/stable/modules/linear_model.html#logistic-regression\n",
      "  n_iter_i = _check_optimize_result(\n"
     ]
    },
    {
     "name": "stdout",
     "output_type": "stream",
     "text": [
      "[CV] END ............................C=10000.0, solver=lbfgs; total time=   0.1s\n",
      "[CV] END ............................C=10000.0, solver=lbfgs; total time=   0.0s\n"
     ]
    },
    {
     "name": "stderr",
     "output_type": "stream",
     "text": [
      "C:\\Users\\Bustati\\AppData\\Roaming\\Python\\Python311\\site-packages\\sklearn\\linear_model\\_logistic.py:460: ConvergenceWarning: lbfgs failed to converge (status=1):\n",
      "STOP: TOTAL NO. of ITERATIONS REACHED LIMIT.\n",
      "\n",
      "Increase the number of iterations (max_iter) or scale the data as shown in:\n",
      "    https://scikit-learn.org/stable/modules/preprocessing.html\n",
      "Please also refer to the documentation for alternative solver options:\n",
      "    https://scikit-learn.org/stable/modules/linear_model.html#logistic-regression\n",
      "  n_iter_i = _check_optimize_result(\n"
     ]
    },
    {
     "name": "stdout",
     "output_type": "stream",
     "text": [
      "[CV] END ............................C=10000.0, solver=lbfgs; total time=   0.3s\n"
     ]
    },
    {
     "name": "stderr",
     "output_type": "stream",
     "text": [
      "C:\\Users\\Bustati\\AppData\\Roaming\\Python\\Python311\\site-packages\\sklearn\\linear_model\\_logistic.py:460: ConvergenceWarning: lbfgs failed to converge (status=1):\n",
      "STOP: TOTAL NO. of ITERATIONS REACHED LIMIT.\n",
      "\n",
      "Increase the number of iterations (max_iter) or scale the data as shown in:\n",
      "    https://scikit-learn.org/stable/modules/preprocessing.html\n",
      "Please also refer to the documentation for alternative solver options:\n",
      "    https://scikit-learn.org/stable/modules/linear_model.html#logistic-regression\n",
      "  n_iter_i = _check_optimize_result(\n"
     ]
    },
    {
     "name": "stdout",
     "output_type": "stream",
     "text": [
      "[CV] END ............................C=10000.0, solver=lbfgs; total time=   0.3s\n"
     ]
    },
    {
     "name": "stderr",
     "output_type": "stream",
     "text": [
      "C:\\Users\\Bustati\\AppData\\Roaming\\Python\\Python311\\site-packages\\sklearn\\linear_model\\_logistic.py:460: ConvergenceWarning: lbfgs failed to converge (status=1):\n",
      "STOP: TOTAL NO. of ITERATIONS REACHED LIMIT.\n",
      "\n",
      "Increase the number of iterations (max_iter) or scale the data as shown in:\n",
      "    https://scikit-learn.org/stable/modules/preprocessing.html\n",
      "Please also refer to the documentation for alternative solver options:\n",
      "    https://scikit-learn.org/stable/modules/linear_model.html#logistic-regression\n",
      "  n_iter_i = _check_optimize_result(\n"
     ]
    },
    {
     "name": "stdout",
     "output_type": "stream",
     "text": [
      "[CV] END .................C=1291.5496650148827, solver=lbfgs; total time=   0.2s\n"
     ]
    },
    {
     "name": "stderr",
     "output_type": "stream",
     "text": [
      "C:\\Users\\Bustati\\AppData\\Roaming\\Python\\Python311\\site-packages\\sklearn\\linear_model\\_logistic.py:460: ConvergenceWarning: lbfgs failed to converge (status=1):\n",
      "STOP: TOTAL NO. of ITERATIONS REACHED LIMIT.\n",
      "\n",
      "Increase the number of iterations (max_iter) or scale the data as shown in:\n",
      "    https://scikit-learn.org/stable/modules/preprocessing.html\n",
      "Please also refer to the documentation for alternative solver options:\n",
      "    https://scikit-learn.org/stable/modules/linear_model.html#logistic-regression\n",
      "  n_iter_i = _check_optimize_result(\n"
     ]
    },
    {
     "name": "stdout",
     "output_type": "stream",
     "text": [
      "[CV] END .................C=1291.5496650148827, solver=lbfgs; total time=   0.2s\n",
      "[CV] END .................C=1291.5496650148827, solver=lbfgs; total time=   0.2s\n"
     ]
    },
    {
     "name": "stderr",
     "output_type": "stream",
     "text": [
      "C:\\Users\\Bustati\\AppData\\Roaming\\Python\\Python311\\site-packages\\sklearn\\linear_model\\_logistic.py:460: ConvergenceWarning: lbfgs failed to converge (status=1):\n",
      "STOP: TOTAL NO. of ITERATIONS REACHED LIMIT.\n",
      "\n",
      "Increase the number of iterations (max_iter) or scale the data as shown in:\n",
      "    https://scikit-learn.org/stable/modules/preprocessing.html\n",
      "Please also refer to the documentation for alternative solver options:\n",
      "    https://scikit-learn.org/stable/modules/linear_model.html#logistic-regression\n",
      "  n_iter_i = _check_optimize_result(\n"
     ]
    },
    {
     "name": "stdout",
     "output_type": "stream",
     "text": [
      "[CV] END .................C=1291.5496650148827, solver=lbfgs; total time=   0.1s\n"
     ]
    },
    {
     "name": "stderr",
     "output_type": "stream",
     "text": [
      "C:\\Users\\Bustati\\AppData\\Roaming\\Python\\Python311\\site-packages\\sklearn\\linear_model\\_logistic.py:460: ConvergenceWarning: lbfgs failed to converge (status=1):\n",
      "STOP: TOTAL NO. of ITERATIONS REACHED LIMIT.\n",
      "\n",
      "Increase the number of iterations (max_iter) or scale the data as shown in:\n",
      "    https://scikit-learn.org/stable/modules/preprocessing.html\n",
      "Please also refer to the documentation for alternative solver options:\n",
      "    https://scikit-learn.org/stable/modules/linear_model.html#logistic-regression\n",
      "  n_iter_i = _check_optimize_result(\n"
     ]
    },
    {
     "name": "stdout",
     "output_type": "stream",
     "text": [
      "[CV] END .................C=1291.5496650148827, solver=lbfgs; total time=   0.3s\n",
      "[CV] END ..............C=21.54434690031882, solver=liblinear; total time=   0.1s\n",
      "[CV] END ..............C=21.54434690031882, solver=liblinear; total time=   0.0s\n",
      "[CV] END ..............C=21.54434690031882, solver=liblinear; total time=   0.0s\n",
      "[CV] END ..............C=21.54434690031882, solver=liblinear; total time=   0.0s\n",
      "[CV] END ..............C=21.54434690031882, solver=liblinear; total time=   0.0s\n",
      "[CV] END ...............C=0.000774263682681127, solver=lbfgs; total time=   0.0s\n",
      "[CV] END ...............C=0.000774263682681127, solver=lbfgs; total time=   0.0s\n",
      "[CV] END ...............C=0.000774263682681127, solver=lbfgs; total time=   0.0s\n",
      "[CV] END ...............C=0.000774263682681127, solver=lbfgs; total time=   0.0s\n",
      "[CV] END ...............C=0.000774263682681127, solver=lbfgs; total time=   0.0s\n",
      "[CV] END .............C=0.3593813663804626, solver=liblinear; total time=   0.0s\n",
      "[CV] END .............C=0.3593813663804626, solver=liblinear; total time=   0.0s\n",
      "[CV] END .............C=0.3593813663804626, solver=liblinear; total time=   0.0s\n",
      "[CV] END .............C=0.3593813663804626, solver=liblinear; total time=   0.0s\n",
      "[CV] END .............C=0.3593813663804626, solver=liblinear; total time=   0.0s\n",
      "[CV] END ........................C=10000.0, solver=liblinear; total time=   0.0s\n",
      "[CV] END ........................C=10000.0, solver=liblinear; total time=   0.0s\n",
      "[CV] END ........................C=10000.0, solver=liblinear; total time=   0.0s\n",
      "[CV] END ........................C=10000.0, solver=liblinear; total time=   0.0s\n",
      "[CV] END ........................C=10000.0, solver=liblinear; total time=   0.0s\n",
      "[CV] END ...............C=0.005994842503189409, solver=lbfgs; total time=   0.0s\n",
      "[CV] END ...............C=0.005994842503189409, solver=lbfgs; total time=   0.1s\n",
      "[CV] END ...............C=0.005994842503189409, solver=lbfgs; total time=   0.0s\n",
      "[CV] END ...............C=0.005994842503189409, solver=lbfgs; total time=   0.1s\n",
      "[CV] END ...............C=0.005994842503189409, solver=lbfgs; total time=   0.1s\n"
     ]
    },
    {
     "name": "stderr",
     "output_type": "stream",
     "text": [
      "C:\\Users\\Bustati\\AppData\\Roaming\\Python\\Python311\\site-packages\\sklearn\\linear_model\\_logistic.py:460: ConvergenceWarning: lbfgs failed to converge (status=1):\n",
      "STOP: TOTAL NO. of ITERATIONS REACHED LIMIT.\n",
      "\n",
      "Increase the number of iterations (max_iter) or scale the data as shown in:\n",
      "    https://scikit-learn.org/stable/modules/preprocessing.html\n",
      "Please also refer to the documentation for alternative solver options:\n",
      "    https://scikit-learn.org/stable/modules/linear_model.html#logistic-regression\n",
      "  n_iter_i = _check_optimize_result(\n"
     ]
    },
    {
     "name": "stdout",
     "output_type": "stream",
     "text": [
      "linear regression best params{'solver': 'liblinear', 'C': 2.782559402207126}\n",
      "Fitting 5 folds for each of 5 candidates, totalling 25 fits\n",
      "[CV] END ......C=0.03162277660168379, gamma=0.01, kernel=rbf; total time=  10.7s\n",
      "[CV] END ......C=0.03162277660168379, gamma=0.01, kernel=rbf; total time=   9.8s\n",
      "[CV] END ......C=0.03162277660168379, gamma=0.01, kernel=rbf; total time=   9.7s\n",
      "[CV] END ......C=0.03162277660168379, gamma=0.01, kernel=rbf; total time=  10.2s\n",
      "[CV] END ......C=0.03162277660168379, gamma=0.01, kernel=rbf; total time=  11.7s\n",
      "[CV] END ......C=0.31622776601683794, gamma=10.0, kernel=rbf; total time=  13.3s\n",
      "[CV] END ......C=0.31622776601683794, gamma=10.0, kernel=rbf; total time=  10.8s\n",
      "[CV] END ......C=0.31622776601683794, gamma=10.0, kernel=rbf; total time=  10.9s\n",
      "[CV] END ......C=0.31622776601683794, gamma=10.0, kernel=rbf; total time=  10.4s\n",
      "[CV] END ......C=0.31622776601683794, gamma=10.0, kernel=rbf; total time=  11.4s\n",
      "[CV] END ..C=0.31622776601683794, gamma=0.001, kernel=linear; total time=12.3min\n",
      "[CV] END ..C=0.31622776601683794, gamma=0.001, kernel=linear; total time= 7.9min\n",
      "[CV] END ..C=0.31622776601683794, gamma=0.001, kernel=linear; total time= 6.8min\n",
      "[CV] END ..C=0.31622776601683794, gamma=0.001, kernel=linear; total time= 7.2min\n",
      "[CV] END ..C=0.31622776601683794, gamma=0.001, kernel=linear; total time= 7.8min\n",
      "[CV] END .......................C=1.0, gamma=0.1, kernel=rbf; total time=   6.7s\n",
      "[CV] END .......................C=1.0, gamma=0.1, kernel=rbf; total time=   6.8s\n",
      "[CV] END .......................C=1.0, gamma=0.1, kernel=rbf; total time=   8.6s\n",
      "[CV] END .......................C=1.0, gamma=0.1, kernel=rbf; total time=   7.5s\n",
      "[CV] END .......................C=1.0, gamma=0.1, kernel=rbf; total time=   7.2s\n",
      "[CV] END .......C=0.03162277660168379, gamma=1.0, kernel=rbf; total time=   6.4s\n",
      "[CV] END .......C=0.03162277660168379, gamma=1.0, kernel=rbf; total time=   6.9s\n",
      "[CV] END .......C=0.03162277660168379, gamma=1.0, kernel=rbf; total time=   6.8s\n",
      "[CV] END .......C=0.03162277660168379, gamma=1.0, kernel=rbf; total time=   6.6s\n",
      "[CV] END .......C=0.03162277660168379, gamma=1.0, kernel=rbf; total time=   6.7s\n",
      "SVM best params{'kernel': 'linear', 'gamma': 0.001, 'C': 0.31622776601683794}\n",
      "Fitting 5 folds for each of 15 candidates, totalling 75 fits\n",
      "[CV] END max_depth=3, min_samples_leaf=10, min_samples_split=16; total time=   0.0s\n",
      "[CV] END max_depth=3, min_samples_leaf=10, min_samples_split=16; total time=   0.0s\n",
      "[CV] END max_depth=3, min_samples_leaf=10, min_samples_split=16; total time=   0.0s\n",
      "[CV] END max_depth=3, min_samples_leaf=10, min_samples_split=16; total time=   0.0s\n",
      "[CV] END max_depth=3, min_samples_leaf=10, min_samples_split=16; total time=   0.0s\n",
      "[CV] END max_depth=16, min_samples_leaf=15, min_samples_split=10; total time=   0.1s\n",
      "[CV] END max_depth=16, min_samples_leaf=15, min_samples_split=10; total time=   0.0s\n",
      "[CV] END max_depth=16, min_samples_leaf=15, min_samples_split=10; total time=   0.0s\n",
      "[CV] END max_depth=16, min_samples_leaf=15, min_samples_split=10; total time=   0.0s\n",
      "[CV] END max_depth=16, min_samples_leaf=15, min_samples_split=10; total time=   0.0s\n",
      "[CV] END max_depth=16, min_samples_leaf=6, min_samples_split=8; total time=   0.0s\n",
      "[CV] END max_depth=16, min_samples_leaf=6, min_samples_split=8; total time=   0.0s\n",
      "[CV] END max_depth=16, min_samples_leaf=6, min_samples_split=8; total time=   0.0s\n",
      "[CV] END max_depth=16, min_samples_leaf=6, min_samples_split=8; total time=   0.0s\n",
      "[CV] END max_depth=16, min_samples_leaf=6, min_samples_split=8; total time=   0.0s\n",
      "[CV] END max_depth=16, min_samples_leaf=4, min_samples_split=9; total time=   0.0s\n",
      "[CV] END max_depth=16, min_samples_leaf=4, min_samples_split=9; total time=   0.0s\n",
      "[CV] END max_depth=16, min_samples_leaf=4, min_samples_split=9; total time=   0.0s\n",
      "[CV] END max_depth=16, min_samples_leaf=4, min_samples_split=9; total time=   0.0s\n",
      "[CV] END max_depth=16, min_samples_leaf=4, min_samples_split=9; total time=   0.0s\n",
      "[CV] END max_depth=12, min_samples_leaf=1, min_samples_split=12; total time=   0.0s\n",
      "[CV] END max_depth=12, min_samples_leaf=1, min_samples_split=12; total time=   0.0s\n",
      "[CV] END max_depth=12, min_samples_leaf=1, min_samples_split=12; total time=   0.0s\n",
      "[CV] END max_depth=12, min_samples_leaf=1, min_samples_split=12; total time=   0.0s\n",
      "[CV] END max_depth=12, min_samples_leaf=1, min_samples_split=12; total time=   0.0s\n",
      "[CV] END max_depth=10, min_samples_leaf=1, min_samples_split=16; total time=   0.0s\n",
      "[CV] END max_depth=10, min_samples_leaf=1, min_samples_split=16; total time=   0.0s\n",
      "[CV] END max_depth=10, min_samples_leaf=1, min_samples_split=16; total time=   0.0s\n",
      "[CV] END max_depth=10, min_samples_leaf=1, min_samples_split=16; total time=   0.0s\n",
      "[CV] END max_depth=10, min_samples_leaf=1, min_samples_split=16; total time=   0.0s\n",
      "[CV] END max_depth=17, min_samples_leaf=15, min_samples_split=12; total time=   0.0s\n",
      "[CV] END max_depth=17, min_samples_leaf=15, min_samples_split=12; total time=   0.0s\n",
      "[CV] END max_depth=17, min_samples_leaf=15, min_samples_split=12; total time=   0.0s\n",
      "[CV] END max_depth=17, min_samples_leaf=15, min_samples_split=12; total time=   0.0s\n",
      "[CV] END max_depth=17, min_samples_leaf=15, min_samples_split=12; total time=   0.0s\n",
      "[CV] END max_depth=19, min_samples_leaf=7, min_samples_split=3; total time=   0.0s\n",
      "[CV] END max_depth=19, min_samples_leaf=7, min_samples_split=3; total time=   0.0s\n",
      "[CV] END max_depth=19, min_samples_leaf=7, min_samples_split=3; total time=   0.0s\n",
      "[CV] END max_depth=19, min_samples_leaf=7, min_samples_split=3; total time=   0.0s\n",
      "[CV] END max_depth=19, min_samples_leaf=7, min_samples_split=3; total time=   0.0s\n",
      "[CV] END max_depth=2, min_samples_leaf=7, min_samples_split=18; total time=   0.0s\n",
      "[CV] END max_depth=2, min_samples_leaf=7, min_samples_split=18; total time=   0.0s\n",
      "[CV] END max_depth=2, min_samples_leaf=7, min_samples_split=18; total time=   0.0s\n",
      "[CV] END max_depth=2, min_samples_leaf=7, min_samples_split=18; total time=   0.0s\n",
      "[CV] END max_depth=2, min_samples_leaf=7, min_samples_split=18; total time=   0.0s\n",
      "[CV] END max_depth=16, min_samples_leaf=12, min_samples_split=8; total time=   0.0s\n",
      "[CV] END max_depth=16, min_samples_leaf=12, min_samples_split=8; total time=   0.0s\n",
      "[CV] END max_depth=16, min_samples_leaf=12, min_samples_split=8; total time=   0.0s\n",
      "[CV] END max_depth=16, min_samples_leaf=12, min_samples_split=8; total time=   0.0s\n",
      "[CV] END max_depth=16, min_samples_leaf=12, min_samples_split=8; total time=   0.0s\n",
      "[CV] END max_depth=13, min_samples_leaf=18, min_samples_split=18; total time=   0.0s\n",
      "[CV] END max_depth=13, min_samples_leaf=18, min_samples_split=18; total time=   0.0s\n",
      "[CV] END max_depth=13, min_samples_leaf=18, min_samples_split=18; total time=   0.0s\n",
      "[CV] END max_depth=13, min_samples_leaf=18, min_samples_split=18; total time=   0.0s\n",
      "[CV] END max_depth=13, min_samples_leaf=18, min_samples_split=18; total time=   0.0s\n",
      "[CV] END max_depth=17, min_samples_leaf=6, min_samples_split=18; total time=   0.0s\n",
      "[CV] END max_depth=17, min_samples_leaf=6, min_samples_split=18; total time=   0.0s\n",
      "[CV] END max_depth=17, min_samples_leaf=6, min_samples_split=18; total time=   0.0s\n",
      "[CV] END max_depth=17, min_samples_leaf=6, min_samples_split=18; total time=   0.0s\n",
      "[CV] END max_depth=17, min_samples_leaf=6, min_samples_split=18; total time=   0.0s\n",
      "[CV] END max_depth=19, min_samples_leaf=5, min_samples_split=5; total time=   0.0s\n",
      "[CV] END max_depth=19, min_samples_leaf=5, min_samples_split=5; total time=   0.0s\n",
      "[CV] END max_depth=19, min_samples_leaf=5, min_samples_split=5; total time=   0.0s\n",
      "[CV] END max_depth=19, min_samples_leaf=5, min_samples_split=5; total time=   0.0s\n",
      "[CV] END max_depth=19, min_samples_leaf=5, min_samples_split=5; total time=   0.0s\n",
      "[CV] END max_depth=11, min_samples_leaf=2, min_samples_split=8; total time=   0.0s\n",
      "[CV] END max_depth=11, min_samples_leaf=2, min_samples_split=8; total time=   0.0s\n",
      "[CV] END max_depth=11, min_samples_leaf=2, min_samples_split=8; total time=   0.0s\n",
      "[CV] END max_depth=11, min_samples_leaf=2, min_samples_split=8; total time=   0.0s\n",
      "[CV] END max_depth=11, min_samples_leaf=2, min_samples_split=8; total time=   0.0s\n",
      "[CV] END max_depth=10, min_samples_leaf=6, min_samples_split=5; total time=   0.0s\n",
      "[CV] END max_depth=10, min_samples_leaf=6, min_samples_split=5; total time=   0.0s\n",
      "[CV] END max_depth=10, min_samples_leaf=6, min_samples_split=5; total time=   0.0s\n",
      "[CV] END max_depth=10, min_samples_leaf=6, min_samples_split=5; total time=   0.0s\n",
      "[CV] END max_depth=10, min_samples_leaf=6, min_samples_split=5; total time=   0.0s\n",
      "Decision tree best params{'min_samples_split': 18, 'min_samples_leaf': 18, 'max_depth': 13}\n",
      "Fitting 5 folds for each of 15 candidates, totalling 75 fits\n",
      "[CV] END max_depth=19, min_samples_leaf=7, min_samples_split=7, n_estimators=20; total time=   0.4s\n",
      "[CV] END max_depth=19, min_samples_leaf=7, min_samples_split=7, n_estimators=20; total time=   0.3s\n",
      "[CV] END max_depth=19, min_samples_leaf=7, min_samples_split=7, n_estimators=20; total time=   0.4s\n",
      "[CV] END max_depth=19, min_samples_leaf=7, min_samples_split=7, n_estimators=20; total time=   0.4s\n",
      "[CV] END max_depth=19, min_samples_leaf=7, min_samples_split=7, n_estimators=20; total time=   0.4s\n",
      "[CV] END max_depth=6, min_samples_leaf=3, min_samples_split=11, n_estimators=10; total time=   0.0s\n",
      "[CV] END max_depth=6, min_samples_leaf=3, min_samples_split=11, n_estimators=10; total time=   0.0s\n",
      "[CV] END max_depth=6, min_samples_leaf=3, min_samples_split=11, n_estimators=10; total time=   0.0s\n",
      "[CV] END max_depth=6, min_samples_leaf=3, min_samples_split=11, n_estimators=10; total time=   0.1s\n",
      "[CV] END max_depth=6, min_samples_leaf=3, min_samples_split=11, n_estimators=10; total time=   0.0s\n",
      "[CV] END max_depth=1, min_samples_leaf=6, min_samples_split=7, n_estimators=60; total time=   0.2s\n",
      "[CV] END max_depth=1, min_samples_leaf=6, min_samples_split=7, n_estimators=60; total time=   0.2s\n",
      "[CV] END max_depth=1, min_samples_leaf=6, min_samples_split=7, n_estimators=60; total time=   0.2s\n",
      "[CV] END max_depth=1, min_samples_leaf=6, min_samples_split=7, n_estimators=60; total time=   0.1s\n",
      "[CV] END max_depth=1, min_samples_leaf=6, min_samples_split=7, n_estimators=60; total time=   0.2s\n",
      "[CV] END max_depth=13, min_samples_leaf=8, min_samples_split=11, n_estimators=80; total time=   1.5s\n",
      "[CV] END max_depth=13, min_samples_leaf=8, min_samples_split=11, n_estimators=80; total time=   1.7s\n",
      "[CV] END max_depth=13, min_samples_leaf=8, min_samples_split=11, n_estimators=80; total time=   1.6s\n",
      "[CV] END max_depth=13, min_samples_leaf=8, min_samples_split=11, n_estimators=80; total time=   1.8s\n",
      "[CV] END max_depth=13, min_samples_leaf=8, min_samples_split=11, n_estimators=80; total time=   1.6s\n",
      "[CV] END max_depth=18, min_samples_leaf=13, min_samples_split=10, n_estimators=20; total time=   0.3s\n",
      "[CV] END max_depth=18, min_samples_leaf=13, min_samples_split=10, n_estimators=20; total time=   0.3s\n",
      "[CV] END max_depth=18, min_samples_leaf=13, min_samples_split=10, n_estimators=20; total time=   0.3s\n",
      "[CV] END max_depth=18, min_samples_leaf=13, min_samples_split=10, n_estimators=20; total time=   0.3s\n",
      "[CV] END max_depth=18, min_samples_leaf=13, min_samples_split=10, n_estimators=20; total time=   0.3s\n",
      "[CV] END max_depth=15, min_samples_leaf=11, min_samples_split=4, n_estimators=30; total time=   0.5s\n",
      "[CV] END max_depth=15, min_samples_leaf=11, min_samples_split=4, n_estimators=30; total time=   0.5s\n",
      "[CV] END max_depth=15, min_samples_leaf=11, min_samples_split=4, n_estimators=30; total time=   0.7s\n",
      "[CV] END max_depth=15, min_samples_leaf=11, min_samples_split=4, n_estimators=30; total time=   0.6s\n",
      "[CV] END max_depth=15, min_samples_leaf=11, min_samples_split=4, n_estimators=30; total time=   0.6s\n",
      "[CV] END max_depth=4, min_samples_leaf=13, min_samples_split=13, n_estimators=80; total time=   0.7s\n",
      "[CV] END max_depth=4, min_samples_leaf=13, min_samples_split=13, n_estimators=80; total time=   0.7s\n",
      "[CV] END max_depth=4, min_samples_leaf=13, min_samples_split=13, n_estimators=80; total time=   0.9s\n",
      "[CV] END max_depth=4, min_samples_leaf=13, min_samples_split=13, n_estimators=80; total time=   0.7s\n",
      "[CV] END max_depth=4, min_samples_leaf=13, min_samples_split=13, n_estimators=80; total time=   0.7s\n",
      "[CV] END max_depth=18, min_samples_leaf=16, min_samples_split=16, n_estimators=50; total time=   0.8s\n",
      "[CV] END max_depth=18, min_samples_leaf=16, min_samples_split=16, n_estimators=50; total time=   0.8s\n",
      "[CV] END max_depth=18, min_samples_leaf=16, min_samples_split=16, n_estimators=50; total time=   0.8s\n",
      "[CV] END max_depth=18, min_samples_leaf=16, min_samples_split=16, n_estimators=50; total time=   0.8s\n",
      "[CV] END max_depth=18, min_samples_leaf=16, min_samples_split=16, n_estimators=50; total time=   0.8s\n",
      "[CV] END max_depth=3, min_samples_leaf=1, min_samples_split=14, n_estimators=20; total time=   0.1s\n",
      "[CV] END max_depth=3, min_samples_leaf=1, min_samples_split=14, n_estimators=20; total time=   0.1s\n",
      "[CV] END max_depth=3, min_samples_leaf=1, min_samples_split=14, n_estimators=20; total time=   0.1s\n",
      "[CV] END max_depth=3, min_samples_leaf=1, min_samples_split=14, n_estimators=20; total time=   0.1s\n",
      "[CV] END max_depth=3, min_samples_leaf=1, min_samples_split=14, n_estimators=20; total time=   0.1s\n",
      "[CV] END max_depth=6, min_samples_leaf=10, min_samples_split=2, n_estimators=30; total time=   0.4s\n",
      "[CV] END max_depth=6, min_samples_leaf=10, min_samples_split=2, n_estimators=30; total time=   0.3s\n",
      "[CV] END max_depth=6, min_samples_leaf=10, min_samples_split=2, n_estimators=30; total time=   0.3s\n",
      "[CV] END max_depth=6, min_samples_leaf=10, min_samples_split=2, n_estimators=30; total time=   0.4s\n",
      "[CV] END max_depth=6, min_samples_leaf=10, min_samples_split=2, n_estimators=30; total time=   0.3s\n",
      "[CV] END max_depth=13, min_samples_leaf=2, min_samples_split=12, n_estimators=70; total time=   1.6s\n",
      "[CV] END max_depth=13, min_samples_leaf=2, min_samples_split=12, n_estimators=70; total time=   1.6s\n",
      "[CV] END max_depth=13, min_samples_leaf=2, min_samples_split=12, n_estimators=70; total time=   1.6s\n",
      "[CV] END max_depth=13, min_samples_leaf=2, min_samples_split=12, n_estimators=70; total time=   1.8s\n",
      "[CV] END max_depth=13, min_samples_leaf=2, min_samples_split=12, n_estimators=70; total time=   2.0s\n",
      "[CV] END max_depth=8, min_samples_leaf=3, min_samples_split=12, n_estimators=30; total time=   0.5s\n",
      "[CV] END max_depth=8, min_samples_leaf=3, min_samples_split=12, n_estimators=30; total time=   0.6s\n",
      "[CV] END max_depth=8, min_samples_leaf=3, min_samples_split=12, n_estimators=30; total time=   0.6s\n",
      "[CV] END max_depth=8, min_samples_leaf=3, min_samples_split=12, n_estimators=30; total time=   0.5s\n",
      "[CV] END max_depth=8, min_samples_leaf=3, min_samples_split=12, n_estimators=30; total time=   0.4s\n",
      "[CV] END max_depth=16, min_samples_leaf=7, min_samples_split=7, n_estimators=50; total time=   1.1s\n",
      "[CV] END max_depth=16, min_samples_leaf=7, min_samples_split=7, n_estimators=50; total time=   0.9s\n",
      "[CV] END max_depth=16, min_samples_leaf=7, min_samples_split=7, n_estimators=50; total time=   1.0s\n",
      "[CV] END max_depth=16, min_samples_leaf=7, min_samples_split=7, n_estimators=50; total time=   1.0s\n",
      "[CV] END max_depth=16, min_samples_leaf=7, min_samples_split=7, n_estimators=50; total time=   1.0s\n",
      "[CV] END max_depth=15, min_samples_leaf=7, min_samples_split=9, n_estimators=50; total time=   1.0s\n",
      "[CV] END max_depth=15, min_samples_leaf=7, min_samples_split=9, n_estimators=50; total time=   1.0s\n",
      "[CV] END max_depth=15, min_samples_leaf=7, min_samples_split=9, n_estimators=50; total time=   1.0s\n",
      "[CV] END max_depth=15, min_samples_leaf=7, min_samples_split=9, n_estimators=50; total time=   1.0s\n",
      "[CV] END max_depth=15, min_samples_leaf=7, min_samples_split=9, n_estimators=50; total time=   1.0s\n",
      "[CV] END max_depth=6, min_samples_leaf=4, min_samples_split=18, n_estimators=40; total time=   0.5s\n",
      "[CV] END max_depth=6, min_samples_leaf=4, min_samples_split=18, n_estimators=40; total time=   0.5s\n",
      "[CV] END max_depth=6, min_samples_leaf=4, min_samples_split=18, n_estimators=40; total time=   0.4s\n",
      "[CV] END max_depth=6, min_samples_leaf=4, min_samples_split=18, n_estimators=40; total time=   0.5s\n",
      "[CV] END max_depth=6, min_samples_leaf=4, min_samples_split=18, n_estimators=40; total time=   0.4s\n",
      "linear regression best params{'n_estimators': 30, 'min_samples_split': 4, 'min_samples_leaf': 11, 'max_depth': 15}\n"
     ]
    }
   ],
   "source": [
    "from sklearn.model_selection import RandomizedSearchCV\n",
    "from sklearn.linear_model import LogisticRegression\n",
    "from sklearn.svm import SVC\n",
    "from sklearn.tree import DecisionTreeClassifier\n",
    "from sklearn.ensemble import RandomForestClassifier\n",
    "from joblib import dump\n",
    "logistic_regression_parameters = {\n",
    "    'C': np.logspace(-4, 4, 10),\n",
    "    'solver': ['lbfgs', 'liblinear']\n",
    "}\n",
    "\n",
    "svm_parameters = {\n",
    "    'C': np.logspace(-2, 0, 5),\n",
    "    'kernel': ['linear', 'rbf'],\n",
    "    'gamma': np.logspace(-3, 1, 5)\n",
    "}\n",
    "\n",
    "decision_tree_parameters = {\n",
    "    'max_depth': np.arange(1, 20),\n",
    "    'min_samples_split': np.arange(2, 20),\n",
    "    'min_samples_leaf': np.arange(1, 20)\n",
    "}\n",
    "\n",
    "random_forest_parameters = {\n",
    "    'n_estimators': np.arange(10, 100, 10),\n",
    "    'max_depth': np.arange(1, 20),\n",
    "    'min_samples_split': np.arange(2, 20),\n",
    "    'min_samples_leaf': np.arange(1, 20)\n",
    "}\n",
    "\n",
    "\n",
    "# Create a list of algorithms\n",
    "algorithms = [LogisticRegression(), SVC(), DecisionTreeClassifier(), RandomForestClassifier()]\n",
    "\n",
    "# Create a list of parameters\n",
    "parameters = [logistic_regression_parameters, svm_parameters, decision_tree_parameters, random_forest_parameters]\n",
    "\n",
    "models_accuracy={}\n",
    "model_test_accuracy = {}\n",
    "\n",
    "# Create a RandomizedSearchCV object\n",
    "logistic_regression_model = RandomizedSearchCV(algorithms[0], parameters[0], cv=5, n_iter=15, random_state=42,verbose=2)\n",
    "# Fit the model to the data\n",
    "logistic_regression_model.fit(transformed_data,train_y)\n",
    "# save the best model \n",
    "dump(logistic_regression_model.best_estimator_,\"logistic_regression_base.joblib\")\n",
    "models_accuracy[\"logistic_regression\"]=logistic_regression_model.score(transformed_data,train_y)\n",
    "model_test_accuracy[\"logistic_regression\"] = logistic_regression_model.score(transformed_test,test_y)\n",
    "\n",
    "\n",
    "# Print the best parameters\n",
    "print(f\"linear regression best params{logistic_regression_model.best_params_}\")\n",
    "# Create a RandomizedSearchCV object\n",
    "SVM_model = RandomizedSearchCV(algorithms[1], parameters[1], cv=5, n_iter=5, random_state=42,verbose=2)\n",
    "# Fit the model to the data\n",
    "SVM_model.fit(transformed_data,train_y)\n",
    "dump(SVM_model.best_estimator_,\"svm_base.joblib\")\n",
    "models_accuracy[\"SVM\"]=SVM_model.score(transformed_data,train_y)\n",
    "model_test_accuracy[\"linear_regression\"] = SVM_model.score(transformed_test,test_y)\n",
    "\n",
    "# Print the best parameters\n",
    "print(f\"SVM best params{SVM_model.best_params_}\")\n",
    "\n",
    "# Create a RandomizedSearchCV object\n",
    "tree_model = RandomizedSearchCV(\n",
    "    algorithms[2], parameters[2], cv=5, n_iter=15, random_state=42, verbose=2)\n",
    "# Fit the model to the data\n",
    "tree_model.fit(transformed_data, train_y)\n",
    "dump(tree_model,\"decision_tree_base.joblib\")\n",
    "models_accuracy[\"decision tree\"] = tree_model.score(transformed_data, train_y)\n",
    "model_test_accuracy[\"decision tree\"] = tree_model.score(\n",
    "    transformed_test, test_y)\n",
    "# Print the best parameters\n",
    "print(f\"Decision tree best params{tree_model.best_params_}\")\n",
    "\n",
    "# Create a RandomizedSearchCV object\n",
    "forest_model = RandomizedSearchCV(\n",
    "    algorithms[3], parameters[3], cv=5, n_iter=15, random_state=42, verbose=2)\n",
    "# Fit the model to the data\n",
    "forest_model.fit(transformed_data, train_y)\n",
    "dump(forest_model.best_estimator_,\"random_forest_base.joblib\")\n",
    "models_accuracy[\"forest\"] = forest_model.score(transformed_data, train_y)\n",
    "model_test_accuracy[\"forest\"] = forest_model.score(transformed_test, test_y)\n",
    "\n",
    "# Print the best parameters\n",
    "print(f\"linear regression best params{forest_model.best_params_}\")"
   ]
  },
  {
   "cell_type": "code",
   "execution_count": 39,
   "metadata": {},
   "outputs": [
    {
     "data": {
      "text/plain": [
       "{'logistic_regression': 0.7909117054932413,\n",
       " 'SVM': 0.7811331607707794,\n",
       " 'decision tree': 0.8248490077653149,\n",
       " 'forest': 0.8399482312338222}"
      ]
     },
     "execution_count": 39,
     "metadata": {},
     "output_type": "execute_result"
    }
   ],
   "source": [
    "models_accuracy"
   ]
  },
  {
   "cell_type": "code",
   "execution_count": 40,
   "metadata": {},
   "outputs": [
    {
     "data": {
      "text/plain": [
       "{'logistic_regression': 0.7763082231167338,\n",
       " 'linear_regression': 0.7607820586543991,\n",
       " 'decision tree': 0.7659574468085106,\n",
       " 'forest': 0.7883841288096607}"
      ]
     },
     "execution_count": 40,
     "metadata": {},
     "output_type": "execute_result"
    }
   ],
   "source": [
    "model_test_accuracy"
   ]
  },
  {
   "cell_type": "code",
   "execution_count": null,
   "metadata": {},
   "outputs": [],
   "source": []
  }
 ],
 "metadata": {
  "kernelspec": {
   "display_name": "Python 3",
   "language": "python",
   "name": "python3"
  },
  "language_info": {
   "codemirror_mode": {
    "name": "ipython",
    "version": 3
   },
   "file_extension": ".py",
   "mimetype": "text/x-python",
   "name": "python",
   "nbconvert_exporter": "python",
   "pygments_lexer": "ipython3",
   "version": "3.11.2"
  },
  "orig_nbformat": 4
 },
 "nbformat": 4,
 "nbformat_minor": 2
}
