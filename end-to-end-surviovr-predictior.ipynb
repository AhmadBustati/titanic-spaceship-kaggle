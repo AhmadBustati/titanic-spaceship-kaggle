{
 "cells": [
  {
   "cell_type": "markdown",
   "metadata": {},
   "source": [
    "## End to end predictor of whether someone survived or not  \n",
    "\n",
    "1. **Problem definition:**  Given information about the passengers on the titanic spaceship how accurately can the model predict their survival \n",
    "\n",
    "2. **Data:**  The data is provided by [Kaggle](https://www.kaggle.com/competitions/spaceship-titanic/data)\n",
    "\n",
    "3. **Evaluation:** The model will be evaluated on `accuracy`\n",
    "\n",
    "4. **Features:**  \n",
    "* `PassengerId`  A unique Id for each passenger. Each Id takes the form `gggg_pp` where `gggg` indicates a group the passenger is traveling with and `pp` is their number within the group. People in a group are often family members, but not always.\n",
    "\n",
    "* `HomePlanet`  The planet the passenger departed from, typically their planet of permanent residence.\n",
    "\n",
    "* `CryoSleep`  Indicates whether the passenger elected to be put into suspended animation for the duration of the voyage. Passengers in cryosleep are confined to their cabins.\n",
    "\n",
    "* `Cabin`  The cabin number where the passenger is staying. Takes the form deck/num/side, where side can be either `P` for Port or `S` for Starboard.\n",
    "\n",
    "* `Destination`  The planet the passenger will be debarking to.\n",
    "\n",
    "* `Age`  The age of the passenger.\n",
    "\n",
    "* `VIP`  Whether the passenger has paid for special VIP service during the voyage.\n",
    "\n",
    "* `RoomService`, `FoodCourt`, `ShoppingMall`, `Spa`, `VRDeck`  Amount the passenger has billed at each of the Spaceship Titanic's many luxury amenities.\n",
    "\n",
    "* `Name`  The first and last names of the passenger.\n",
    "\n",
    "* `Transported`  Whether the passenger was transported to another dimension. This is the target, the column you are trying to predict.\n"
   ]
  },
  {
   "cell_type": "code",
   "execution_count": 1,
   "metadata": {},
   "outputs": [],
   "source": [
    "import pandas as pd \n",
    "import numpy as np \n",
    "import matplotlib.pyplot as plt "
   ]
  },
  {
   "cell_type": "markdown",
   "metadata": {},
   "source": [
    "## Data exploration "
   ]
  },
  {
   "cell_type": "code",
   "execution_count": 2,
   "metadata": {},
   "outputs": [
    {
     "data": {
      "text/html": [
       "<div>\n",
       "<style scoped>\n",
       "    .dataframe tbody tr th:only-of-type {\n",
       "        vertical-align: middle;\n",
       "    }\n",
       "\n",
       "    .dataframe tbody tr th {\n",
       "        vertical-align: top;\n",
       "    }\n",
       "\n",
       "    .dataframe thead th {\n",
       "        text-align: right;\n",
       "    }\n",
       "</style>\n",
       "<table border=\"1\" class=\"dataframe\">\n",
       "  <thead>\n",
       "    <tr style=\"text-align: right;\">\n",
       "      <th></th>\n",
       "      <th>PassengerId</th>\n",
       "      <th>HomePlanet</th>\n",
       "      <th>CryoSleep</th>\n",
       "      <th>Cabin</th>\n",
       "      <th>Destination</th>\n",
       "      <th>Age</th>\n",
       "      <th>VIP</th>\n",
       "      <th>RoomService</th>\n",
       "      <th>FoodCourt</th>\n",
       "      <th>ShoppingMall</th>\n",
       "      <th>Spa</th>\n",
       "      <th>VRDeck</th>\n",
       "      <th>Name</th>\n",
       "      <th>Transported</th>\n",
       "    </tr>\n",
       "  </thead>\n",
       "  <tbody>\n",
       "    <tr>\n",
       "      <th>0</th>\n",
       "      <td>0001_01</td>\n",
       "      <td>Europa</td>\n",
       "      <td>False</td>\n",
       "      <td>B/0/P</td>\n",
       "      <td>TRAPPIST-1e</td>\n",
       "      <td>39.0</td>\n",
       "      <td>False</td>\n",
       "      <td>0.0</td>\n",
       "      <td>0.0</td>\n",
       "      <td>0.0</td>\n",
       "      <td>0.0</td>\n",
       "      <td>0.0</td>\n",
       "      <td>Maham Ofracculy</td>\n",
       "      <td>False</td>\n",
       "    </tr>\n",
       "    <tr>\n",
       "      <th>1</th>\n",
       "      <td>0002_01</td>\n",
       "      <td>Earth</td>\n",
       "      <td>False</td>\n",
       "      <td>F/0/S</td>\n",
       "      <td>TRAPPIST-1e</td>\n",
       "      <td>24.0</td>\n",
       "      <td>False</td>\n",
       "      <td>109.0</td>\n",
       "      <td>9.0</td>\n",
       "      <td>25.0</td>\n",
       "      <td>549.0</td>\n",
       "      <td>44.0</td>\n",
       "      <td>Juanna Vines</td>\n",
       "      <td>True</td>\n",
       "    </tr>\n",
       "    <tr>\n",
       "      <th>2</th>\n",
       "      <td>0003_01</td>\n",
       "      <td>Europa</td>\n",
       "      <td>False</td>\n",
       "      <td>A/0/S</td>\n",
       "      <td>TRAPPIST-1e</td>\n",
       "      <td>58.0</td>\n",
       "      <td>True</td>\n",
       "      <td>43.0</td>\n",
       "      <td>3576.0</td>\n",
       "      <td>0.0</td>\n",
       "      <td>6715.0</td>\n",
       "      <td>49.0</td>\n",
       "      <td>Altark Susent</td>\n",
       "      <td>False</td>\n",
       "    </tr>\n",
       "    <tr>\n",
       "      <th>3</th>\n",
       "      <td>0003_02</td>\n",
       "      <td>Europa</td>\n",
       "      <td>False</td>\n",
       "      <td>A/0/S</td>\n",
       "      <td>TRAPPIST-1e</td>\n",
       "      <td>33.0</td>\n",
       "      <td>False</td>\n",
       "      <td>0.0</td>\n",
       "      <td>1283.0</td>\n",
       "      <td>371.0</td>\n",
       "      <td>3329.0</td>\n",
       "      <td>193.0</td>\n",
       "      <td>Solam Susent</td>\n",
       "      <td>False</td>\n",
       "    </tr>\n",
       "    <tr>\n",
       "      <th>4</th>\n",
       "      <td>0004_01</td>\n",
       "      <td>Earth</td>\n",
       "      <td>False</td>\n",
       "      <td>F/1/S</td>\n",
       "      <td>TRAPPIST-1e</td>\n",
       "      <td>16.0</td>\n",
       "      <td>False</td>\n",
       "      <td>303.0</td>\n",
       "      <td>70.0</td>\n",
       "      <td>151.0</td>\n",
       "      <td>565.0</td>\n",
       "      <td>2.0</td>\n",
       "      <td>Willy Santantines</td>\n",
       "      <td>True</td>\n",
       "    </tr>\n",
       "  </tbody>\n",
       "</table>\n",
       "</div>"
      ],
      "text/plain": [
       "  PassengerId HomePlanet CryoSleep  Cabin  Destination   Age    VIP  \\\n",
       "0     0001_01     Europa     False  B/0/P  TRAPPIST-1e  39.0  False   \n",
       "1     0002_01      Earth     False  F/0/S  TRAPPIST-1e  24.0  False   \n",
       "2     0003_01     Europa     False  A/0/S  TRAPPIST-1e  58.0   True   \n",
       "3     0003_02     Europa     False  A/0/S  TRAPPIST-1e  33.0  False   \n",
       "4     0004_01      Earth     False  F/1/S  TRAPPIST-1e  16.0  False   \n",
       "\n",
       "   RoomService  FoodCourt  ShoppingMall     Spa  VRDeck               Name  \\\n",
       "0          0.0        0.0           0.0     0.0     0.0    Maham Ofracculy   \n",
       "1        109.0        9.0          25.0   549.0    44.0       Juanna Vines   \n",
       "2         43.0     3576.0           0.0  6715.0    49.0      Altark Susent   \n",
       "3          0.0     1283.0         371.0  3329.0   193.0       Solam Susent   \n",
       "4        303.0       70.0         151.0   565.0     2.0  Willy Santantines   \n",
       "\n",
       "   Transported  \n",
       "0        False  \n",
       "1         True  \n",
       "2        False  \n",
       "3        False  \n",
       "4         True  "
      ]
     },
     "execution_count": 2,
     "metadata": {},
     "output_type": "execute_result"
    }
   ],
   "source": [
    "titanic_df = pd.read_csv(\"train.csv\")\n",
    "titanic_df.head()"
   ]
  },
  {
   "cell_type": "code",
   "execution_count": 3,
   "metadata": {},
   "outputs": [
    {
     "data": {
      "text/plain": [
       "(8693, 14)"
      ]
     },
     "execution_count": 3,
     "metadata": {},
     "output_type": "execute_result"
    }
   ],
   "source": [
    "titanic_df.shape"
   ]
  },
  {
   "cell_type": "code",
   "execution_count": 4,
   "metadata": {},
   "outputs": [
    {
     "name": "stdout",
     "output_type": "stream",
     "text": [
      "<class 'pandas.core.frame.DataFrame'>\n",
      "RangeIndex: 8693 entries, 0 to 8692\n",
      "Data columns (total 14 columns):\n",
      " #   Column        Non-Null Count  Dtype  \n",
      "---  ------        --------------  -----  \n",
      " 0   PassengerId   8693 non-null   object \n",
      " 1   HomePlanet    8492 non-null   object \n",
      " 2   CryoSleep     8476 non-null   object \n",
      " 3   Cabin         8494 non-null   object \n",
      " 4   Destination   8511 non-null   object \n",
      " 5   Age           8514 non-null   float64\n",
      " 6   VIP           8490 non-null   object \n",
      " 7   RoomService   8512 non-null   float64\n",
      " 8   FoodCourt     8510 non-null   float64\n",
      " 9   ShoppingMall  8485 non-null   float64\n",
      " 10  Spa           8510 non-null   float64\n",
      " 11  VRDeck        8505 non-null   float64\n",
      " 12  Name          8493 non-null   object \n",
      " 13  Transported   8693 non-null   bool   \n",
      "dtypes: bool(1), float64(6), object(7)\n",
      "memory usage: 891.5+ KB\n"
     ]
    }
   ],
   "source": [
    "titanic_df.info()"
   ]
  },
  {
   "cell_type": "code",
   "execution_count": 5,
   "metadata": {},
   "outputs": [
    {
     "data": {
      "image/png": "[encoded data removed]",
      "text/plain": [
       "<Figure size 1000x700 with 6 Axes>"
      ]
     },
     "metadata": {},
     "output_type": "display_data"
    }
   ],
   "source": [
    "titanic_df.hist(figsize=(10,7));"
   ]
  },
  {
   "cell_type": "code",
   "execution_count": 6,
   "metadata": {},
   "outputs": [
    {
     "data": {
      "text/html": [
       "<div>\n",
       "<style scoped>\n",
       "    .dataframe tbody tr th:only-of-type {\n",
       "        vertical-align: middle;\n",
       "    }\n",
       "\n",
       "    .dataframe tbody tr th {\n",
       "        vertical-align: top;\n",
       "    }\n",
       "\n",
       "    .dataframe thead th {\n",
       "        text-align: right;\n",
       "    }\n",
       "</style>\n",
       "<table border=\"1\" class=\"dataframe\">\n",
       "  <thead>\n",
       "    <tr style=\"text-align: right;\">\n",
       "      <th></th>\n",
       "      <th>Age</th>\n",
       "      <th>RoomService</th>\n",
       "      <th>FoodCourt</th>\n",
       "      <th>ShoppingMall</th>\n",
       "      <th>Spa</th>\n",
       "      <th>VRDeck</th>\n",
       "    </tr>\n",
       "  </thead>\n",
       "  <tbody>\n",
       "    <tr>\n",
       "      <th>count</th>\n",
       "      <td>8514.000000</td>\n",
       "      <td>8512.000000</td>\n",
       "      <td>8510.000000</td>\n",
       "      <td>8485.000000</td>\n",
       "      <td>8510.000000</td>\n",
       "      <td>8505.000000</td>\n",
       "    </tr>\n",
       "    <tr>\n",
       "      <th>mean</th>\n",
       "      <td>28.827930</td>\n",
       "      <td>224.687617</td>\n",
       "      <td>458.077203</td>\n",
       "      <td>173.729169</td>\n",
       "      <td>311.138778</td>\n",
       "      <td>304.854791</td>\n",
       "    </tr>\n",
       "    <tr>\n",
       "      <th>std</th>\n",
       "      <td>14.489021</td>\n",
       "      <td>666.717663</td>\n",
       "      <td>1611.489240</td>\n",
       "      <td>604.696458</td>\n",
       "      <td>1136.705535</td>\n",
       "      <td>1145.717189</td>\n",
       "    </tr>\n",
       "    <tr>\n",
       "      <th>min</th>\n",
       "      <td>0.000000</td>\n",
       "      <td>0.000000</td>\n",
       "      <td>0.000000</td>\n",
       "      <td>0.000000</td>\n",
       "      <td>0.000000</td>\n",
       "      <td>0.000000</td>\n",
       "    </tr>\n",
       "    <tr>\n",
       "      <th>25%</th>\n",
       "      <td>19.000000</td>\n",
       "      <td>0.000000</td>\n",
       "      <td>0.000000</td>\n",
       "      <td>0.000000</td>\n",
       "      <td>0.000000</td>\n",
       "      <td>0.000000</td>\n",
       "    </tr>\n",
       "    <tr>\n",
       "      <th>50%</th>\n",
       "      <td>27.000000</td>\n",
       "      <td>0.000000</td>\n",
       "      <td>0.000000</td>\n",
       "      <td>0.000000</td>\n",
       "      <td>0.000000</td>\n",
       "      <td>0.000000</td>\n",
       "    </tr>\n",
       "    <tr>\n",
       "      <th>75%</th>\n",
       "      <td>38.000000</td>\n",
       "      <td>47.000000</td>\n",
       "      <td>76.000000</td>\n",
       "      <td>27.000000</td>\n",
       "      <td>59.000000</td>\n",
       "      <td>46.000000</td>\n",
       "    </tr>\n",
       "    <tr>\n",
       "      <th>max</th>\n",
       "      <td>79.000000</td>\n",
       "      <td>14327.000000</td>\n",
       "      <td>29813.000000</td>\n",
       "      <td>23492.000000</td>\n",
       "      <td>22408.000000</td>\n",
       "      <td>24133.000000</td>\n",
       "    </tr>\n",
       "  </tbody>\n",
       "</table>\n",
       "</div>"
      ],
      "text/plain": [
       "               Age   RoomService     FoodCourt  ShoppingMall           Spa  \\\n",
       "count  8514.000000   8512.000000   8510.000000   8485.000000   8510.000000   \n",
       "mean     28.827930    224.687617    458.077203    173.729169    311.138778   \n",
       "std      14.489021    666.717663   1611.489240    604.696458   1136.705535   \n",
       "min       0.000000      0.000000      0.000000      0.000000      0.000000   \n",
       "25%      19.000000      0.000000      0.000000      0.000000      0.000000   \n",
       "50%      27.000000      0.000000      0.000000      0.000000      0.000000   \n",
       "75%      38.000000     47.000000     76.000000     27.000000     59.000000   \n",
       "max      79.000000  14327.000000  29813.000000  23492.000000  22408.000000   \n",
       "\n",
       "             VRDeck  \n",
       "count   8505.000000  \n",
       "mean     304.854791  \n",
       "std     1145.717189  \n",
       "min        0.000000  \n",
       "25%        0.000000  \n",
       "50%        0.000000  \n",
       "75%       46.000000  \n",
       "max    24133.000000  "
      ]
     },
     "execution_count": 6,
     "metadata": {},
     "output_type": "execute_result"
    }
   ],
   "source": [
    "titanic_df.describe()"
   ]
  },
  {
   "cell_type": "code",
   "execution_count": 7,
   "metadata": {},
   "outputs": [
    {
     "data": {
      "text/plain": [
       "PassengerId     0.000000\n",
       "HomePlanet      2.312205\n",
       "CryoSleep       2.496261\n",
       "Cabin           2.289198\n",
       "Destination     2.093639\n",
       "Age             2.059128\n",
       "VIP             2.335212\n",
       "RoomService     2.082135\n",
       "FoodCourt       2.105142\n",
       "ShoppingMall    2.392730\n",
       "Spa             2.105142\n",
       "VRDeck          2.162660\n",
       "Name            2.300702\n",
       "Transported     0.000000\n",
       "dtype: float64"
      ]
     },
     "execution_count": 7,
     "metadata": {},
     "output_type": "execute_result"
    }
   ],
   "source": [
    "titanic_df.isna().sum()/len(titanic_df)*100"
   ]
  },
  {
   "cell_type": "code",
   "execution_count": 8,
   "metadata": {},
   "outputs": [
    {
     "data": {
      "text/plain": [
       "Earth     4602\n",
       "Europa    2131\n",
       "Mars      1759\n",
       "Name: HomePlanet, dtype: int64"
      ]
     },
     "execution_count": 8,
     "metadata": {},
     "output_type": "execute_result"
    }
   ],
   "source": [
    "titanic_df[\"HomePlanet\"].value_counts()"
   ]
  },
  {
   "cell_type": "code",
   "execution_count": 9,
   "metadata": {},
   "outputs": [
    {
     "data": {
      "text/plain": [
       "Text(0, 0.5, 'Count')"
      ]
     },
     "execution_count": 9,
     "metadata": {},
     "output_type": "execute_result"
    },
    {
     "data": {
      "image/png": "[encoded data removed]",
      "text/plain": [
       "<Figure size 640x480 with 1 Axes>"
      ]
     },
     "metadata": {},
     "output_type": "display_data"
    }
   ],
   "source": [
    "home_planet_value_counts = titanic_df[\"HomePlanet\"].value_counts()\n",
    "x = home_planet_value_counts.index\n",
    "height = home_planet_value_counts.values\n",
    "\n",
    "# Plot the bar graph\n",
    "plt.bar(x, height)\n",
    "plt.title(\"Bar Graph of different Home Planets \")\n",
    "plt.xlabel(\"Planet\")\n",
    "plt.ylabel(\"Count\")"
   ]
  },
  {
   "cell_type": "code",
   "execution_count": 10,
   "metadata": {},
   "outputs": [
    {
     "data": {
      "text/plain": [
       "(8693, 14)"
      ]
     },
     "execution_count": 10,
     "metadata": {},
     "output_type": "execute_result"
    }
   ],
   "source": [
    "titanic_df.shape"
   ]
  },
  {
   "cell_type": "code",
   "execution_count": 11,
   "metadata": {},
   "outputs": [
    {
     "data": {
      "text/plain": [
       "PassengerId      object\n",
       "HomePlanet       object\n",
       "CryoSleep        object\n",
       "Cabin            object\n",
       "Destination      object\n",
       "Age             float64\n",
       "VIP              object\n",
       "RoomService     float64\n",
       "FoodCourt       float64\n",
       "ShoppingMall    float64\n",
       "Spa             float64\n",
       "VRDeck          float64\n",
       "Name             object\n",
       "Transported        bool\n",
       "dtype: object"
      ]
     },
     "execution_count": 11,
     "metadata": {},
     "output_type": "execute_result"
    }
   ],
   "source": [
    "titanic_df.dtypes"
   ]
  },
  {
   "cell_type": "code",
   "execution_count": 12,
   "metadata": {},
   "outputs": [
    {
     "data": {
      "text/plain": [
       "217"
      ]
     },
     "execution_count": 12,
     "metadata": {},
     "output_type": "execute_result"
    }
   ],
   "source": [
    "titanic_df[\"CryoSleep\"].isna().sum()"
   ]
  },
  {
   "cell_type": "code",
   "execution_count": 13,
   "metadata": {},
   "outputs": [
    {
     "data": {
      "text/plain": [
       "False    5439\n",
       "True     3037\n",
       "Name: CryoSleep, dtype: int64"
      ]
     },
     "execution_count": 13,
     "metadata": {},
     "output_type": "execute_result"
    }
   ],
   "source": [
    "titanic_df[\"CryoSleep\"].value_counts()"
   ]
  },
  {
   "cell_type": "code",
   "execution_count": 14,
   "metadata": {},
   "outputs": [
    {
     "data": {
      "text/plain": [
       "199"
      ]
     },
     "execution_count": 14,
     "metadata": {},
     "output_type": "execute_result"
    }
   ],
   "source": [
    "titanic_df[\"Cabin\"].isna().sum()"
   ]
  },
  {
   "cell_type": "code",
   "execution_count": 15,
   "metadata": {},
   "outputs": [
    {
     "data": {
      "text/plain": [
       "TRAPPIST-1e      5915\n",
       "55 Cancri e      1800\n",
       "PSO J318.5-22     796\n",
       "Name: Destination, dtype: int64"
      ]
     },
     "execution_count": 15,
     "metadata": {},
     "output_type": "execute_result"
    }
   ],
   "source": [
    "titanic_df[\"Destination\"].value_counts()"
   ]
  },
  {
   "cell_type": "code",
   "execution_count": 16,
   "metadata": {},
   "outputs": [
    {
     "data": {
      "text/plain": [
       "182"
      ]
     },
     "execution_count": 16,
     "metadata": {},
     "output_type": "execute_result"
    }
   ],
   "source": [
    "titanic_df[\"Destination\"].isna().sum()"
   ]
  },
  {
   "cell_type": "code",
   "execution_count": 17,
   "metadata": {},
   "outputs": [
    {
     "data": {
      "text/plain": [
       "PassengerId      object\n",
       "HomePlanet       object\n",
       "CryoSleep        object\n",
       "Cabin            object\n",
       "Destination      object\n",
       "Age             float64\n",
       "VIP              object\n",
       "RoomService     float64\n",
       "FoodCourt       float64\n",
       "ShoppingMall    float64\n",
       "Spa             float64\n",
       "VRDeck          float64\n",
       "Name             object\n",
       "Transported        bool\n",
       "dtype: object"
      ]
     },
     "execution_count": 17,
     "metadata": {},
     "output_type": "execute_result"
    }
   ],
   "source": [
    "titanic_df.dtypes"
   ]
  },
  {
   "cell_type": "markdown",
   "metadata": {},
   "source": [
    "the `helper_functions` implements a function that returns either the number of unique values if \n",
    "the unique values are more than a cretin number or returns the unique values with their count also it returns \n",
    "the number of missing values  "
   ]
  },
  {
   "cell_type": "code",
   "execution_count": 18,
   "metadata": {},
   "outputs": [
    {
     "data": {
      "text/plain": [
       "True"
      ]
     },
     "execution_count": 18,
     "metadata": {},
     "output_type": "execute_result"
    }
   ],
   "source": [
    "titanic_df[\"VIP\"].dtype==\"object\""
   ]
  },
  {
   "cell_type": "code",
   "execution_count": 19,
   "metadata": {},
   "outputs": [
    {
     "name": "stdout",
     "output_type": "stream",
     "text": [
      "PassengerId, \t 8693\n",
      "number of missing values 0\n",
      "HomePlanet, \t Earth     4602\n",
      "Europa    2131\n",
      "Mars      1759\n",
      "Name: HomePlanet, dtype: int64\n",
      "number of missing values 201\n",
      "CryoSleep, \t False    5439\n",
      "True     3037\n",
      "Name: CryoSleep, dtype: int64\n",
      "number of missing values 217\n",
      "Cabin, \t 6561\n",
      "number of missing values 199\n",
      "Destination, \t TRAPPIST-1e      5915\n",
      "55 Cancri e      1800\n",
      "PSO J318.5-22     796\n",
      "Name: Destination, dtype: int64\n",
      "number of missing values 182\n",
      "VIP, \t False    8291\n",
      "True      199\n",
      "Name: VIP, dtype: int64\n",
      "number of missing values 203\n",
      "Name, \t 8474\n",
      "number of missing values 200\n"
     ]
    }
   ],
   "source": [
    "from helper_functions import get_value_counts_and_missing\n",
    "cat_columns = []\n",
    "cat_dict = []\n",
    "for column in titanic_df.columns:\n",
    "    if titanic_df[column].dtype ==\"object\":\n",
    "        cat_columns.append(column)\n",
    "        count,missing = get_value_counts_and_missing(titanic_df,column,5)\n",
    "        cat_dict.append([column,missing,isinstance(count,int)])\n",
    "        print(f\"{column}, \\t {count}\")\n",
    "        print(f\"number of missing values {missing}\")"
   ]
  },
  {
   "cell_type": "code",
   "execution_count": 20,
   "metadata": {},
   "outputs": [
    {
     "data": {
      "text/plain": [
       "[['PassengerId', 0, True],\n",
       " ['HomePlanet', 201, False],\n",
       " ['CryoSleep', 217, False],\n",
       " ['Cabin', 199, True],\n",
       " ['Destination', 182, False],\n",
       " ['VIP', 203, False],\n",
       " ['Name', 200, True]]"
      ]
     },
     "execution_count": 20,
     "metadata": {},
     "output_type": "execute_result"
    }
   ],
   "source": [
    "cat_dict"
   ]
  },
  {
   "cell_type": "code",
   "execution_count": 21,
   "metadata": {},
   "outputs": [
    {
     "data": {
      "text/html": [
       "<div>\n",
       "<style scoped>\n",
       "    .dataframe tbody tr th:only-of-type {\n",
       "        vertical-align: middle;\n",
       "    }\n",
       "\n",
       "    .dataframe tbody tr th {\n",
       "        vertical-align: top;\n",
       "    }\n",
       "\n",
       "    .dataframe thead th {\n",
       "        text-align: right;\n",
       "    }\n",
       "</style>\n",
       "<table border=\"1\" class=\"dataframe\">\n",
       "  <thead>\n",
       "    <tr style=\"text-align: right;\">\n",
       "      <th></th>\n",
       "      <th>column_name</th>\n",
       "      <th>missing_values</th>\n",
       "      <th>high_number_of_unique_values</th>\n",
       "    </tr>\n",
       "  </thead>\n",
       "  <tbody>\n",
       "    <tr>\n",
       "      <th>0</th>\n",
       "      <td>PassengerId</td>\n",
       "      <td>0</td>\n",
       "      <td>True</td>\n",
       "    </tr>\n",
       "    <tr>\n",
       "      <th>1</th>\n",
       "      <td>HomePlanet</td>\n",
       "      <td>201</td>\n",
       "      <td>False</td>\n",
       "    </tr>\n",
       "    <tr>\n",
       "      <th>2</th>\n",
       "      <td>CryoSleep</td>\n",
       "      <td>217</td>\n",
       "      <td>False</td>\n",
       "    </tr>\n",
       "    <tr>\n",
       "      <th>3</th>\n",
       "      <td>Cabin</td>\n",
       "      <td>199</td>\n",
       "      <td>True</td>\n",
       "    </tr>\n",
       "    <tr>\n",
       "      <th>4</th>\n",
       "      <td>Destination</td>\n",
       "      <td>182</td>\n",
       "      <td>False</td>\n",
       "    </tr>\n",
       "    <tr>\n",
       "      <th>5</th>\n",
       "      <td>VIP</td>\n",
       "      <td>203</td>\n",
       "      <td>False</td>\n",
       "    </tr>\n",
       "    <tr>\n",
       "      <th>6</th>\n",
       "      <td>Name</td>\n",
       "      <td>200</td>\n",
       "      <td>True</td>\n",
       "    </tr>\n",
       "  </tbody>\n",
       "</table>\n",
       "</div>"
      ],
      "text/plain": [
       "   column_name  missing_values  high_number_of_unique_values\n",
       "0  PassengerId               0                          True\n",
       "1   HomePlanet             201                         False\n",
       "2    CryoSleep             217                         False\n",
       "3        Cabin             199                          True\n",
       "4  Destination             182                         False\n",
       "5          VIP             203                         False\n",
       "6         Name             200                          True"
      ]
     },
     "execution_count": 21,
     "metadata": {},
     "output_type": "execute_result"
    }
   ],
   "source": [
    "categorical_info_pd = pd.DataFrame(cat_dict,columns=[\"column_name\",\"missing_values\",\"high_number_of_unique_values\"])\n",
    "categorical_info_pd"
   ]
  },
  {
   "cell_type": "code",
   "execution_count": 22,
   "metadata": {},
   "outputs": [
    {
     "data": {
      "text/plain": [
       "(8693, 14)"
      ]
     },
     "execution_count": 22,
     "metadata": {},
     "output_type": "execute_result"
    }
   ],
   "source": [
    "df_shape = titanic_df.shape\n",
    "df_shape"
   ]
  },
  {
   "cell_type": "code",
   "execution_count": 23,
   "metadata": {},
   "outputs": [
    {
     "data": {
      "text/html": [
       "<div>\n",
       "<style scoped>\n",
       "    .dataframe tbody tr th:only-of-type {\n",
       "        vertical-align: middle;\n",
       "    }\n",
       "\n",
       "    .dataframe tbody tr th {\n",
       "        vertical-align: top;\n",
       "    }\n",
       "\n",
       "    .dataframe thead th {\n",
       "        text-align: right;\n",
       "    }\n",
       "</style>\n",
       "<table border=\"1\" class=\"dataframe\">\n",
       "  <thead>\n",
       "    <tr style=\"text-align: right;\">\n",
       "      <th></th>\n",
       "      <th>Age</th>\n",
       "      <th>RoomService</th>\n",
       "      <th>FoodCourt</th>\n",
       "      <th>ShoppingMall</th>\n",
       "      <th>Spa</th>\n",
       "      <th>VRDeck</th>\n",
       "    </tr>\n",
       "  </thead>\n",
       "  <tbody>\n",
       "    <tr>\n",
       "      <th>count</th>\n",
       "      <td>8514.000000</td>\n",
       "      <td>8512.000000</td>\n",
       "      <td>8510.000000</td>\n",
       "      <td>8485.000000</td>\n",
       "      <td>8510.000000</td>\n",
       "      <td>8505.000000</td>\n",
       "    </tr>\n",
       "    <tr>\n",
       "      <th>mean</th>\n",
       "      <td>28.827930</td>\n",
       "      <td>224.687617</td>\n",
       "      <td>458.077203</td>\n",
       "      <td>173.729169</td>\n",
       "      <td>311.138778</td>\n",
       "      <td>304.854791</td>\n",
       "    </tr>\n",
       "    <tr>\n",
       "      <th>std</th>\n",
       "      <td>14.489021</td>\n",
       "      <td>666.717663</td>\n",
       "      <td>1611.489240</td>\n",
       "      <td>604.696458</td>\n",
       "      <td>1136.705535</td>\n",
       "      <td>1145.717189</td>\n",
       "    </tr>\n",
       "    <tr>\n",
       "      <th>min</th>\n",
       "      <td>0.000000</td>\n",
       "      <td>0.000000</td>\n",
       "      <td>0.000000</td>\n",
       "      <td>0.000000</td>\n",
       "      <td>0.000000</td>\n",
       "      <td>0.000000</td>\n",
       "    </tr>\n",
       "    <tr>\n",
       "      <th>25%</th>\n",
       "      <td>19.000000</td>\n",
       "      <td>0.000000</td>\n",
       "      <td>0.000000</td>\n",
       "      <td>0.000000</td>\n",
       "      <td>0.000000</td>\n",
       "      <td>0.000000</td>\n",
       "    </tr>\n",
       "    <tr>\n",
       "      <th>50%</th>\n",
       "      <td>27.000000</td>\n",
       "      <td>0.000000</td>\n",
       "      <td>0.000000</td>\n",
       "      <td>0.000000</td>\n",
       "      <td>0.000000</td>\n",
       "      <td>0.000000</td>\n",
       "    </tr>\n",
       "    <tr>\n",
       "      <th>75%</th>\n",
       "      <td>38.000000</td>\n",
       "      <td>47.000000</td>\n",
       "      <td>76.000000</td>\n",
       "      <td>27.000000</td>\n",
       "      <td>59.000000</td>\n",
       "      <td>46.000000</td>\n",
       "    </tr>\n",
       "    <tr>\n",
       "      <th>max</th>\n",
       "      <td>79.000000</td>\n",
       "      <td>14327.000000</td>\n",
       "      <td>29813.000000</td>\n",
       "      <td>23492.000000</td>\n",
       "      <td>22408.000000</td>\n",
       "      <td>24133.000000</td>\n",
       "    </tr>\n",
       "  </tbody>\n",
       "</table>\n",
       "</div>"
      ],
      "text/plain": [
       "               Age   RoomService     FoodCourt  ShoppingMall           Spa  \\\n",
       "count  8514.000000   8512.000000   8510.000000   8485.000000   8510.000000   \n",
       "mean     28.827930    224.687617    458.077203    173.729169    311.138778   \n",
       "std      14.489021    666.717663   1611.489240    604.696458   1136.705535   \n",
       "min       0.000000      0.000000      0.000000      0.000000      0.000000   \n",
       "25%      19.000000      0.000000      0.000000      0.000000      0.000000   \n",
       "50%      27.000000      0.000000      0.000000      0.000000      0.000000   \n",
       "75%      38.000000     47.000000     76.000000     27.000000     59.000000   \n",
       "max      79.000000  14327.000000  29813.000000  23492.000000  22408.000000   \n",
       "\n",
       "             VRDeck  \n",
       "count   8505.000000  \n",
       "mean     304.854791  \n",
       "std     1145.717189  \n",
       "min        0.000000  \n",
       "25%        0.000000  \n",
       "50%        0.000000  \n",
       "75%       46.000000  \n",
       "max    24133.000000  "
      ]
     },
     "execution_count": 23,
     "metadata": {},
     "output_type": "execute_result"
    }
   ],
   "source": [
    "titanic_df.describe()"
   ]
  },
  {
   "cell_type": "markdown",
   "metadata": {},
   "source": [
    "This is intended to check the number of rows that have missing values  1867 rows have one missing value 203 rows have 2 \n",
    "missing values 17 rows have 3 missing values totaling in 2087 rows with missing values  "
   ]
  },
  {
   "cell_type": "code",
   "execution_count": 24,
   "metadata": {},
   "outputs": [
    {
     "name": "stdout",
     "output_type": "stream",
     "text": [
      "0\n"
     ]
    },
    {
     "data": {
      "text/html": [
       "<div>\n",
       "<style scoped>\n",
       "    .dataframe tbody tr th:only-of-type {\n",
       "        vertical-align: middle;\n",
       "    }\n",
       "\n",
       "    .dataframe tbody tr th {\n",
       "        vertical-align: top;\n",
       "    }\n",
       "\n",
       "    .dataframe thead th {\n",
       "        text-align: right;\n",
       "    }\n",
       "</style>\n",
       "<table border=\"1\" class=\"dataframe\">\n",
       "  <thead>\n",
       "    <tr style=\"text-align: right;\">\n",
       "      <th></th>\n",
       "      <th>PassengerId</th>\n",
       "      <th>HomePlanet</th>\n",
       "      <th>CryoSleep</th>\n",
       "      <th>Cabin</th>\n",
       "      <th>Destination</th>\n",
       "      <th>Age</th>\n",
       "      <th>VIP</th>\n",
       "      <th>RoomService</th>\n",
       "      <th>FoodCourt</th>\n",
       "      <th>ShoppingMall</th>\n",
       "      <th>Spa</th>\n",
       "      <th>VRDeck</th>\n",
       "      <th>Name</th>\n",
       "      <th>Transported</th>\n",
       "    </tr>\n",
       "  </thead>\n",
       "  <tbody>\n",
       "    <tr>\n",
       "      <th>7</th>\n",
       "      <td>0006_02</td>\n",
       "      <td>Earth</td>\n",
       "      <td>True</td>\n",
       "      <td>G/0/S</td>\n",
       "      <td>TRAPPIST-1e</td>\n",
       "      <td>28.0</td>\n",
       "      <td>False</td>\n",
       "      <td>0.0</td>\n",
       "      <td>0.0</td>\n",
       "      <td>0.0</td>\n",
       "      <td>0.0</td>\n",
       "      <td>NaN</td>\n",
       "      <td>Candra Jacostaffey</td>\n",
       "      <td>True</td>\n",
       "    </tr>\n",
       "    <tr>\n",
       "      <th>10</th>\n",
       "      <td>0008_02</td>\n",
       "      <td>Europa</td>\n",
       "      <td>True</td>\n",
       "      <td>B/1/P</td>\n",
       "      <td>TRAPPIST-1e</td>\n",
       "      <td>34.0</td>\n",
       "      <td>False</td>\n",
       "      <td>0.0</td>\n",
       "      <td>0.0</td>\n",
       "      <td>NaN</td>\n",
       "      <td>0.0</td>\n",
       "      <td>0.0</td>\n",
       "      <td>Altardr Flatic</td>\n",
       "      <td>True</td>\n",
       "    </tr>\n",
       "    <tr>\n",
       "      <th>15</th>\n",
       "      <td>0012_01</td>\n",
       "      <td>Earth</td>\n",
       "      <td>False</td>\n",
       "      <td>NaN</td>\n",
       "      <td>TRAPPIST-1e</td>\n",
       "      <td>31.0</td>\n",
       "      <td>False</td>\n",
       "      <td>32.0</td>\n",
       "      <td>0.0</td>\n",
       "      <td>876.0</td>\n",
       "      <td>0.0</td>\n",
       "      <td>0.0</td>\n",
       "      <td>Justie Pooles</td>\n",
       "      <td>False</td>\n",
       "    </tr>\n",
       "    <tr>\n",
       "      <th>16</th>\n",
       "      <td>0014_01</td>\n",
       "      <td>Mars</td>\n",
       "      <td>False</td>\n",
       "      <td>F/3/P</td>\n",
       "      <td>55 Cancri e</td>\n",
       "      <td>27.0</td>\n",
       "      <td>False</td>\n",
       "      <td>1286.0</td>\n",
       "      <td>122.0</td>\n",
       "      <td>NaN</td>\n",
       "      <td>0.0</td>\n",
       "      <td>0.0</td>\n",
       "      <td>Flats Eccle</td>\n",
       "      <td>False</td>\n",
       "    </tr>\n",
       "    <tr>\n",
       "      <th>23</th>\n",
       "      <td>0020_03</td>\n",
       "      <td>Earth</td>\n",
       "      <td>True</td>\n",
       "      <td>E/0/S</td>\n",
       "      <td>55 Cancri e</td>\n",
       "      <td>29.0</td>\n",
       "      <td>False</td>\n",
       "      <td>0.0</td>\n",
       "      <td>0.0</td>\n",
       "      <td>NaN</td>\n",
       "      <td>0.0</td>\n",
       "      <td>0.0</td>\n",
       "      <td>Mollen Mcfaddennon</td>\n",
       "      <td>False</td>\n",
       "    </tr>\n",
       "    <tr>\n",
       "      <th>...</th>\n",
       "      <td>...</td>\n",
       "      <td>...</td>\n",
       "      <td>...</td>\n",
       "      <td>...</td>\n",
       "      <td>...</td>\n",
       "      <td>...</td>\n",
       "      <td>...</td>\n",
       "      <td>...</td>\n",
       "      <td>...</td>\n",
       "      <td>...</td>\n",
       "      <td>...</td>\n",
       "      <td>...</td>\n",
       "      <td>...</td>\n",
       "      <td>...</td>\n",
       "    </tr>\n",
       "    <tr>\n",
       "      <th>8667</th>\n",
       "      <td>9250_01</td>\n",
       "      <td>Europa</td>\n",
       "      <td>False</td>\n",
       "      <td>E/597/P</td>\n",
       "      <td>TRAPPIST-1e</td>\n",
       "      <td>29.0</td>\n",
       "      <td>False</td>\n",
       "      <td>0.0</td>\n",
       "      <td>2972.0</td>\n",
       "      <td>NaN</td>\n",
       "      <td>28.0</td>\n",
       "      <td>188.0</td>\n",
       "      <td>Chain Reedectied</td>\n",
       "      <td>True</td>\n",
       "    </tr>\n",
       "    <tr>\n",
       "      <th>8674</th>\n",
       "      <td>9257_01</td>\n",
       "      <td>NaN</td>\n",
       "      <td>False</td>\n",
       "      <td>F/1892/P</td>\n",
       "      <td>TRAPPIST-1e</td>\n",
       "      <td>13.0</td>\n",
       "      <td>False</td>\n",
       "      <td>39.0</td>\n",
       "      <td>0.0</td>\n",
       "      <td>1085.0</td>\n",
       "      <td>24.0</td>\n",
       "      <td>0.0</td>\n",
       "      <td>Ties Apple</td>\n",
       "      <td>False</td>\n",
       "    </tr>\n",
       "    <tr>\n",
       "      <th>8675</th>\n",
       "      <td>9259_01</td>\n",
       "      <td>Earth</td>\n",
       "      <td>NaN</td>\n",
       "      <td>F/1893/P</td>\n",
       "      <td>TRAPPIST-1e</td>\n",
       "      <td>44.0</td>\n",
       "      <td>False</td>\n",
       "      <td>1030.0</td>\n",
       "      <td>1015.0</td>\n",
       "      <td>0.0</td>\n",
       "      <td>11.0</td>\n",
       "      <td>NaN</td>\n",
       "      <td>Annah Gilleyons</td>\n",
       "      <td>True</td>\n",
       "    </tr>\n",
       "    <tr>\n",
       "      <th>8684</th>\n",
       "      <td>9274_01</td>\n",
       "      <td>NaN</td>\n",
       "      <td>True</td>\n",
       "      <td>G/1508/P</td>\n",
       "      <td>TRAPPIST-1e</td>\n",
       "      <td>23.0</td>\n",
       "      <td>False</td>\n",
       "      <td>0.0</td>\n",
       "      <td>0.0</td>\n",
       "      <td>0.0</td>\n",
       "      <td>0.0</td>\n",
       "      <td>0.0</td>\n",
       "      <td>Chelsa Bullisey</td>\n",
       "      <td>True</td>\n",
       "    </tr>\n",
       "    <tr>\n",
       "      <th>8687</th>\n",
       "      <td>9275_03</td>\n",
       "      <td>Europa</td>\n",
       "      <td>NaN</td>\n",
       "      <td>A/97/P</td>\n",
       "      <td>TRAPPIST-1e</td>\n",
       "      <td>30.0</td>\n",
       "      <td>False</td>\n",
       "      <td>0.0</td>\n",
       "      <td>3208.0</td>\n",
       "      <td>0.0</td>\n",
       "      <td>2.0</td>\n",
       "      <td>330.0</td>\n",
       "      <td>Atlasym Conable</td>\n",
       "      <td>True</td>\n",
       "    </tr>\n",
       "  </tbody>\n",
       "</table>\n",
       "<p>2087 rows × 14 columns</p>\n",
       "</div>"
      ],
      "text/plain": [
       "     PassengerId HomePlanet CryoSleep     Cabin  Destination   Age    VIP  \\\n",
       "7        0006_02      Earth      True     G/0/S  TRAPPIST-1e  28.0  False   \n",
       "10       0008_02     Europa      True     B/1/P  TRAPPIST-1e  34.0  False   \n",
       "15       0012_01      Earth     False       NaN  TRAPPIST-1e  31.0  False   \n",
       "16       0014_01       Mars     False     F/3/P  55 Cancri e  27.0  False   \n",
       "23       0020_03      Earth      True     E/0/S  55 Cancri e  29.0  False   \n",
       "...          ...        ...       ...       ...          ...   ...    ...   \n",
       "8667     9250_01     Europa     False   E/597/P  TRAPPIST-1e  29.0  False   \n",
       "8674     9257_01        NaN     False  F/1892/P  TRAPPIST-1e  13.0  False   \n",
       "8675     9259_01      Earth       NaN  F/1893/P  TRAPPIST-1e  44.0  False   \n",
       "8684     9274_01        NaN      True  G/1508/P  TRAPPIST-1e  23.0  False   \n",
       "8687     9275_03     Europa       NaN    A/97/P  TRAPPIST-1e  30.0  False   \n",
       "\n",
       "      RoomService  FoodCourt  ShoppingMall   Spa  VRDeck                Name  \\\n",
       "7             0.0        0.0           0.0   0.0     NaN  Candra Jacostaffey   \n",
       "10            0.0        0.0           NaN   0.0     0.0      Altardr Flatic   \n",
       "15           32.0        0.0         876.0   0.0     0.0       Justie Pooles   \n",
       "16         1286.0      122.0           NaN   0.0     0.0         Flats Eccle   \n",
       "23            0.0        0.0           NaN   0.0     0.0  Mollen Mcfaddennon   \n",
       "...           ...        ...           ...   ...     ...                 ...   \n",
       "8667          0.0     2972.0           NaN  28.0   188.0    Chain Reedectied   \n",
       "8674         39.0        0.0        1085.0  24.0     0.0          Ties Apple   \n",
       "8675       1030.0     1015.0           0.0  11.0     NaN     Annah Gilleyons   \n",
       "8684          0.0        0.0           0.0   0.0     0.0     Chelsa Bullisey   \n",
       "8687          0.0     3208.0           0.0   2.0   330.0     Atlasym Conable   \n",
       "\n",
       "      Transported  \n",
       "7            True  \n",
       "10           True  \n",
       "15          False  \n",
       "16          False  \n",
       "23          False  \n",
       "...           ...  \n",
       "8667         True  \n",
       "8674        False  \n",
       "8675         True  \n",
       "8684         True  \n",
       "8687         True  \n",
       "\n",
       "[2087 rows x 14 columns]"
      ]
     },
     "execution_count": 24,
     "metadata": {},
     "output_type": "execute_result"
    }
   ],
   "source": [
    "print(len(titanic_df[titanic_df.isna().sum(axis=1)==4]))\n",
    "titanic_df[titanic_df.isna().sum(axis=1)>=1]\n"
   ]
  },
  {
   "cell_type": "code",
   "execution_count": 25,
   "metadata": {},
   "outputs": [
    {
     "data": {
      "text/plain": [
       "Transported     1.000000\n",
       "FoodCourt       0.046566\n",
       "ShoppingMall    0.010141\n",
       "Age            -0.075026\n",
       "VRDeck         -0.207075\n",
       "Spa            -0.221131\n",
       "RoomService    -0.244611\n",
       "Name: Transported, dtype: float64"
      ]
     },
     "execution_count": 25,
     "metadata": {},
     "output_type": "execute_result"
    }
   ],
   "source": [
    "corr_matrix = titanic_df.corr(numeric_only=True)\n",
    "corr_matrix[\"Transported\"].sort_values(ascending=False)"
   ]
  },
  {
   "cell_type": "code",
   "execution_count": 26,
   "metadata": {},
   "outputs": [
    {
     "data": {
      "image/png": "[encoded data removed]",
      "text/plain": [
       "<Figure size 640x480 with 16 Axes>"
      ]
     },
     "metadata": {},
     "output_type": "display_data"
    }
   ],
   "source": [
    "from pandas.plotting import scatter_matrix\n",
    "attributes = [\"Transported\",\"RoomService\",\"Age\",\"FoodCourt\"]\n",
    "scatter_matrix(corr_matrix[attributes]);"
   ]
  },
  {
   "cell_type": "code",
   "execution_count": 27,
   "metadata": {},
   "outputs": [
    {
     "data": {
      "text/plain": [
       "Index(['PassengerId', 'HomePlanet', 'CryoSleep', 'Cabin', 'Destination', 'Age',\n",
       "       'VIP', 'RoomService', 'FoodCourt', 'ShoppingMall', 'Spa', 'VRDeck',\n",
       "       'Name', 'Transported'],\n",
       "      dtype='object')"
      ]
     },
     "execution_count": 27,
     "metadata": {},
     "output_type": "execute_result"
    }
   ],
   "source": [
    "titanic_df.columns"
   ]
  },
  {
   "cell_type": "code",
   "execution_count": 28,
   "metadata": {},
   "outputs": [
    {
     "data": {
      "image/png": "[encoded data removed]",
      "text/plain": [
       "<Figure size 640x480 with 2 Axes>"
      ]
     },
     "metadata": {},
     "output_type": "display_data"
    }
   ],
   "source": [
    "cm = pd.crosstab(titanic_df[\"CryoSleep\"],titanic_df[\"Transported\"])\n",
    "plt.imshow(cm,cmap=\"Blues\")\n",
    "plt.title(\"Cryo sleep survival rate \")\n",
    "plt.xlabel(\"CryoSleep\")\n",
    "plt.ylabel(\"Transported\")\n",
    "plt.colorbar();\n"
   ]
  },
  {
   "cell_type": "code",
   "execution_count": 29,
   "metadata": {},
   "outputs": [
    {
     "data": {
      "text/plain": [
       "False    3650\n",
       "True     1789\n",
       "Name: Transported, dtype: int64"
      ]
     },
     "execution_count": 29,
     "metadata": {},
     "output_type": "execute_result"
    }
   ],
   "source": [
    "titanic_df[titanic_df[\"CryoSleep\"]==False][\"Transported\"].value_counts()"
   ]
  },
  {
   "cell_type": "code",
   "execution_count": 30,
   "metadata": {},
   "outputs": [
    {
     "data": {
      "text/plain": [
       "True     2483\n",
       "False     554\n",
       "Name: Transported, dtype: int64"
      ]
     },
     "execution_count": 30,
     "metadata": {},
     "output_type": "execute_result"
    }
   ],
   "source": [
    "titanic_df[titanic_df[\"CryoSleep\"]==True][\"Transported\"].value_counts()"
   ]
  },
  {
   "cell_type": "code",
   "execution_count": 31,
   "metadata": {},
   "outputs": [
    {
     "data": {
      "text/plain": [
       "False    111\n",
       "True     106\n",
       "Name: Transported, dtype: int64"
      ]
     },
     "execution_count": 31,
     "metadata": {},
     "output_type": "execute_result"
    }
   ],
   "source": [
    "titanic_df[titanic_df[\"CryoSleep\"].isna()][\"Transported\"].value_counts()"
   ]
  },
  {
   "cell_type": "markdown",
   "metadata": {},
   "source": [
    "So we could assume that `CryoSleep` is a good indictor of survivorship if the passenger didn't use it  "
   ]
  },
  {
   "cell_type": "code",
   "execution_count": 32,
   "metadata": {},
   "outputs": [
    {
     "data": {
      "image/png": "[encoded data removed]",
      "text/plain": [
       "<Figure size 640x480 with 2 Axes>"
      ]
     },
     "metadata": {},
     "output_type": "display_data"
    }
   ],
   "source": [
    "cm = pd.crosstab(titanic_df[\"VIP\"],titanic_df[\"Transported\"])\n",
    "plt.imshow(cm,cmap=\"Blues\")\n",
    "plt.title(\"VIP vs Transported\")\n",
    "plt.xlabel(\"VIP\")\n",
    "plt.ylabel(\"Transported\")\n",
    "plt.colorbar();\n",
    "\n"
   ]
  },
  {
   "cell_type": "markdown",
   "metadata": {},
   "source": [
    "So there is no actual correlation between VIP and survivorship\n",
    "\n",
    "## Data Preparation (Preprocessing) \n",
    "\n",
    "Firstly the data is to be split into train and test sets then we fill the missing values using scikit-learn's transformers "
   ]
  },
  {
   "cell_type": "code",
   "execution_count": 33,
   "metadata": {},
   "outputs": [],
   "source": [
    "from sklearn.model_selection import train_test_split \n",
    "np.random.seed(42)\n",
    "titanic_features = titanic_df.drop(\"Transported\",axis=1)\n",
    "titanic_labels = titanic_df[\"Transported\"]\n",
    "train_X,test_X,train_y,test_y  = train_test_split(titanic_features,titanic_labels,test_size=0.2)"
   ]
  },
  {
   "cell_type": "code",
   "execution_count": 34,
   "metadata": {},
   "outputs": [],
   "source": [
    "from sklearn.preprocessing import StandardScaler, OrdinalEncoder, OneHotEncoder\n",
    "from sklearn.compose import ColumnTransformer\n",
    "from sklearn.pipeline import Pipeline\n",
    "from sklearn.impute import SimpleImputer\n",
    "from sklearn.base import BaseEstimator, TransformerMixin\n",
    "\n",
    "class ExtractPassengerID(BaseEstimator, TransformerMixin):\n",
    "    def fit(self, X, y=None):\n",
    "        return self\n",
    "\n",
    "    def transform(self, X):\n",
    "        return X[\"PassengerId\"].str.split('_').str[1].values.reshape(-1, 1)\n",
    "\n",
    "num_pipeline = Pipeline([\n",
    "    (\"imputer\", SimpleImputer(strategy=\"median\")),\n",
    "    (\"std_scalar\", StandardScaler())\n",
    "])\n",
    "\n",
    "non_numerical_pipeline = Pipeline([\n",
    "    (\"imputer\", SimpleImputer(strategy=\"most_frequent\")),\n",
    "    (\"encode\", OrdinalEncoder(handle_unknown='use_encoded_value', unknown_value=-1))\n",
    "])\n",
    "\n",
    "categorical_pipeline = Pipeline([\n",
    "    (\"imputer\", SimpleImputer(strategy=\"most_frequent\")),\n",
    "    (\"encode\", OneHotEncoder())\n",
    "])\n",
    "\n",
    "numerical_columns = [\"Age\", \"RoomService\", \"FoodCourt\", \"ShoppingMall\", \"Spa\", \"VRDeck\"]\n",
    "categorical_columns = [\"HomePlanet\", \"Destination\"]\n",
    "boolean_columns = [\"CryoSleep\", \"VIP\"]\n",
    "non_numerical_columns = [\"Cabin\", \"Name\"]\n",
    "id_column = [\"PassengerId\"]\n",
    "\n",
    "preprocessor = ColumnTransformer(\n",
    "    transformers=[\n",
    "        ('non_numerical', non_numerical_pipeline, non_numerical_columns),\n",
    "        ('boolean', SimpleImputer(strategy='most_frequent'), boolean_columns),\n",
    "        ('numerical', num_pipeline, numerical_columns),\n",
    "        ('categorical', categorical_pipeline, categorical_columns),\n",
    "        ('passenger_id', ExtractPassengerID(), id_column)\n",
    "    ])\n",
    "\n",
    "pipeline = Pipeline(steps=[('preprocessor', preprocessor)])\n",
    "\n",
    "# Fit and transform the data\n",
    "transformed_data = pipeline.fit_transform(train_X)\n",
    "transformed_test = pipeline.transform(test_X)\n"
   ]
  },
  {
   "cell_type": "markdown",
   "metadata": {},
   "source": [
    "## Modelling \n",
    "\n",
    "Firstly We'll train a `LogisticRegression` model, an `SVM` model , a `DecisionTree` model and a `RandomForest` model \n",
    "using `RandomizedSearchCV` to find a good baseline model then we will use `GridSearchCV` to try to get the best model  "
   ]
  },
  {
   "cell_type": "code",
   "execution_count": 38,
   "metadata": {},
   "outputs": [
    {
     "name": "stdout",
     "output_type": "stream",
     "text": [
      "Fitting 5 folds for each of 15 candidates, totalling 75 fits\n",
      "[CV] END .............................C=0.0001, solver=lbfgs; total time=   0.0s\n",
      "[CV] END .............................C=0.0001, solver=lbfgs; total time=   0.0s\n",
      "[CV] END .............................C=0.0001, solver=lbfgs; total time=   0.0s\n",
      "[CV] END .............................C=0.0001, solver=lbfgs; total time=   0.0s\n",
      "[CV] END .............................C=0.0001, solver=lbfgs; total time=   0.0s\n",
      "[CV] END .............C=1291.5496650148827, solver=liblinear; total time=   0.1s\n",
      "[CV] END .............C=1291.5496650148827, solver=liblinear; total time=   0.0s\n",
      "[CV] END .............C=1291.5496650148827, solver=liblinear; total time=   0.0s\n",
      "[CV] END .............C=1291.5496650148827, solver=liblinear; total time=   0.0s\n",
      "[CV] END .............C=1291.5496650148827, solver=liblinear; total time=   0.0s\n",
      "[CV] END .............C=166.81005372000558, solver=liblinear; total time=   0.0s\n",
      "[CV] END .............C=166.81005372000558, solver=liblinear; total time=   0.0s\n",
      "[CV] END .............C=166.81005372000558, solver=liblinear; total time=   0.2s\n",
      "[CV] END .............C=166.81005372000558, solver=liblinear; total time=   0.1s\n",
      "[CV] END .............C=166.81005372000558, solver=liblinear; total time=   0.1s\n",
      "[CV] END .........................C=0.0001, solver=liblinear; total time=   0.0s\n",
      "[CV] END .........................C=0.0001, solver=liblinear; total time=   0.0s\n",
      "[CV] END .........................C=0.0001, solver=liblinear; total time=   0.0s\n",
      "[CV] END .........................C=0.0001, solver=liblinear; total time=   0.0s\n",
      "[CV] END .........................C=0.0001, solver=liblinear; total time=   0.0s\n"
     ]
    },
    {
     "name": "stderr",
     "output_type": "stream",
     "text": [
      "C:\\Users\\Bustati\\AppData\\Roaming\\Python\\Python311\\site-packages\\sklearn\\linear_model\\_logistic.py:460: ConvergenceWarning: lbfgs failed to converge (status=1):\n",
      "STOP: TOTAL NO. of ITERATIONS REACHED LIMIT.\n",
      "\n",
      "Increase the number of iterations (max_iter) or scale the data as shown in:\n",
      "    https://scikit-learn.org/stable/modules/preprocessing.html\n",
      "Please also refer to the documentation for alternative solver options:\n",
      "    https://scikit-learn.org/stable/modules/linear_model.html#logistic-regression\n",
      "  n_iter_i = _check_optimize_result(\n"
     ]
    },
    {
     "name": "stdout",
     "output_type": "stream",
     "text": [
      "[CV] END .................C=0.3593813663804626, solver=lbfgs; total time=   0.3s\n",
      "[CV] END .................C=0.3593813663804626, solver=lbfgs; total time=   0.1s\n"
     ]
    },
    {
     "name": "stderr",
     "output_type": "stream",
     "text": [
      "C:\\Users\\Bustati\\AppData\\Roaming\\Python\\Python311\\site-packages\\sklearn\\linear_model\\_logistic.py:460: ConvergenceWarning: lbfgs failed to converge (status=1):\n",
      "STOP: TOTAL NO. of ITERATIONS REACHED LIMIT.\n",
      "\n",
      "Increase the number of iterations (max_iter) or scale the data as shown in:\n",
      "    https://scikit-learn.org/stable/modules/preprocessing.html\n",
      "Please also refer to the documentation for alternative solver options:\n",
      "    https://scikit-learn.org/stable/modules/linear_model.html#logistic-regression\n",
      "  n_iter_i = _check_optimize_result(\n"
     ]
    },
    {
     "name": "stdout",
     "output_type": "stream",
     "text": [
      "[CV] END .................C=0.3593813663804626, solver=lbfgs; total time=   0.2s\n"
     ]
    },
    {
     "name": "stderr",
     "output_type": "stream",
     "text": [
      "C:\\Users\\Bustati\\AppData\\Roaming\\Python\\Python311\\site-packages\\sklearn\\linear_model\\_logistic.py:460: ConvergenceWarning: lbfgs failed to converge (status=1):\n",
      "STOP: TOTAL NO. of ITERATIONS REACHED LIMIT.\n",
      "\n",
      "Increase the number of iterations (max_iter) or scale the data as shown in:\n",
      "    https://scikit-learn.org/stable/modules/preprocessing.html\n",
      "Please also refer to the documentation for alternative solver options:\n",
      "    https://scikit-learn.org/stable/modules/linear_model.html#logistic-regression\n",
      "  n_iter_i = _check_optimize_result(\n"
     ]
    },
    {
     "name": "stdout",
     "output_type": "stream",
     "text": [
      "[CV] END .................C=0.3593813663804626, solver=lbfgs; total time=   0.2s\n",
      "[CV] END .................C=0.3593813663804626, solver=lbfgs; total time=   0.3s\n",
      "[CV] END ...........C=0.005994842503189409, solver=liblinear; total time=   0.1s\n",
      "[CV] END ...........C=0.005994842503189409, solver=liblinear; total time=   0.1s\n",
      "[CV] END ...........C=0.005994842503189409, solver=liblinear; total time=   0.1s\n",
      "[CV] END ...........C=0.005994842503189409, solver=liblinear; total time=   0.0s\n",
      "[CV] END ...........C=0.005994842503189409, solver=liblinear; total time=   0.0s\n",
      "[CV] END ..............C=2.782559402207126, solver=liblinear; total time=   0.0s\n",
      "[CV] END ..............C=2.782559402207126, solver=liblinear; total time=   0.0s\n",
      "[CV] END ..............C=2.782559402207126, solver=liblinear; total time=   0.0s\n",
      "[CV] END ..............C=2.782559402207126, solver=liblinear; total time=   0.0s\n",
      "[CV] END ..............C=2.782559402207126, solver=liblinear; total time=   0.0s\n",
      "[CV] END ...........C=0.000774263682681127, solver=liblinear; total time=   0.0s\n",
      "[CV] END ...........C=0.000774263682681127, solver=liblinear; total time=   0.0s\n",
      "[CV] END ...........C=0.000774263682681127, solver=liblinear; total time=   0.0s\n",
      "[CV] END ...........C=0.000774263682681127, solver=liblinear; total time=   0.0s\n",
      "[CV] END ...........C=0.000774263682681127, solver=liblinear; total time=   0.0s\n",
      "[CV] END ............................C=10000.0, solver=lbfgs; total time=   0.0s\n"
     ]
    },
    {
     "name": "stderr",
     "output_type": "stream",
     "text": [
      "C:\\Users\\Bustati\\AppData\\Roaming\\Python\\Python311\\site-packages\\sklearn\\linear_model\\_logistic.py:460: ConvergenceWarning: lbfgs failed to converge (status=1):\n",
      "STOP: TOTAL NO. of ITERATIONS REACHED LIMIT.\n",
      "\n",
      "Increase the number of iterations (max_iter) or scale the data as shown in:\n",
      "    https://scikit-learn.org/stable/modules/preprocessing.html\n",
      "Please also refer to the documentation for alternative solver options:\n",
      "    https://scikit-learn.org/stable/modules/linear_model.html#logistic-regression\n",
      "  n_iter_i = _check_optimize_result(\n"
     ]
    },
    {
     "name": "stdout",
     "output_type": "stream",
     "text": [
      "[CV] END ............................C=10000.0, solver=lbfgs; total time=   0.1s\n",
      "[CV] END ............................C=10000.0, solver=lbfgs; total time=   0.0s\n"
     ]
    },
    {
     "name": "stderr",
     "output_type": "stream",
     "text": [
      "C:\\Users\\Bustati\\AppData\\Roaming\\Python\\Python311\\site-packages\\sklearn\\linear_model\\_logistic.py:460: ConvergenceWarning: lbfgs failed to converge (status=1):\n",
      "STOP: TOTAL NO. of ITERATIONS REACHED LIMIT.\n",
      "\n",
      "Increase the number of iterations (max_iter) or scale the data as shown in:\n",
      "    https://scikit-learn.org/stable/modules/preprocessing.html\n",
      "Please also refer to the documentation for alternative solver options:\n",
      "    https://scikit-learn.org/stable/modules/linear_model.html#logistic-regression\n",
      "  n_iter_i = _check_optimize_result(\n"
     ]
    },
    {
     "name": "stdout",
     "output_type": "stream",
     "text": [
      "[CV] END ............................C=10000.0, solver=lbfgs; total time=   0.3s\n"
     ]
    },
    {
     "name": "stderr",
     "output_type": "stream",
     "text": [
      "C:\\Users\\Bustati\\AppData\\Roaming\\Python\\Python311\\site-packages\\sklearn\\linear_model\\_logistic.py:460: ConvergenceWarning: lbfgs failed to converge (status=1):\n",
      "STOP: TOTAL NO. of ITERATIONS REACHED LIMIT.\n",
      "\n",
      "Increase the number of iterations (max_iter) or scale the data as shown in:\n",
      "    https://scikit-learn.org/stable/modules/preprocessing.html\n",
      "Please also refer to the documentation for alternative solver options:\n",
      "    https://scikit-learn.org/stable/modules/linear_model.html#logistic-regression\n",
      "  n_iter_i = _check_optimize_result(\n"
     ]
    },
    {
     "name": "stdout",
     "output_type": "stream",
     "text": [
      "[CV] END ............................C=10000.0, solver=lbfgs; total time=   0.3s\n"
     ]
    },
    {
     "name": "stderr",
     "output_type": "stream",
     "text": [
      "C:\\Users\\Bustati\\AppData\\Roaming\\Python\\Python311\\site-packages\\sklearn\\linear_model\\_logistic.py:460: ConvergenceWarning: lbfgs failed to converge (status=1):\n",
      "STOP: TOTAL NO. of ITERATIONS REACHED LIMIT.\n",
      "\n",
      "Increase the number of iterations (max_iter) or scale the data as shown in:\n",
      "    https://scikit-learn.org/stable/modules/preprocessing.html\n",
      "Please also refer to the documentation for alternative solver options:\n",
      "    https://scikit-learn.org/stable/modules/linear_model.html#logistic-regression\n",
      "  n_iter_i = _check_optimize_result(\n"
     ]
    },
    {
     "name": "stdout",
     "output_type": "stream",
     "text": [
      "[CV] END .................C=1291.5496650148827, solver=lbfgs; total time=   0.2s\n"
     ]
    },
    {
     "name": "stderr",
     "output_type": "stream",
     "text": [
      "C:\\Users\\Bustati\\AppData\\Roaming\\Python\\Python311\\site-packages\\sklearn\\linear_model\\_logistic.py:460: ConvergenceWarning: lbfgs failed to converge (status=1):\n",
      "STOP: TOTAL NO. of ITERATIONS REACHED LIMIT.\n",
      "\n",
      "Increase the number of iterations (max_iter) or scale the data as shown in:\n",
      "    https://scikit-learn.org/stable/modules/preprocessing.html\n",
      "Please also refer to the documentation for alternative solver options:\n",
      "    https://scikit-learn.org/stable/modules/linear_model.html#logistic-regression\n",
      "  n_iter_i = _check_optimize_result(\n"
     ]
    },
    {
     "name": "stdout",
     "output_type": "stream",
     "text": [
      "[CV] END .................C=1291.5496650148827, solver=lbfgs; total time=   0.2s\n",
      "[CV] END .................C=1291.5496650148827, solver=lbfgs; total time=   0.2s\n"
     ]
    },
    {
     "name": "stderr",
     "output_type": "stream",
     "text": [
      "C:\\Users\\Bustati\\AppData\\Roaming\\Python\\Python311\\site-packages\\sklearn\\linear_model\\_logistic.py:460: ConvergenceWarning: lbfgs failed to converge (status=1):\n",
      "STOP: TOTAL NO. of ITERATIONS REACHED LIMIT.\n",
      "\n",
      "Increase the number of iterations (max_iter) or scale the data as shown in:\n",
      "    https://scikit-learn.org/stable/modules/preprocessing.html\n",
      "Please also refer to the documentation for alternative solver options:\n",
      "    https://scikit-learn.org/stable/modules/linear_model.html#logistic-regression\n",
      "  n_iter_i = _check_optimize_result(\n"
     ]
    },
    {
     "name": "stdout",
     "output_type": "stream",
     "text": [
      "[CV] END .................C=1291.5496650148827, solver=lbfgs; total time=   0.1s\n"
     ]
    },
    {
     "name": "stderr",
     "output_type": "stream",
     "text": [
      "C:\\Users\\Bustati\\AppData\\Roaming\\Python\\Python311\\site-packages\\sklearn\\linear_model\\_logistic.py:460: ConvergenceWarning: lbfgs failed to converge (status=1):\n",
      "STOP: TOTAL NO. of ITERATIONS REACHED LIMIT.\n",
      "\n",
      "Increase the number of iterations (max_iter) or scale the data as shown in:\n",
      "    https://scikit-learn.org/stable/modules/preprocessing.html\n",
      "Please also refer to the documentation for alternative solver options:\n",
      "    https://scikit-learn.org/stable/modules/linear_model.html#logistic-regression\n",
      "  n_iter_i = _check_optimize_result(\n"
     ]
    },
    {
     "name": "stdout",
     "output_type": "stream",
     "text": [
      "[CV] END .................C=1291.5496650148827, solver=lbfgs; total time=   0.3s\n",
      "[CV] END ..............C=21.54434690031882, solver=liblinear; total time=   0.1s\n",
      "[CV] END ..............C=21.54434690031882, solver=liblinear; total time=   0.0s\n",
      "[CV] END ..............C=21.54434690031882, solver=liblinear; total time=   0.0s\n",
      "[CV] END ..............C=21.54434690031882, solver=liblinear; total time=   0.0s\n",
      "[CV] END ..............C=21.54434690031882, solver=liblinear; total time=   0.0s\n",
      "[CV] END ...............C=0.000774263682681127, solver=lbfgs; total time=   0.0s\n",
      "[CV] END ...............C=0.000774263682681127, solver=lbfgs; total time=   0.0s\n",
      "[CV] END ...............C=0.000774263682681127, solver=lbfgs; total time=   0.0s\n",
      "[CV] END ...............C=0.000774263682681127, solver=lbfgs; total time=   0.0s\n",
      "[CV] END ...............C=0.000774263682681127, solver=lbfgs; total time=   0.0s\n",
      "[CV] END .............C=0.3593813663804626, solver=liblinear; total time=   0.0s\n",
      "[CV] END .............C=0.3593813663804626, solver=liblinear; total time=   0.0s\n",
      "[CV] END .............C=0.3593813663804626, solver=liblinear; total time=   0.0s\n",
      "[CV] END .............C=0.3593813663804626, solver=liblinear; total time=   0.0s\n",
      "[CV] END .............C=0.3593813663804626, solver=liblinear; total time=   0.0s\n",
      "[CV] END ........................C=10000.0, solver=liblinear; total time=   0.0s\n",
      "[CV] END ........................C=10000.0, solver=liblinear; total time=   0.0s\n",
      "[CV] END ........................C=10000.0, solver=liblinear; total time=   0.0s\n",
      "[CV] END ........................C=10000.0, solver=liblinear; total time=   0.0s\n",
      "[CV] END ........................C=10000.0, solver=liblinear; total time=   0.0s\n",
      "[CV] END ...............C=0.005994842503189409, solver=lbfgs; total time=   0.0s\n",
      "[CV] END ...............C=0.005994842503189409, solver=lbfgs; total time=   0.1s\n",
      "[CV] END ...............C=0.005994842503189409, solver=lbfgs; total time=   0.0s\n",
      "[CV] END ...............C=0.005994842503189409, solver=lbfgs; total time=   0.1s\n",
      "[CV] END ...............C=0.005994842503189409, solver=lbfgs; total time=   0.1s\n"
     ]
    },
    {
     "name": "stderr",
     "output_type": "stream",
     "text": [
      "C:\\Users\\Bustati\\AppData\\Roaming\\Python\\Python311\\site-packages\\sklearn\\linear_model\\_logistic.py:460: ConvergenceWarning: lbfgs failed to converge (status=1):\n",
      "STOP: TOTAL NO. of ITERATIONS REACHED LIMIT.\n",
      "\n",
      "Increase the number of iterations (max_iter) or scale the data as shown in:\n",
      "    https://scikit-learn.org/stable/modules/preprocessing.html\n",
      "Please also refer to the documentation for alternative solver options:\n",
      "    https://scikit-learn.org/stable/modules/linear_model.html#logistic-regression\n",
      "  n_iter_i = _check_optimize_result(\n"
     ]
    },
    {
     "name": "stdout",
     "output_type": "stream",
     "text": [
      "linear regression best params{'solver': 'liblinear', 'C': 2.782559402207126}\n",
      "Fitting 5 folds for each of 5 candidates, totalling 25 fits\n",
      "[CV] END ......C=0.03162277660168379, gamma=0.01, kernel=rbf; total time=  10.7s\n",
      "[CV] END ......C=0.03162277660168379, gamma=0.01, kernel=rbf; total time=   9.8s\n",
      "[CV] END ......C=0.03162277660168379, gamma=0.01, kernel=rbf; total time=   9.7s\n",
      "[CV] END ......C=0.03162277660168379, gamma=0.01, kernel=rbf; total time=  10.2s\n",
      "[CV] END ......C=0.03162277660168379, gamma=0.01, kernel=rbf; total time=  11.7s\n",
      "[CV] END ......C=0.31622776601683794, gamma=10.0, kernel=rbf; total time=  13.3s\n",
      "[CV] END ......C=0.31622776601683794, gamma=10.0, kernel=rbf; total time=  10.8s\n",
      "[CV] END ......C=0.31622776601683794, gamma=10.0, kernel=rbf; total time=  10.9s\n",
      "[CV] END ......C=0.31622776601683794, gamma=10.0, kernel=rbf; total time=  10.4s\n",
      "[CV] END ......C=0.31622776601683794, gamma=10.0, kernel=rbf; total time=  11.4s\n",
      "[CV] END ..C=0.31622776601683794, gamma=0.001, kernel=linear; total time=12.3min\n",
      "[CV] END ..C=0.31622776601683794, gamma=0.001, kernel=linear; total time= 7.9min\n",
      "[CV] END ..C=0.31622776601683794, gamma=0.001, kernel=linear; total time= 6.8min\n",
      "[CV] END ..C=0.31622776601683794, gamma=0.001, kernel=linear; total time= 7.2min\n",
      "[CV] END ..C=0.31622776601683794, gamma=0.001, kernel=linear; total time= 7.8min\n",
      "[CV] END .......................C=1.0, gamma=0.1, kernel=rbf; total time=   6.7s\n",
      "[CV] END .......................C=1.0, gamma=0.1, kernel=rbf; total time=   6.8s\n",
      "[CV] END .......................C=1.0, gamma=0.1, kernel=rbf; total time=   8.6s\n",
      "[CV] END .......................C=1.0, gamma=0.1, kernel=rbf; total time=   7.5s\n",
      "[CV] END .......................C=1.0, gamma=0.1, kernel=rbf; total time=   7.2s\n",
      "[CV] END .......C=0.03162277660168379, gamma=1.0, kernel=rbf; total time=   6.4s\n",
      "[CV] END .......C=0.03162277660168379, gamma=1.0, kernel=rbf; total time=   6.9s\n",
      "[CV] END .......C=0.03162277660168379, gamma=1.0, kernel=rbf; total time=   6.8s\n",
      "[CV] END .......C=0.03162277660168379, gamma=1.0, kernel=rbf; total time=   6.6s\n",
      "[CV] END .......C=0.03162277660168379, gamma=1.0, kernel=rbf; total time=   6.7s\n",
      "SVM best params{'kernel': 'linear', 'gamma': 0.001, 'C': 0.31622776601683794}\n",
      "Fitting 5 folds for each of 15 candidates, totalling 75 fits\n",
      "[CV] END max_depth=3, min_samples_leaf=10, min_samples_split=16; total time=   0.0s\n",
      "[CV] END max_depth=3, min_samples_leaf=10, min_samples_split=16; total time=   0.0s\n",
      "[CV] END max_depth=3, min_samples_leaf=10, min_samples_split=16; total time=   0.0s\n",
      "[CV] END max_depth=3, min_samples_leaf=10, min_samples_split=16; total time=   0.0s\n",
      "[CV] END max_depth=3, min_samples_leaf=10, min_samples_split=16; total time=   0.0s\n",
      "[CV] END max_depth=16, min_samples_leaf=15, min_samples_split=10; total time=   0.1s\n",
      "[CV] END max_depth=16, min_samples_leaf=15, min_samples_split=10; total time=   0.0s\n",
      "[CV] END max_depth=16, min_samples_leaf=15, min_samples_split=10; total time=   0.0s\n",
      "[CV] END max_depth=16, min_samples_leaf=15, min_samples_split=10; total time=   0.0s\n",
      "[CV] END max_depth=16, min_samples_leaf=15, min_samples_split=10; total time=   0.0s\n",
      "[CV] END max_depth=16, min_samples_leaf=6, min_samples_split=8; total time=   0.0s\n",
      "[CV] END max_depth=16, min_samples_leaf=6, min_samples_split=8; total time=   0.0s\n",
      "[CV] END max_depth=16, min_samples_leaf=6, min_samples_split=8; total time=   0.0s\n",
      "[CV] END max_depth=16, min_samples_leaf=6, min_samples_split=8; total time=   0.0s\n",
      "[CV] END max_depth=16, min_samples_leaf=6, min_samples_split=8; total time=   0.0s\n",
      "[CV] END max_depth=16, min_samples_leaf=4, min_samples_split=9; total time=   0.0s\n",
      "[CV] END max_depth=16, min_samples_leaf=4, min_samples_split=9; total time=   0.0s\n",
      "[CV] END max_depth=16, min_samples_leaf=4, min_samples_split=9; total time=   0.0s\n",
      "[CV] END max_depth=16, min_samples_leaf=4, min_samples_split=9; total time=   0.0s\n",
      "[CV] END max_depth=16, min_samples_leaf=4, min_samples_split=9; total time=   0.0s\n",
      "[CV] END max_depth=12, min_samples_leaf=1, min_samples_split=12; total time=   0.0s\n",
      "[CV] END max_depth=12, min_samples_leaf=1, min_samples_split=12; total time=   0.0s\n",
      "[CV] END max_depth=12, min_samples_leaf=1, min_samples_split=12; total time=   0.0s\n",
      "[CV] END max_depth=12, min_samples_leaf=1, min_samples_split=12; total time=   0.0s\n",
      "[CV] END max_depth=12, min_samples_leaf=1, min_samples_split=12; total time=   0.0s\n",
      "[CV] END max_depth=10, min_samples_leaf=1, min_samples_split=16; total time=   0.0s\n",
      "[CV] END max_depth=10, min_samples_leaf=1, min_samples_split=16; total time=   0.0s\n",
      "[CV] END max_depth=10, min_samples_leaf=1, min_samples_split=16; total time=   0.0s\n",
      "[CV] END max_depth=10, min_samples_leaf=1, min_samples_split=16; total time=   0.0s\n",
      "[CV] END max_depth=10, min_samples_leaf=1, min_samples_split=16; total time=   0.0s\n",
      "[CV] END max_depth=17, min_samples_leaf=15, min_samples_split=12; total time=   0.0s\n",
      "[CV] END max_depth=17, min_samples_leaf=15, min_samples_split=12; total time=   0.0s\n",
      "[CV] END max_depth=17, min_samples_leaf=15, min_samples_split=12; total time=   0.0s\n",
      "[CV] END max_depth=17, min_samples_leaf=15, min_samples_split=12; total time=   0.0s\n",
      "[CV] END max_depth=17, min_samples_leaf=15, min_samples_split=12; total time=   0.0s\n",
      "[CV] END max_depth=19, min_samples_leaf=7, min_samples_split=3; total time=   0.0s\n",
      "[CV] END max_depth=19, min_samples_leaf=7, min_samples_split=3; total time=   0.0s\n",
      "[CV] END max_depth=19, min_samples_leaf=7, min_samples_split=3; total time=   0.0s\n",
      "[CV] END max_depth=19, min_samples_leaf=7, min_samples_split=3; total time=   0.0s\n",
      "[CV] END max_depth=19, min_samples_leaf=7, min_samples_split=3; total time=   0.0s\n",
      "[CV] END max_depth=2, min_samples_leaf=7, min_samples_split=18; total time=   0.0s\n",
      "[CV] END max_depth=2, min_samples_leaf=7, min_samples_split=18; total time=   0.0s\n",
      "[CV] END max_depth=2, min_samples_leaf=7, min_samples_split=18; total time=   0.0s\n",
      "[CV] END max_depth=2, min_samples_leaf=7, min_samples_split=18; total time=   0.0s\n",
      "[CV] END max_depth=2, min_samples_leaf=7, min_samples_split=18; total time=   0.0s\n",
      "[CV] END max_depth=16, min_samples_leaf=12, min_samples_split=8; total time=   0.0s\n",
      "[CV] END max_depth=16, min_samples_leaf=12, min_samples_split=8; total time=   0.0s\n",
      "[CV] END max_depth=16, min_samples_leaf=12, min_samples_split=8; total time=   0.0s\n",
      "[CV] END max_depth=16, min_samples_leaf=12, min_samples_split=8; total time=   0.0s\n",
      "[CV] END max_depth=16, min_samples_leaf=12, min_samples_split=8; total time=   0.0s\n",
      "[CV] END max_depth=13, min_samples_leaf=18, min_samples_split=18; total time=   0.0s\n",
      "[CV] END max_depth=13, min_samples_leaf=18, min_samples_split=18; total time=   0.0s\n",
      "[CV] END max_depth=13, min_samples_leaf=18, min_samples_split=18; total time=   0.0s\n",
      "[CV] END max_depth=13, min_samples_leaf=18, min_samples_split=18; total time=   0.0s\n",
      "[CV] END max_depth=13, min_samples_leaf=18, min_samples_split=18; total time=   0.0s\n",
      "[CV] END max_depth=17, min_samples_leaf=6, min_samples_split=18; total time=   0.0s\n",
      "[CV] END max_depth=17, min_samples_leaf=6, min_samples_split=18; total time=   0.0s\n",
      "[CV] END max_depth=17, min_samples_leaf=6, min_samples_split=18; total time=   0.0s\n",
      "[CV] END max_depth=17, min_samples_leaf=6, min_samples_split=18; total time=   0.0s\n",
      "[CV] END max_depth=17, min_samples_leaf=6, min_samples_split=18; total time=   0.0s\n",
      "[CV] END max_depth=19, min_samples_leaf=5, min_samples_split=5; total time=   0.0s\n",
      "[CV] END max_depth=19, min_samples_leaf=5, min_samples_split=5; total time=   0.0s\n",
      "[CV] END max_depth=19, min_samples_leaf=5, min_samples_split=5; total time=   0.0s\n",
      "[CV] END max_depth=19, min_samples_leaf=5, min_samples_split=5; total time=   0.0s\n",
      "[CV] END max_depth=19, min_samples_leaf=5, min_samples_split=5; total time=   0.0s\n",
      "[CV] END max_depth=11, min_samples_leaf=2, min_samples_split=8; total time=   0.0s\n",
      "[CV] END max_depth=11, min_samples_leaf=2, min_samples_split=8; total time=   0.0s\n",
      "[CV] END max_depth=11, min_samples_leaf=2, min_samples_split=8; total time=   0.0s\n",
      "[CV] END max_depth=11, min_samples_leaf=2, min_samples_split=8; total time=   0.0s\n",
      "[CV] END max_depth=11, min_samples_leaf=2, min_samples_split=8; total time=   0.0s\n",
      "[CV] END max_depth=10, min_samples_leaf=6, min_samples_split=5; total time=   0.0s\n",
      "[CV] END max_depth=10, min_samples_leaf=6, min_samples_split=5; total time=   0.0s\n",
      "[CV] END max_depth=10, min_samples_leaf=6, min_samples_split=5; total time=   0.0s\n",
      "[CV] END max_depth=10, min_samples_leaf=6, min_samples_split=5; total time=   0.0s\n",
      "[CV] END max_depth=10, min_samples_leaf=6, min_samples_split=5; total time=   0.0s\n",
      "Decision tree best params{'min_samples_split': 18, 'min_samples_leaf': 18, 'max_depth': 13}\n",
      "Fitting 5 folds for each of 15 candidates, totalling 75 fits\n",
      "[CV] END max_depth=19, min_samples_leaf=7, min_samples_split=7, n_estimators=20; total time=   0.4s\n",
      "[CV] END max_depth=19, min_samples_leaf=7, min_samples_split=7, n_estimators=20; total time=   0.3s\n",
      "[CV] END max_depth=19, min_samples_leaf=7, min_samples_split=7, n_estimators=20; total time=   0.4s\n",
      "[CV] END max_depth=19, min_samples_leaf=7, min_samples_split=7, n_estimators=20; total time=   0.4s\n",
      "[CV] END max_depth=19, min_samples_leaf=7, min_samples_split=7, n_estimators=20; total time=   0.4s\n",
      "[CV] END max_depth=6, min_samples_leaf=3, min_samples_split=11, n_estimators=10; total time=   0.0s\n",
      "[CV] END max_depth=6, min_samples_leaf=3, min_samples_split=11, n_estimators=10; total time=   0.0s\n",
      "[CV] END max_depth=6, min_samples_leaf=3, min_samples_split=11, n_estimators=10; total time=   0.0s\n",
      "[CV] END max_depth=6, min_samples_leaf=3, min_samples_split=11, n_estimators=10; total time=   0.1s\n",
      "[CV] END max_depth=6, min_samples_leaf=3, min_samples_split=11, n_estimators=10; total time=   0.0s\n",
      "[CV] END max_depth=1, min_samples_leaf=6, min_samples_split=7, n_estimators=60; total time=   0.2s\n",
      "[CV] END max_depth=1, min_samples_leaf=6, min_samples_split=7, n_estimators=60; total time=   0.2s\n",
      "[CV] END max_depth=1, min_samples_leaf=6, min_samples_split=7, n_estimators=60; total time=   0.2s\n",
      "[CV] END max_depth=1, min_samples_leaf=6, min_samples_split=7, n_estimators=60; total time=   0.1s\n",
      "[CV] END max_depth=1, min_samples_leaf=6, min_samples_split=7, n_estimators=60; total time=   0.2s\n",
      "[CV] END max_depth=13, min_samples_leaf=8, min_samples_split=11, n_estimators=80; total time=   1.5s\n",
      "[CV] END max_depth=13, min_samples_leaf=8, min_samples_split=11, n_estimators=80; total time=   1.7s\n",
      "[CV] END max_depth=13, min_samples_leaf=8, min_samples_split=11, n_estimators=80; total time=   1.6s\n",
      "[CV] END max_depth=13, min_samples_leaf=8, min_samples_split=11, n_estimators=80; total time=   1.8s\n",
      "[CV] END max_depth=13, min_samples_leaf=8, min_samples_split=11, n_estimators=80; total time=   1.6s\n",
      "[CV] END max_depth=18, min_samples_leaf=13, min_samples_split=10, n_estimators=20; total time=   0.3s\n",
      "[CV] END max_depth=18, min_samples_leaf=13, min_samples_split=10, n_estimators=20; total time=   0.3s\n",
      "[CV] END max_depth=18, min_samples_leaf=13, min_samples_split=10, n_estimators=20; total time=   0.3s\n",
      "[CV] END max_depth=18, min_samples_leaf=13, min_samples_split=10, n_estimators=20; total time=   0.3s\n",
      "[CV] END max_depth=18, min_samples_leaf=13, min_samples_split=10, n_estimators=20; total time=   0.3s\n",
      "[CV] END max_depth=15, min_samples_leaf=11, min_samples_split=4, n_estimators=30; total time=   0.5s\n",
      "[CV] END max_depth=15, min_samples_leaf=11, min_samples_split=4, n_estimators=30; total time=   0.5s\n",
      "[CV] END max_depth=15, min_samples_leaf=11, min_samples_split=4, n_estimators=30; total time=   0.7s\n",
      "[CV] END max_depth=15, min_samples_leaf=11, min_samples_split=4, n_estimators=30; total time=   0.6s\n",
      "[CV] END max_depth=15, min_samples_leaf=11, min_samples_split=4, n_estimators=30; total time=   0.6s\n",
      "[CV] END max_depth=4, min_samples_leaf=13, min_samples_split=13, n_estimators=80; total time=   0.7s\n",
      "[CV] END max_depth=4, min_samples_leaf=13, min_samples_split=13, n_estimators=80; total time=   0.7s\n",
      "[CV] END max_depth=4, min_samples_leaf=13, min_samples_split=13, n_estimators=80; total time=   0.9s\n",
      "[CV] END max_depth=4, min_samples_leaf=13, min_samples_split=13, n_estimators=80; total time=   0.7s\n",
      "[CV] END max_depth=4, min_samples_leaf=13, min_samples_split=13, n_estimators=80; total time=   0.7s\n",
      "[CV] END max_depth=18, min_samples_leaf=16, min_samples_split=16, n_estimators=50; total time=   0.8s\n",
      "[CV] END max_depth=18, min_samples_leaf=16, min_samples_split=16, n_estimators=50; total time=   0.8s\n",
      "[CV] END max_depth=18, min_samples_leaf=16, min_samples_split=16, n_estimators=50; total time=   0.8s\n",
      "[CV] END max_depth=18, min_samples_leaf=16, min_samples_split=16, n_estimators=50; total time=   0.8s\n",
      "[CV] END max_depth=18, min_samples_leaf=16, min_samples_split=16, n_estimators=50; total time=   0.8s\n",
      "[CV] END max_depth=3, min_samples_leaf=1, min_samples_split=14, n_estimators=20; total time=   0.1s\n",
      "[CV] END max_depth=3, min_samples_leaf=1, min_samples_split=14, n_estimators=20; total time=   0.1s\n",
      "[CV] END max_depth=3, min_samples_leaf=1, min_samples_split=14, n_estimators=20; total time=   0.1s\n",
      "[CV] END max_depth=3, min_samples_leaf=1, min_samples_split=14, n_estimators=20; total time=   0.1s\n",
      "[CV] END max_depth=3, min_samples_leaf=1, min_samples_split=14, n_estimators=20; total time=   0.1s\n",
      "[CV] END max_depth=6, min_samples_leaf=10, min_samples_split=2, n_estimators=30; total time=   0.4s\n",
      "[CV] END max_depth=6, min_samples_leaf=10, min_samples_split=2, n_estimators=30; total time=   0.3s\n",
      "[CV] END max_depth=6, min_samples_leaf=10, min_samples_split=2, n_estimators=30; total time=   0.3s\n",
      "[CV] END max_depth=6, min_samples_leaf=10, min_samples_split=2, n_estimators=30; total time=   0.4s\n",
      "[CV] END max_depth=6, min_samples_leaf=10, min_samples_split=2, n_estimators=30; total time=   0.3s\n",
      "[CV] END max_depth=13, min_samples_leaf=2, min_samples_split=12, n_estimators=70; total time=   1.6s\n",
      "[CV] END max_depth=13, min_samples_leaf=2, min_samples_split=12, n_estimators=70; total time=   1.6s\n",
      "[CV] END max_depth=13, min_samples_leaf=2, min_samples_split=12, n_estimators=70; total time=   1.6s\n",
      "[CV] END max_depth=13, min_samples_leaf=2, min_samples_split=12, n_estimators=70; total time=   1.8s\n",
      "[CV] END max_depth=13, min_samples_leaf=2, min_samples_split=12, n_estimators=70; total time=   2.0s\n",
      "[CV] END max_depth=8, min_samples_leaf=3, min_samples_split=12, n_estimators=30; total time=   0.5s\n",
      "[CV] END max_depth=8, min_samples_leaf=3, min_samples_split=12, n_estimators=30; total time=   0.6s\n",
      "[CV] END max_depth=8, min_samples_leaf=3, min_samples_split=12, n_estimators=30; total time=   0.6s\n",
      "[CV] END max_depth=8, min_samples_leaf=3, min_samples_split=12, n_estimators=30; total time=   0.5s\n",
      "[CV] END max_depth=8, min_samples_leaf=3, min_samples_split=12, n_estimators=30; total time=   0.4s\n",
      "[CV] END max_depth=16, min_samples_leaf=7, min_samples_split=7, n_estimators=50; total time=   1.1s\n",
      "[CV] END max_depth=16, min_samples_leaf=7, min_samples_split=7, n_estimators=50; total time=   0.9s\n",
      "[CV] END max_depth=16, min_samples_leaf=7, min_samples_split=7, n_estimators=50; total time=   1.0s\n",
      "[CV] END max_depth=16, min_samples_leaf=7, min_samples_split=7, n_estimators=50; total time=   1.0s\n",
      "[CV] END max_depth=16, min_samples_leaf=7, min_samples_split=7, n_estimators=50; total time=   1.0s\n",
      "[CV] END max_depth=15, min_samples_leaf=7, min_samples_split=9, n_estimators=50; total time=   1.0s\n",
      "[CV] END max_depth=15, min_samples_leaf=7, min_samples_split=9, n_estimators=50; total time=   1.0s\n",
      "[CV] END max_depth=15, min_samples_leaf=7, min_samples_split=9, n_estimators=50; total time=   1.0s\n",
      "[CV] END max_depth=15, min_samples_leaf=7, min_samples_split=9, n_estimators=50; total time=   1.0s\n",
      "[CV] END max_depth=15, min_samples_leaf=7, min_samples_split=9, n_estimators=50; total time=   1.0s\n",
      "[CV] END max_depth=6, min_samples_leaf=4, min_samples_split=18, n_estimators=40; total time=   0.5s\n",
      "[CV] END max_depth=6, min_samples_leaf=4, min_samples_split=18, n_estimators=40; total time=   0.5s\n",
      "[CV] END max_depth=6, min_samples_leaf=4, min_samples_split=18, n_estimators=40; total time=   0.4s\n",
      "[CV] END max_depth=6, min_samples_leaf=4, min_samples_split=18, n_estimators=40; total time=   0.5s\n",
      "[CV] END max_depth=6, min_samples_leaf=4, min_samples_split=18, n_estimators=40; total time=   0.4s\n",
      "linear regression best params{'n_estimators': 30, 'min_samples_split': 4, 'min_samples_leaf': 11, 'max_depth': 15}\n"
     ]
    }
   ],
   "source": [
    "from sklearn.model_selection import RandomizedSearchCV\n",
    "from sklearn.linear_model import LogisticRegression\n",
    "from sklearn.svm import SVC\n",
    "from sklearn.tree import DecisionTreeClassifier\n",
    "from sklearn.ensemble import RandomForestClassifier\n",
    "from joblib import dump\n",
    "logistic_regression_parameters = {\n",
    "    'C': np.logspace(-4, 4, 10),\n",
    "    'solver': ['lbfgs', 'liblinear']\n",
    "}\n",
    "\n",
    "svm_parameters = {\n",
    "    'C': np.logspace(-2, 0, 5),\n",
    "    'kernel': ['linear', 'rbf'],\n",
    "    'gamma': np.logspace(-3, 1, 5)\n",
    "}\n",
    "\n",
    "decision_tree_parameters = {\n",
    "    'max_depth': np.arange(1, 20),\n",
    "    'min_samples_split': np.arange(2, 20),\n",
    "    'min_samples_leaf': np.arange(1, 20)\n",
    "}\n",
    "\n",
    "random_forest_parameters = {\n",
    "    'n_estimators': np.arange(10, 100, 10),\n",
    "    'max_depth': np.arange(1, 20),\n",
    "    'min_samples_split': np.arange(2, 20),\n",
    "    'min_samples_leaf': np.arange(1, 20)\n",
    "}\n",
    "\n",
    "\n",
    "# Create a list of algorithms\n",
    "algorithms = [LogisticRegression(), SVC(), DecisionTreeClassifier(), RandomForestClassifier()]\n",
    "\n",
    "# Create a list of parameters\n",
    "parameters = [logistic_regression_parameters, svm_parameters, decision_tree_parameters, random_forest_parameters]\n",
    "\n",
    "models_accuracy={}\n",
    "model_test_accuracy = {}\n",
    "\n",
    "# Create a RandomizedSearchCV object\n",
    "logistic_regression_model = RandomizedSearchCV(algorithms[0], parameters[0], cv=5, n_iter=15, random_state=42,verbose=2)\n",
    "# Fit the model to the data\n",
    "logistic_regression_model.fit(transformed_data,train_y)\n",
    "# save the best model \n",
    "dump(logistic_regression_model.best_estimator_,\"logistic_regression_base.joblib\")\n",
    "models_accuracy[\"logistic_regression\"]=logistic_regression_model.score(transformed_data,train_y)\n",
    "model_test_accuracy[\"logistic_regression\"] = logistic_regression_model.score(transformed_test,test_y)\n",
    "\n",
    "\n",
    "# Print the best parameters\n",
    "print(f\"linear regression best params{logistic_regression_model.best_params_}\")\n",
    "# Create a RandomizedSearchCV object\n",
    "SVM_model = RandomizedSearchCV(algorithms[1], parameters[1], cv=5, n_iter=5, random_state=42,verbose=2,refit=True)\n",
    "# Fit the model to the data\n",
    "SVM_model.fit(transformed_data,train_y)\n",
    "dump(SVM_model.best_estimator_,\"svm_base.joblib\")\n",
    "models_accuracy[\"SVM\"]=SVM_model.score(transformed_data,train_y)\n",
    "model_test_accuracy[\"SVM\"] = SVM_model.score(transformed_test,test_y)\n",
    "\n",
    "# Print the best parameters\n",
    "print(f\"SVM best params{SVM_model.best_params_}\")\n",
    "\n",
    "# Create a RandomizedSearchCV object\n",
    "tree_model = RandomizedSearchCV(\n",
    "    algorithms[2], parameters[2], cv=5, n_iter=15, random_state=42, verbose=2)\n",
    "# Fit the model to the data\n",
    "tree_model.fit(transformed_data, train_y)\n",
    "dump(tree_model,\"decision_tree_base.joblib\")\n",
    "models_accuracy[\"decision tree\"] = tree_model.score(transformed_data, train_y)\n",
    "model_test_accuracy[\"decision tree\"] = tree_model.score(\n",
    "    transformed_test, test_y)\n",
    "# Print the best parameters\n",
    "print(f\"Decision tree best params{tree_model.best_params_}\")\n",
    "\n",
    "# Create a RandomizedSearchCV object\n",
    "forest_model = RandomizedSearchCV(\n",
    "    algorithms[3], parameters[3], cv=5, n_iter=15, random_state=42, verbose=2)\n",
    "# Fit the model to the data\n",
    "forest_model.fit(transformed_data, train_y)\n",
    "dump(forest_model.best_estimator_,\"random_forest_base.joblib\")\n",
    "models_accuracy[\"forest\"] = forest_model.score(transformed_data, train_y)\n",
    "model_test_accuracy[\"forest\"] = forest_model.score(transformed_test, test_y)\n",
    "\n",
    "# Print the best parameters\n",
    "print(f\"linear regression best params{forest_model.best_params_}\")"
   ]
  },
  {
   "cell_type": "code",
   "execution_count": 39,
   "metadata": {},
   "outputs": [
    {
     "data": {
      "text/plain": [
       "{'logistic_regression': 0.7909117054932413,\n",
       " 'SVM': 0.7811331607707794,\n",
       " 'decision tree': 0.8248490077653149,\n",
       " 'forest': 0.8399482312338222}"
      ]
     },
     "execution_count": 39,
     "metadata": {},
     "output_type": "execute_result"
    }
   ],
   "source": [
    "models_accuracy"
   ]
  },
  {
   "cell_type": "code",
   "execution_count": 40,
   "metadata": {},
   "outputs": [
    {
     "data": {
      "text/plain": [
       "{'logistic_regression': 0.7763082231167338,\n",
       " 'linear_regression': 0.7607820586543991,\n",
       " 'decision tree': 0.7659574468085106,\n",
       " 'forest': 0.7883841288096607}"
      ]
     },
     "execution_count": 40,
     "metadata": {},
     "output_type": "execute_result"
    }
   ],
   "source": [
    "model_test_accuracy"
   ]
  },
  {
   "cell_type": "code",
   "execution_count": 45,
   "metadata": {},
   "outputs": [
    {
     "name": "stdout",
     "output_type": "stream",
     "text": [
      "____LogisticRegression(C=2.782559402207126, solver='liblinear')____\n",
      "              precision    recall  f1-score   support\n",
      "\n",
      "       False       0.79      0.74      0.77       861\n",
      "        True       0.76      0.81      0.78       878\n",
      "\n",
      "    accuracy                           0.78      1739\n",
      "   macro avg       0.78      0.78      0.78      1739\n",
      "weighted avg       0.78      0.78      0.78      1739\n",
      "\n",
      "________________\n",
      "____SVC(C=0.31622776601683794, gamma=0.001, kernel='linear')____\n"
     ]
    },
    {
     "name": "stdout",
     "output_type": "stream",
     "text": [
      "              precision    recall  f1-score   support\n",
      "\n",
      "       False       0.75      0.77      0.76       861\n",
      "        True       0.77      0.75      0.76       878\n",
      "\n",
      "    accuracy                           0.76      1739\n",
      "   macro avg       0.76      0.76      0.76      1739\n",
      "weighted avg       0.76      0.76      0.76      1739\n",
      "\n",
      "________________\n",
      "____DecisionTreeClassifier(max_depth=13, min_samples_leaf=18, min_samples_split=18)____\n",
      "              precision    recall  f1-score   support\n",
      "\n",
      "       False       0.80      0.70      0.75       861\n",
      "        True       0.74      0.83      0.78       878\n",
      "\n",
      "    accuracy                           0.77      1739\n",
      "   macro avg       0.77      0.77      0.76      1739\n",
      "weighted avg       0.77      0.77      0.76      1739\n",
      "\n",
      "________________\n",
      "____RandomForestClassifier(max_depth=15, min_samples_leaf=11, min_samples_split=4,\n",
      "                       n_estimators=30)____\n",
      "              precision    recall  f1-score   support\n",
      "\n",
      "       False       0.82      0.74      0.78       861\n",
      "        True       0.77      0.84      0.80       878\n",
      "\n",
      "    accuracy                           0.79      1739\n",
      "   macro avg       0.79      0.79      0.79      1739\n",
      "weighted avg       0.79      0.79      0.79      1739\n",
      "\n",
      "________________\n"
     ]
    }
   ],
   "source": [
    "from sklearn.metrics import classification_report\n",
    "models = [logistic_regression_model.best_estimator_,SVM_model.best_estimator_,tree_model.best_estimator_,forest_model.best_estimator_]\n",
    "for model in models:\n",
    "    print(f\"____{model}____\")\n",
    "    print(classification_report(test_y,model.predict(transformed_test)))\n",
    "    print(\"________________\")"
   ]
  },
  {
   "cell_type": "code",
   "execution_count": 65,
   "metadata": {},
   "outputs": [],
   "source": [
    "from sklearn.metrics import confusion_matrix, roc_curve, roc_auc_score\n",
    "import seaborn as sns \n",
    "predictions=[]\n",
    "predictions_proba=[]\n",
    "models_proba = [logistic_regression_model.best_estimator_,tree_model.best_estimator_,forest_model.best_estimator_]\n",
    "models_name= [\"Logistic Regression\",\"Decision Tree\",\"Random Forest\"]\n",
    "\n",
    "for model in models_proba :\n",
    "    predictions.append(model.predict(transformed_test))\n",
    "    predictions_proba.append(model.predict_proba(transformed_test)[:,1])\n",
    "\n",
    "\n",
    "\n",
    "num_models = len(models_proba)\n",
    "num_cols = 2  # Two plots per model: confusion matrix and ROC curve\n",
    "num_rows = (num_models + num_cols - 1) // num_cols\n",
    "fig, axes = plt.subplots(3, 2, figsize=(12, 6*num_rows))\n",
    "\n",
    "\n",
    "for i, (model,name,prediction,prediction_proba) in enumerate(zip(models_proba,models_name,predictions,predictions_proba)):\n",
    "\n",
    "    ax_confusion = axes[i, 0]\n",
    "    ax_roc = axes[i, 1]\n",
    "\n",
    "    # Plot Confusion Matrix\n",
    "    sns.heatmap(confusion_matrix(test_y, prediction), annot=True, fmt='d', cmap='Blues', cbar=False, square=True, xticklabels=[\"negative\", \"positive\"], yticklabels=[\"negative\", \"positive\"], ax=ax_confusion)\n",
    "    ax_confusion.set_title(f'{name} - Confusion Matrix')\n",
    "\n",
    "    # Plot ROC Curve\n",
    "    fpr, tpr, _ = roc_curve(test_y, prediction_proba)\n",
    "    roc_auc = roc_auc_score(test_y, prediction_proba)\n",
    "    ax_roc.plot(fpr, tpr, label='ROC curve (area = %0.2f)' % roc_auc)\n",
    "    ax_roc.plot([0, 1], [0, 1], 'k--')\n",
    "    ax_roc.set_xlim([0.0, 1.0])\n",
    "    ax_roc.set_ylim([0.0, 1.05])\n",
    "    ax_roc.set_xlabel('False Positive Rate')\n",
    "    ax_roc.set_ylabel('True Positive Rate')\n",
    "    ax_roc.set_title(f'{name} - ROC Curve')\n",
    "    ax_roc.legend(loc=\"lower right\")\n",
    "\n",
    "# Adjust the layout and spacing of the subplots\n",
    "plt.tight_layout()\n",
    "\n",
    "# Show the plots\n",
    "plt.show()\n",
    "\n"
   ]
  },
  {
   "cell_type": "code",
   "execution_count": 86,
   "metadata": {},
   "outputs": [
    {
     "data": {
      "image/png": "[encoded data removed]",
      "text/plain": [
       "<Figure size 640x480 with 1 Axes>"
      ]
     },
     "metadata": {},
     "output_type": "display_data"
    }
   ],
   "source": [
    "# since SVM had probability =False in the hyperparameter its ROC curve can't be drawn \n",
    "svm_predations = SVM_model.predict(transformed_test)\n",
    "plot_confusion_matrix(test_y,svm_predations,title=\"SVM\")"
   ]
  },
  {
   "cell_type": "markdown",
   "metadata": {},
   "source": [
    "After inspecting the above values it's clear that the `RandomForestClassifier` is the best fit for the data so we will finitune it to get higher accuracy"
   ]
  },
  {
   "cell_type": "code",
   "execution_count": 88,
   "metadata": {},
   "outputs": [
    {
     "data": {
      "text/html": [
       "<style>#sk-container-id-2 {color: black;}#sk-container-id-2 pre{padding: 0;}#sk-container-id-2 div.sk-toggleable {background-color: white;}#sk-container-id-2 label.sk-toggleable__label {cursor: pointer;display: block;width: 100%;margin-bottom: 0;padding: 0.3em;box-sizing: border-box;text-align: center;}#sk-container-id-2 label.sk-toggleable__label-arrow:before {content: \"▸\";float: left;margin-right: 0.25em;color: #696969;}#sk-container-id-2 label.sk-toggleable__label-arrow:hover:before {color: black;}#sk-container-id-2 div.sk-estimator:hover label.sk-toggleable__label-arrow:before {color: black;}#sk-container-id-2 div.sk-toggleable__content {max-height: 0;max-width: 0;overflow: hidden;text-align: left;background-color: #f0f8ff;}#sk-container-id-2 div.sk-toggleable__content pre {margin: 0.2em;color: black;border-radius: 0.25em;background-color: #f0f8ff;}#sk-container-id-2 input.sk-toggleable__control:checked~div.sk-toggleable__content {max-height: 200px;max-width: 100%;overflow: auto;}#sk-container-id-2 input.sk-toggleable__control:checked~label.sk-toggleable__label-arrow:before {content: \"▾\";}#sk-container-id-2 div.sk-estimator input.sk-toggleable__control:checked~label.sk-toggleable__label {background-color: #d4ebff;}#sk-container-id-2 div.sk-label input.sk-toggleable__control:checked~label.sk-toggleable__label {background-color: #d4ebff;}#sk-container-id-2 input.sk-hidden--visually {border: 0;clip: rect(1px 1px 1px 1px);clip: rect(1px, 1px, 1px, 1px);height: 1px;margin: -1px;overflow: hidden;padding: 0;position: absolute;width: 1px;}#sk-container-id-2 div.sk-estimator {font-family: monospace;background-color: #f0f8ff;border: 1px dotted black;border-radius: 0.25em;box-sizing: border-box;margin-bottom: 0.5em;}#sk-container-id-2 div.sk-estimator:hover {background-color: #d4ebff;}#sk-container-id-2 div.sk-parallel-item::after {content: \"\";width: 100%;border-bottom: 1px solid gray;flex-grow: 1;}#sk-container-id-2 div.sk-label:hover label.sk-toggleable__label {background-color: #d4ebff;}#sk-container-id-2 div.sk-serial::before {content: \"\";position: absolute;border-left: 1px solid gray;box-sizing: border-box;top: 0;bottom: 0;left: 50%;z-index: 0;}#sk-container-id-2 div.sk-serial {display: flex;flex-direction: column;align-items: center;background-color: white;padding-right: 0.2em;padding-left: 0.2em;position: relative;}#sk-container-id-2 div.sk-item {position: relative;z-index: 1;}#sk-container-id-2 div.sk-parallel {display: flex;align-items: stretch;justify-content: center;background-color: white;position: relative;}#sk-container-id-2 div.sk-item::before, #sk-container-id-2 div.sk-parallel-item::before {content: \"\";position: absolute;border-left: 1px solid gray;box-sizing: border-box;top: 0;bottom: 0;left: 50%;z-index: -1;}#sk-container-id-2 div.sk-parallel-item {display: flex;flex-direction: column;z-index: 1;position: relative;background-color: white;}#sk-container-id-2 div.sk-parallel-item:first-child::after {align-self: flex-end;width: 50%;}#sk-container-id-2 div.sk-parallel-item:last-child::after {align-self: flex-start;width: 50%;}#sk-container-id-2 div.sk-parallel-item:only-child::after {width: 0;}#sk-container-id-2 div.sk-dashed-wrapped {border: 1px dashed gray;margin: 0 0.4em 0.5em 0.4em;box-sizing: border-box;padding-bottom: 0.4em;background-color: white;}#sk-container-id-2 div.sk-label label {font-family: monospace;font-weight: bold;display: inline-block;line-height: 1.2em;}#sk-container-id-2 div.sk-label-container {text-align: center;}#sk-container-id-2 div.sk-container {/* jupyter's `normalize.less` sets `[hidden] { display: none; }` but bootstrap.min.css set `[hidden] { display: none !important; }` so we also need the `!important` here to be able to override the default hidden behavior on the sphinx rendered scikit-learn.org. See: https://github.com/scikit-learn/scikit-learn/issues/21755 */display: inline-block !important;position: relative;}#sk-container-id-2 div.sk-text-repr-fallback {display: none;}</style><div id=\"sk-container-id-2\" class=\"sk-top-container\"><div class=\"sk-text-repr-fallback\"><pre>RandomForestClassifier(max_depth=15, min_samples_leaf=11, min_samples_split=4,\n",
       "                       n_estimators=30)</pre><b>In a Jupyter environment, please rerun this cell to show the HTML representation or trust the notebook. <br />On GitHub, the HTML representation is unable to render, please try loading this page with nbviewer.org.</b></div><div class=\"sk-container\" hidden><div class=\"sk-item\"><div class=\"sk-estimator sk-toggleable\"><input class=\"sk-toggleable__control sk-hidden--visually\" id=\"sk-estimator-id-2\" type=\"checkbox\" checked><label for=\"sk-estimator-id-2\" class=\"sk-toggleable__label sk-toggleable__label-arrow\">RandomForestClassifier</label><div class=\"sk-toggleable__content\"><pre>RandomForestClassifier(max_depth=15, min_samples_leaf=11, min_samples_split=4,\n",
       "                       n_estimators=30)</pre></div></div></div></div></div>"
      ],
      "text/plain": [
       "RandomForestClassifier(max_depth=15, min_samples_leaf=11, min_samples_split=4,\n",
       "                       n_estimators=30)"
      ]
     },
     "execution_count": 88,
     "metadata": {},
     "output_type": "execute_result"
    }
   ],
   "source": [
    "forest_model.best_estimator_"
   ]
  },
  {
   "cell_type": "code",
   "execution_count": 90,
   "metadata": {},
   "outputs": [
    {
     "data": {
      "text/plain": [
       "array([10, 15, 20])"
      ]
     },
     "execution_count": 90,
     "metadata": {},
     "output_type": "execute_result"
    }
   ],
   "source": [
    "np.arange(10,21,5)"
   ]
  },
  {
   "cell_type": "code",
   "execution_count": 108,
   "metadata": {},
   "outputs": [
    {
     "data": {
      "text/plain": [
       "(6954, 17)"
      ]
     },
     "execution_count": 108,
     "metadata": {},
     "output_type": "execute_result"
    }
   ],
   "source": [
    "transformed_data.shape"
   ]
  },
  {
   "cell_type": "code",
   "execution_count": 113,
   "metadata": {},
   "outputs": [
    {
     "name": "stdout",
     "output_type": "stream",
     "text": [
      "Fitting 3 folds for each of 64152 candidates, totalling 192456 fits\n"
     ]
    },
    {
     "data": {
      "text/html": [
       "<style>#sk-container-id-7 {color: black;}#sk-container-id-7 pre{padding: 0;}#sk-container-id-7 div.sk-toggleable {background-color: white;}#sk-container-id-7 label.sk-toggleable__label {cursor: pointer;display: block;width: 100%;margin-bottom: 0;padding: 0.3em;box-sizing: border-box;text-align: center;}#sk-container-id-7 label.sk-toggleable__label-arrow:before {content: \"▸\";float: left;margin-right: 0.25em;color: #696969;}#sk-container-id-7 label.sk-toggleable__label-arrow:hover:before {color: black;}#sk-container-id-7 div.sk-estimator:hover label.sk-toggleable__label-arrow:before {color: black;}#sk-container-id-7 div.sk-toggleable__content {max-height: 0;max-width: 0;overflow: hidden;text-align: left;background-color: #f0f8ff;}#sk-container-id-7 div.sk-toggleable__content pre {margin: 0.2em;color: black;border-radius: 0.25em;background-color: #f0f8ff;}#sk-container-id-7 input.sk-toggleable__control:checked~div.sk-toggleable__content {max-height: 200px;max-width: 100%;overflow: auto;}#sk-container-id-7 input.sk-toggleable__control:checked~label.sk-toggleable__label-arrow:before {content: \"▾\";}#sk-container-id-7 div.sk-estimator input.sk-toggleable__control:checked~label.sk-toggleable__label {background-color: #d4ebff;}#sk-container-id-7 div.sk-label input.sk-toggleable__control:checked~label.sk-toggleable__label {background-color: #d4ebff;}#sk-container-id-7 input.sk-hidden--visually {border: 0;clip: rect(1px 1px 1px 1px);clip: rect(1px, 1px, 1px, 1px);height: 1px;margin: -1px;overflow: hidden;padding: 0;position: absolute;width: 1px;}#sk-container-id-7 div.sk-estimator {font-family: monospace;background-color: #f0f8ff;border: 1px dotted black;border-radius: 0.25em;box-sizing: border-box;margin-bottom: 0.5em;}#sk-container-id-7 div.sk-estimator:hover {background-color: #d4ebff;}#sk-container-id-7 div.sk-parallel-item::after {content: \"\";width: 100%;border-bottom: 1px solid gray;flex-grow: 1;}#sk-container-id-7 div.sk-label:hover label.sk-toggleable__label {background-color: #d4ebff;}#sk-container-id-7 div.sk-serial::before {content: \"\";position: absolute;border-left: 1px solid gray;box-sizing: border-box;top: 0;bottom: 0;left: 50%;z-index: 0;}#sk-container-id-7 div.sk-serial {display: flex;flex-direction: column;align-items: center;background-color: white;padding-right: 0.2em;padding-left: 0.2em;position: relative;}#sk-container-id-7 div.sk-item {position: relative;z-index: 1;}#sk-container-id-7 div.sk-parallel {display: flex;align-items: stretch;justify-content: center;background-color: white;position: relative;}#sk-container-id-7 div.sk-item::before, #sk-container-id-7 div.sk-parallel-item::before {content: \"\";position: absolute;border-left: 1px solid gray;box-sizing: border-box;top: 0;bottom: 0;left: 50%;z-index: -1;}#sk-container-id-7 div.sk-parallel-item {display: flex;flex-direction: column;z-index: 1;position: relative;background-color: white;}#sk-container-id-7 div.sk-parallel-item:first-child::after {align-self: flex-end;width: 50%;}#sk-container-id-7 div.sk-parallel-item:last-child::after {align-self: flex-start;width: 50%;}#sk-container-id-7 div.sk-parallel-item:only-child::after {width: 0;}#sk-container-id-7 div.sk-dashed-wrapped {border: 1px dashed gray;margin: 0 0.4em 0.5em 0.4em;box-sizing: border-box;padding-bottom: 0.4em;background-color: white;}#sk-container-id-7 div.sk-label label {font-family: monospace;font-weight: bold;display: inline-block;line-height: 1.2em;}#sk-container-id-7 div.sk-label-container {text-align: center;}#sk-container-id-7 div.sk-container {/* jupyter's `normalize.less` sets `[hidden] { display: none; }` but bootstrap.min.css set `[hidden] { display: none !important; }` so we also need the `!important` here to be able to override the default hidden behavior on the sphinx rendered scikit-learn.org. See: https://github.com/scikit-learn/scikit-learn/issues/21755 */display: inline-block !important;position: relative;}#sk-container-id-7 div.sk-text-repr-fallback {display: none;}</style><div id=\"sk-container-id-7\" class=\"sk-top-container\"><div class=\"sk-text-repr-fallback\"><pre>GridSearchCV(cv=3, estimator=RandomForestClassifier(), n_jobs=-1,\n",
       "             param_grid={&#x27;bootstrap&#x27;: [True, False],\n",
       "                         &#x27;criterion&#x27;: [&#x27;gini&#x27;, &#x27;entropy&#x27;, &#x27;log_loss&#x27;],\n",
       "                         &#x27;max_depth&#x27;: array([10, 15, 20, 25, 30, 35, 40, 45, 50]),\n",
       "                         &#x27;max_features&#x27;: [&#x27;log2&#x27;, &#x27;sqrt&#x27;, None],\n",
       "                         &#x27;min_samples_leaf&#x27;: array([10, 11, 12, 13, 14, 15, 16, 17, 18, 19, 20]),\n",
       "                         &#x27;min_samples_split&#x27;: array([ 2,  3,  4,  5,  6,  7,  8,  9, 10]),\n",
       "                         &#x27;n_estimators&#x27;: [15, 20, 25, 30]},\n",
       "             verbose=2)</pre><b>In a Jupyter environment, please rerun this cell to show the HTML representation or trust the notebook. <br />On GitHub, the HTML representation is unable to render, please try loading this page with nbviewer.org.</b></div><div class=\"sk-container\" hidden><div class=\"sk-item sk-dashed-wrapped\"><div class=\"sk-label-container\"><div class=\"sk-label sk-toggleable\"><input class=\"sk-toggleable__control sk-hidden--visually\" id=\"sk-estimator-id-15\" type=\"checkbox\" ><label for=\"sk-estimator-id-15\" class=\"sk-toggleable__label sk-toggleable__label-arrow\">GridSearchCV</label><div class=\"sk-toggleable__content\"><pre>GridSearchCV(cv=3, estimator=RandomForestClassifier(), n_jobs=-1,\n",
       "             param_grid={&#x27;bootstrap&#x27;: [True, False],\n",
       "                         &#x27;criterion&#x27;: [&#x27;gini&#x27;, &#x27;entropy&#x27;, &#x27;log_loss&#x27;],\n",
       "                         &#x27;max_depth&#x27;: array([10, 15, 20, 25, 30, 35, 40, 45, 50]),\n",
       "                         &#x27;max_features&#x27;: [&#x27;log2&#x27;, &#x27;sqrt&#x27;, None],\n",
       "                         &#x27;min_samples_leaf&#x27;: array([10, 11, 12, 13, 14, 15, 16, 17, 18, 19, 20]),\n",
       "                         &#x27;min_samples_split&#x27;: array([ 2,  3,  4,  5,  6,  7,  8,  9, 10]),\n",
       "                         &#x27;n_estimators&#x27;: [15, 20, 25, 30]},\n",
       "             verbose=2)</pre></div></div></div><div class=\"sk-parallel\"><div class=\"sk-parallel-item\"><div class=\"sk-item\"><div class=\"sk-label-container\"><div class=\"sk-label sk-toggleable\"><input class=\"sk-toggleable__control sk-hidden--visually\" id=\"sk-estimator-id-16\" type=\"checkbox\" ><label for=\"sk-estimator-id-16\" class=\"sk-toggleable__label sk-toggleable__label-arrow\">estimator: RandomForestClassifier</label><div class=\"sk-toggleable__content\"><pre>RandomForestClassifier()</pre></div></div></div><div class=\"sk-serial\"><div class=\"sk-item\"><div class=\"sk-estimator sk-toggleable\"><input class=\"sk-toggleable__control sk-hidden--visually\" id=\"sk-estimator-id-17\" type=\"checkbox\" ><label for=\"sk-estimator-id-17\" class=\"sk-toggleable__label sk-toggleable__label-arrow\">RandomForestClassifier</label><div class=\"sk-toggleable__content\"><pre>RandomForestClassifier()</pre></div></div></div></div></div></div></div></div></div></div>"
      ],
      "text/plain": [
       "GridSearchCV(cv=3, estimator=RandomForestClassifier(), n_jobs=-1,\n",
       "             param_grid={'bootstrap': [True, False],\n",
       "                         'criterion': ['gini', 'entropy', 'log_loss'],\n",
       "                         'max_depth': array([10, 15, 20, 25, 30, 35, 40, 45, 50]),\n",
       "                         'max_features': ['log2', 'sqrt', None],\n",
       "                         'min_samples_leaf': array([10, 11, 12, 13, 14, 15, 16, 17, 18, 19, 20]),\n",
       "                         'min_samples_split': array([ 2,  3,  4,  5,  6,  7,  8,  9, 10]),\n",
       "                         'n_estimators': [15, 20, 25, 30]},\n",
       "             verbose=2)"
      ]
     },
     "execution_count": 113,
     "metadata": {},
     "output_type": "execute_result"
    }
   ],
   "source": [
    "from sklearn.model_selection import GridSearchCV\n",
    "from sklearn.ensemble import RandomForestClassifier\n",
    "from joblib import dump\n",
    "random_forest_fine_tuned = RandomForestClassifier()\n",
    "param_grid = {\n",
    "    \"criterion\":[\"gini\", \"entropy\", \"log_loss\"],\n",
    "    \"n_estimators\":[15,20,25,30],\n",
    "    \"max_depth\":np.arange(10,51,5),\n",
    "    \"min_samples_split\":np.arange(2,11,1),\n",
    "    \"min_samples_leaf\":np.arange(10,21,1),\n",
    "    \"max_features\": [\"log2\", \"sqrt\",None],\n",
    "    \"bootstrap\": [True, False]\n",
    "}\n",
    "grid_search = GridSearchCV(random_forest_fine_tuned,param_grid,cv=3,\n",
    "                                n_jobs=-1,verbose=2,refit=True)\n",
    "grid_search.fit(transformed_data,train_y)\n"
   ]
  },
  {
   "cell_type": "code",
   "execution_count": 116,
   "metadata": {},
   "outputs": [
    {
     "data": {
      "text/plain": [
       "0.7814836112708453"
      ]
     },
     "execution_count": 116,
     "metadata": {},
     "output_type": "execute_result"
    }
   ],
   "source": [
    "grid_search.best_estimator_.score(transformed_test,test_y)"
   ]
  },
  {
   "cell_type": "code",
   "execution_count": 117,
   "metadata": {},
   "outputs": [
    {
     "data": {
      "text/plain": [
       "0.7883841288096607"
      ]
     },
     "execution_count": 117,
     "metadata": {},
     "output_type": "execute_result"
    }
   ],
   "source": [
    "forest_model.score(transformed_test,test_y)"
   ]
  },
  {
   "cell_type": "code",
   "execution_count": 118,
   "metadata": {},
   "outputs": [
    {
     "data": {
      "text/html": [
       "<style>#sk-container-id-8 {color: black;}#sk-container-id-8 pre{padding: 0;}#sk-container-id-8 div.sk-toggleable {background-color: white;}#sk-container-id-8 label.sk-toggleable__label {cursor: pointer;display: block;width: 100%;margin-bottom: 0;padding: 0.3em;box-sizing: border-box;text-align: center;}#sk-container-id-8 label.sk-toggleable__label-arrow:before {content: \"▸\";float: left;margin-right: 0.25em;color: #696969;}#sk-container-id-8 label.sk-toggleable__label-arrow:hover:before {color: black;}#sk-container-id-8 div.sk-estimator:hover label.sk-toggleable__label-arrow:before {color: black;}#sk-container-id-8 div.sk-toggleable__content {max-height: 0;max-width: 0;overflow: hidden;text-align: left;background-color: #f0f8ff;}#sk-container-id-8 div.sk-toggleable__content pre {margin: 0.2em;color: black;border-radius: 0.25em;background-color: #f0f8ff;}#sk-container-id-8 input.sk-toggleable__control:checked~div.sk-toggleable__content {max-height: 200px;max-width: 100%;overflow: auto;}#sk-container-id-8 input.sk-toggleable__control:checked~label.sk-toggleable__label-arrow:before {content: \"▾\";}#sk-container-id-8 div.sk-estimator input.sk-toggleable__control:checked~label.sk-toggleable__label {background-color: #d4ebff;}#sk-container-id-8 div.sk-label input.sk-toggleable__control:checked~label.sk-toggleable__label {background-color: #d4ebff;}#sk-container-id-8 input.sk-hidden--visually {border: 0;clip: rect(1px 1px 1px 1px);clip: rect(1px, 1px, 1px, 1px);height: 1px;margin: -1px;overflow: hidden;padding: 0;position: absolute;width: 1px;}#sk-container-id-8 div.sk-estimator {font-family: monospace;background-color: #f0f8ff;border: 1px dotted black;border-radius: 0.25em;box-sizing: border-box;margin-bottom: 0.5em;}#sk-container-id-8 div.sk-estimator:hover {background-color: #d4ebff;}#sk-container-id-8 div.sk-parallel-item::after {content: \"\";width: 100%;border-bottom: 1px solid gray;flex-grow: 1;}#sk-container-id-8 div.sk-label:hover label.sk-toggleable__label {background-color: #d4ebff;}#sk-container-id-8 div.sk-serial::before {content: \"\";position: absolute;border-left: 1px solid gray;box-sizing: border-box;top: 0;bottom: 0;left: 50%;z-index: 0;}#sk-container-id-8 div.sk-serial {display: flex;flex-direction: column;align-items: center;background-color: white;padding-right: 0.2em;padding-left: 0.2em;position: relative;}#sk-container-id-8 div.sk-item {position: relative;z-index: 1;}#sk-container-id-8 div.sk-parallel {display: flex;align-items: stretch;justify-content: center;background-color: white;position: relative;}#sk-container-id-8 div.sk-item::before, #sk-container-id-8 div.sk-parallel-item::before {content: \"\";position: absolute;border-left: 1px solid gray;box-sizing: border-box;top: 0;bottom: 0;left: 50%;z-index: -1;}#sk-container-id-8 div.sk-parallel-item {display: flex;flex-direction: column;z-index: 1;position: relative;background-color: white;}#sk-container-id-8 div.sk-parallel-item:first-child::after {align-self: flex-end;width: 50%;}#sk-container-id-8 div.sk-parallel-item:last-child::after {align-self: flex-start;width: 50%;}#sk-container-id-8 div.sk-parallel-item:only-child::after {width: 0;}#sk-container-id-8 div.sk-dashed-wrapped {border: 1px dashed gray;margin: 0 0.4em 0.5em 0.4em;box-sizing: border-box;padding-bottom: 0.4em;background-color: white;}#sk-container-id-8 div.sk-label label {font-family: monospace;font-weight: bold;display: inline-block;line-height: 1.2em;}#sk-container-id-8 div.sk-label-container {text-align: center;}#sk-container-id-8 div.sk-container {/* jupyter's `normalize.less` sets `[hidden] { display: none; }` but bootstrap.min.css set `[hidden] { display: none !important; }` so we also need the `!important` here to be able to override the default hidden behavior on the sphinx rendered scikit-learn.org. See: https://github.com/scikit-learn/scikit-learn/issues/21755 */display: inline-block !important;position: relative;}#sk-container-id-8 div.sk-text-repr-fallback {display: none;}</style><div id=\"sk-container-id-8\" class=\"sk-top-container\"><div class=\"sk-text-repr-fallback\"><pre>RandomForestClassifier(max_depth=15, min_samples_leaf=11, min_samples_split=4,\n",
       "                       n_estimators=30)</pre><b>In a Jupyter environment, please rerun this cell to show the HTML representation or trust the notebook. <br />On GitHub, the HTML representation is unable to render, please try loading this page with nbviewer.org.</b></div><div class=\"sk-container\" hidden><div class=\"sk-item\"><div class=\"sk-estimator sk-toggleable\"><input class=\"sk-toggleable__control sk-hidden--visually\" id=\"sk-estimator-id-18\" type=\"checkbox\" checked><label for=\"sk-estimator-id-18\" class=\"sk-toggleable__label sk-toggleable__label-arrow\">RandomForestClassifier</label><div class=\"sk-toggleable__content\"><pre>RandomForestClassifier(max_depth=15, min_samples_leaf=11, min_samples_split=4,\n",
       "                       n_estimators=30)</pre></div></div></div></div></div>"
      ],
      "text/plain": [
       "RandomForestClassifier(max_depth=15, min_samples_leaf=11, min_samples_split=4,\n",
       "                       n_estimators=30)"
      ]
     },
     "execution_count": 118,
     "metadata": {},
     "output_type": "execute_result"
    }
   ],
   "source": [
    "forest_model.best_estimator_"
   ]
  },
  {
   "cell_type": "code",
   "execution_count": 121,
   "metadata": {},
   "outputs": [
    {
     "data": {
      "text/plain": [
       "0.8382226056945643"
      ]
     },
     "execution_count": 121,
     "metadata": {},
     "output_type": "execute_result"
    }
   ],
   "source": [
    "grid_search.best_estimator_.score(transformed_data,train_y)"
   ]
  },
  {
   "cell_type": "code",
   "execution_count": 122,
   "metadata": {},
   "outputs": [
    {
     "data": {
      "text/plain": [
       "['fine_tuned_random_forest.joblib']"
      ]
     },
     "execution_count": 122,
     "metadata": {},
     "output_type": "execute_result"
    }
   ],
   "source": [
    "dump(grid_search.best_estimator_,\"fine_tuned_random_forest.joblib\")"
   ]
  },
  {
   "cell_type": "code",
   "execution_count": 123,
   "metadata": {},
   "outputs": [
    {
     "data": {
      "text/html": [
       "<div>\n",
       "<style scoped>\n",
       "    .dataframe tbody tr th:only-of-type {\n",
       "        vertical-align: middle;\n",
       "    }\n",
       "\n",
       "    .dataframe tbody tr th {\n",
       "        vertical-align: top;\n",
       "    }\n",
       "\n",
       "    .dataframe thead th {\n",
       "        text-align: right;\n",
       "    }\n",
       "</style>\n",
       "<table border=\"1\" class=\"dataframe\">\n",
       "  <thead>\n",
       "    <tr style=\"text-align: right;\">\n",
       "      <th></th>\n",
       "      <th>PassengerId</th>\n",
       "      <th>HomePlanet</th>\n",
       "      <th>CryoSleep</th>\n",
       "      <th>Cabin</th>\n",
       "      <th>Destination</th>\n",
       "      <th>Age</th>\n",
       "      <th>VIP</th>\n",
       "      <th>RoomService</th>\n",
       "      <th>FoodCourt</th>\n",
       "      <th>ShoppingMall</th>\n",
       "      <th>Spa</th>\n",
       "      <th>VRDeck</th>\n",
       "      <th>Name</th>\n",
       "    </tr>\n",
       "  </thead>\n",
       "  <tbody>\n",
       "    <tr>\n",
       "      <th>0</th>\n",
       "      <td>0013_01</td>\n",
       "      <td>Earth</td>\n",
       "      <td>True</td>\n",
       "      <td>G/3/S</td>\n",
       "      <td>TRAPPIST-1e</td>\n",
       "      <td>27.0</td>\n",
       "      <td>False</td>\n",
       "      <td>0.0</td>\n",
       "      <td>0.0</td>\n",
       "      <td>0.0</td>\n",
       "      <td>0.0</td>\n",
       "      <td>0.0</td>\n",
       "      <td>Nelly Carsoning</td>\n",
       "    </tr>\n",
       "    <tr>\n",
       "      <th>1</th>\n",
       "      <td>0018_01</td>\n",
       "      <td>Earth</td>\n",
       "      <td>False</td>\n",
       "      <td>F/4/S</td>\n",
       "      <td>TRAPPIST-1e</td>\n",
       "      <td>19.0</td>\n",
       "      <td>False</td>\n",
       "      <td>0.0</td>\n",
       "      <td>9.0</td>\n",
       "      <td>0.0</td>\n",
       "      <td>2823.0</td>\n",
       "      <td>0.0</td>\n",
       "      <td>Lerome Peckers</td>\n",
       "    </tr>\n",
       "    <tr>\n",
       "      <th>2</th>\n",
       "      <td>0019_01</td>\n",
       "      <td>Europa</td>\n",
       "      <td>True</td>\n",
       "      <td>C/0/S</td>\n",
       "      <td>55 Cancri e</td>\n",
       "      <td>31.0</td>\n",
       "      <td>False</td>\n",
       "      <td>0.0</td>\n",
       "      <td>0.0</td>\n",
       "      <td>0.0</td>\n",
       "      <td>0.0</td>\n",
       "      <td>0.0</td>\n",
       "      <td>Sabih Unhearfus</td>\n",
       "    </tr>\n",
       "    <tr>\n",
       "      <th>3</th>\n",
       "      <td>0021_01</td>\n",
       "      <td>Europa</td>\n",
       "      <td>False</td>\n",
       "      <td>C/1/S</td>\n",
       "      <td>TRAPPIST-1e</td>\n",
       "      <td>38.0</td>\n",
       "      <td>False</td>\n",
       "      <td>0.0</td>\n",
       "      <td>6652.0</td>\n",
       "      <td>0.0</td>\n",
       "      <td>181.0</td>\n",
       "      <td>585.0</td>\n",
       "      <td>Meratz Caltilter</td>\n",
       "    </tr>\n",
       "    <tr>\n",
       "      <th>4</th>\n",
       "      <td>0023_01</td>\n",
       "      <td>Earth</td>\n",
       "      <td>False</td>\n",
       "      <td>F/5/S</td>\n",
       "      <td>TRAPPIST-1e</td>\n",
       "      <td>20.0</td>\n",
       "      <td>False</td>\n",
       "      <td>10.0</td>\n",
       "      <td>0.0</td>\n",
       "      <td>635.0</td>\n",
       "      <td>0.0</td>\n",
       "      <td>0.0</td>\n",
       "      <td>Brence Harperez</td>\n",
       "    </tr>\n",
       "  </tbody>\n",
       "</table>\n",
       "</div>"
      ],
      "text/plain": [
       "  PassengerId HomePlanet CryoSleep  Cabin  Destination   Age    VIP  \\\n",
       "0     0013_01      Earth      True  G/3/S  TRAPPIST-1e  27.0  False   \n",
       "1     0018_01      Earth     False  F/4/S  TRAPPIST-1e  19.0  False   \n",
       "2     0019_01     Europa      True  C/0/S  55 Cancri e  31.0  False   \n",
       "3     0021_01     Europa     False  C/1/S  TRAPPIST-1e  38.0  False   \n",
       "4     0023_01      Earth     False  F/5/S  TRAPPIST-1e  20.0  False   \n",
       "\n",
       "   RoomService  FoodCourt  ShoppingMall     Spa  VRDeck              Name  \n",
       "0          0.0        0.0           0.0     0.0     0.0   Nelly Carsoning  \n",
       "1          0.0        9.0           0.0  2823.0     0.0    Lerome Peckers  \n",
       "2          0.0        0.0           0.0     0.0     0.0   Sabih Unhearfus  \n",
       "3          0.0     6652.0           0.0   181.0   585.0  Meratz Caltilter  \n",
       "4         10.0        0.0         635.0     0.0     0.0   Brence Harperez  "
      ]
     },
     "execution_count": 123,
     "metadata": {},
     "output_type": "execute_result"
    }
   ],
   "source": [
    "submission_data  = pd.read_csv(\"test.csv\")\n",
    "submission_data.head()"
   ]
  },
  {
   "cell_type": "code",
   "execution_count": 124,
   "metadata": {},
   "outputs": [
    {
     "data": {
      "text/plain": [
       "PassengerId       0\n",
       "HomePlanet       87\n",
       "CryoSleep        93\n",
       "Cabin           100\n",
       "Destination      92\n",
       "Age              91\n",
       "VIP              93\n",
       "RoomService      82\n",
       "FoodCourt       106\n",
       "ShoppingMall     98\n",
       "Spa             101\n",
       "VRDeck           80\n",
       "Name             94\n",
       "dtype: int64"
      ]
     },
     "execution_count": 124,
     "metadata": {},
     "output_type": "execute_result"
    }
   ],
   "source": [
    "submission_data.isna().sum()"
   ]
  },
  {
   "cell_type": "code",
   "execution_count": 128,
   "metadata": {},
   "outputs": [],
   "source": [
    "submission_transformed = pipeline.transform(submission_data)\n",
    "predicted_labels = grid_search.predict(submission_transformed)\n",
    "data_dict = {\n",
    "    \"PassengerId\":submission_data[\"PassengerId\"],\n",
    "    \"Transported\":predicted_labels\n",
    "}\n",
    "submission = pd.DataFrame(data_dict)"
   ]
  },
  {
   "cell_type": "code",
   "execution_count": 129,
   "metadata": {},
   "outputs": [
    {
     "data": {
      "text/html": [
       "<div>\n",
       "<style scoped>\n",
       "    .dataframe tbody tr th:only-of-type {\n",
       "        vertical-align: middle;\n",
       "    }\n",
       "\n",
       "    .dataframe tbody tr th {\n",
       "        vertical-align: top;\n",
       "    }\n",
       "\n",
       "    .dataframe thead th {\n",
       "        text-align: right;\n",
       "    }\n",
       "</style>\n",
       "<table border=\"1\" class=\"dataframe\">\n",
       "  <thead>\n",
       "    <tr style=\"text-align: right;\">\n",
       "      <th></th>\n",
       "      <th>PassengerId</th>\n",
       "      <th>Transported</th>\n",
       "    </tr>\n",
       "  </thead>\n",
       "  <tbody>\n",
       "    <tr>\n",
       "      <th>0</th>\n",
       "      <td>0013_01</td>\n",
       "      <td>True</td>\n",
       "    </tr>\n",
       "    <tr>\n",
       "      <th>1</th>\n",
       "      <td>0018_01</td>\n",
       "      <td>False</td>\n",
       "    </tr>\n",
       "    <tr>\n",
       "      <th>2</th>\n",
       "      <td>0019_01</td>\n",
       "      <td>True</td>\n",
       "    </tr>\n",
       "    <tr>\n",
       "      <th>3</th>\n",
       "      <td>0021_01</td>\n",
       "      <td>True</td>\n",
       "    </tr>\n",
       "    <tr>\n",
       "      <th>4</th>\n",
       "      <td>0023_01</td>\n",
       "      <td>True</td>\n",
       "    </tr>\n",
       "    <tr>\n",
       "      <th>...</th>\n",
       "      <td>...</td>\n",
       "      <td>...</td>\n",
       "    </tr>\n",
       "    <tr>\n",
       "      <th>4272</th>\n",
       "      <td>9266_02</td>\n",
       "      <td>True</td>\n",
       "    </tr>\n",
       "    <tr>\n",
       "      <th>4273</th>\n",
       "      <td>9269_01</td>\n",
       "      <td>False</td>\n",
       "    </tr>\n",
       "    <tr>\n",
       "      <th>4274</th>\n",
       "      <td>9271_01</td>\n",
       "      <td>True</td>\n",
       "    </tr>\n",
       "    <tr>\n",
       "      <th>4275</th>\n",
       "      <td>9273_01</td>\n",
       "      <td>True</td>\n",
       "    </tr>\n",
       "    <tr>\n",
       "      <th>4276</th>\n",
       "      <td>9277_01</td>\n",
       "      <td>True</td>\n",
       "    </tr>\n",
       "  </tbody>\n",
       "</table>\n",
       "<p>4277 rows × 2 columns</p>\n",
       "</div>"
      ],
      "text/plain": [
       "     PassengerId  Transported\n",
       "0        0013_01         True\n",
       "1        0018_01        False\n",
       "2        0019_01         True\n",
       "3        0021_01         True\n",
       "4        0023_01         True\n",
       "...          ...          ...\n",
       "4272     9266_02         True\n",
       "4273     9269_01        False\n",
       "4274     9271_01         True\n",
       "4275     9273_01         True\n",
       "4276     9277_01         True\n",
       "\n",
       "[4277 rows x 2 columns]"
      ]
     },
     "execution_count": 129,
     "metadata": {},
     "output_type": "execute_result"
    }
   ],
   "source": [
    "submission"
   ]
  },
  {
   "cell_type": "code",
   "execution_count": 130,
   "metadata": {},
   "outputs": [],
   "source": [
    "submission.to_csv(\"first_submission.csv\",index=False)"
   ]
  },
  {
   "cell_type": "markdown",
   "metadata": {},
   "source": [
    "The above model gave an accuracy score of 79% on the test data giving an average ranking \n",
    "the model's hyperparameters were : \n",
    "* `bootstrap` : True\n",
    "* `ccp_alpha`: 0.0\n",
    "* `class_weight` : None\n",
    "* `criterion` : `log_loss`\n",
    "* `max_depth`: 30\n",
    "* `max_features` : `log2`\n",
    "* `max_leaf_nodes`: None\n",
    "* `max_samples`: None\n",
    "* `min_impurity_decrease`: 0.0\n",
    "* `min_samples_leaf`: 14\n",
    "* `min_samples_split`: 3\n",
    "* `min_weight_fraction_leaf`: 0.0\n",
    "* `n_estimators`: 25"
   ]
  },
  {
   "cell_type": "code",
   "execution_count": 44,
   "metadata": {},
   "outputs": [
    {
     "data": {
      "image/png": "[encoded data removed]",
      "text/plain": [
       "<Figure size 1200x600 with 1 Axes>"
      ]
     },
     "metadata": {},
     "output_type": "display_data"
    }
   ],
   "source": [
    "import matplotlib.pyplot as plt\n",
    "import seaborn as sns\n",
    "from joblib import load \n",
    "\n",
    "model = load(\"fine_tuned_random_forest.joblib\")\n",
    "\n",
    "# Get the OneHotEncoder object from the categorical_pipeline\n",
    "one_hot_encoder = pipeline.named_steps['preprocessor'].named_transformers_[\"categorical\"].named_steps[\"encode\"]\n",
    "\n",
    "# Get the feature names after one-hot encoding\n",
    "feature_names_after_encoding = one_hot_encoder.get_feature_names_out(input_features=categorical_columns)\n",
    "\n",
    "\n",
    "# Assuming you have already extracted the feature importances and stored them in 'feature_importances'\n",
    "feature_importances = model.feature_importances_\n",
    "\n",
    "# Create a DataFrame to store feature names and their importances\n",
    "feature_names = non_numerical_columns +  boolean_columns + numerical_columns +list(feature_names_after_encoding)+ id_column\n",
    "feature_importance_df = pd.DataFrame({'Feature': feature_names, 'Importance': feature_importances})\n",
    "\n",
    "# Sort the DataFrame by feature importance in descending order\n",
    "feature_importance_df = feature_importance_df.sort_values(by='Importance', ascending=False)\n",
    "\n",
    "# Create a bar plot to visualize feature importances\n",
    "plt.figure(figsize=(12, 6))\n",
    "sns.barplot(x='Importance', y='Feature', data=feature_importance_df)\n",
    "plt.xlabel('Feature Importance')\n",
    "plt.ylabel('Feature')\n",
    "plt.title('Feature Importance Plot of random forest fine tuned')\n",
    "plt.show()\n"
   ]
  },
  {
   "cell_type": "code",
   "execution_count": 38,
   "metadata": {},
   "outputs": [
    {
     "name": "stdout",
     "output_type": "stream",
     "text": [
      "Fitting 5 folds for each of 20 candidates, totalling 100 fits\n"
     ]
    },
    {
     "data": {
      "text/html": [
       "<style>#sk-container-id-1 {color: black;}#sk-container-id-1 pre{padding: 0;}#sk-container-id-1 div.sk-toggleable {background-color: white;}#sk-container-id-1 label.sk-toggleable__label {cursor: pointer;display: block;width: 100%;margin-bottom: 0;padding: 0.3em;box-sizing: border-box;text-align: center;}#sk-container-id-1 label.sk-toggleable__label-arrow:before {content: \"▸\";float: left;margin-right: 0.25em;color: #696969;}#sk-container-id-1 label.sk-toggleable__label-arrow:hover:before {color: black;}#sk-container-id-1 div.sk-estimator:hover label.sk-toggleable__label-arrow:before {color: black;}#sk-container-id-1 div.sk-toggleable__content {max-height: 0;max-width: 0;overflow: hidden;text-align: left;background-color: #f0f8ff;}#sk-container-id-1 div.sk-toggleable__content pre {margin: 0.2em;color: black;border-radius: 0.25em;background-color: #f0f8ff;}#sk-container-id-1 input.sk-toggleable__control:checked~div.sk-toggleable__content {max-height: 200px;max-width: 100%;overflow: auto;}#sk-container-id-1 input.sk-toggleable__control:checked~label.sk-toggleable__label-arrow:before {content: \"▾\";}#sk-container-id-1 div.sk-estimator input.sk-toggleable__control:checked~label.sk-toggleable__label {background-color: #d4ebff;}#sk-container-id-1 div.sk-label input.sk-toggleable__control:checked~label.sk-toggleable__label {background-color: #d4ebff;}#sk-container-id-1 input.sk-hidden--visually {border: 0;clip: rect(1px 1px 1px 1px);clip: rect(1px, 1px, 1px, 1px);height: 1px;margin: -1px;overflow: hidden;padding: 0;position: absolute;width: 1px;}#sk-container-id-1 div.sk-estimator {font-family: monospace;background-color: #f0f8ff;border: 1px dotted black;border-radius: 0.25em;box-sizing: border-box;margin-bottom: 0.5em;}#sk-container-id-1 div.sk-estimator:hover {background-color: #d4ebff;}#sk-container-id-1 div.sk-parallel-item::after {content: \"\";width: 100%;border-bottom: 1px solid gray;flex-grow: 1;}#sk-container-id-1 div.sk-label:hover label.sk-toggleable__label {background-color: #d4ebff;}#sk-container-id-1 div.sk-serial::before {content: \"\";position: absolute;border-left: 1px solid gray;box-sizing: border-box;top: 0;bottom: 0;left: 50%;z-index: 0;}#sk-container-id-1 div.sk-serial {display: flex;flex-direction: column;align-items: center;background-color: white;padding-right: 0.2em;padding-left: 0.2em;position: relative;}#sk-container-id-1 div.sk-item {position: relative;z-index: 1;}#sk-container-id-1 div.sk-parallel {display: flex;align-items: stretch;justify-content: center;background-color: white;position: relative;}#sk-container-id-1 div.sk-item::before, #sk-container-id-1 div.sk-parallel-item::before {content: \"\";position: absolute;border-left: 1px solid gray;box-sizing: border-box;top: 0;bottom: 0;left: 50%;z-index: -1;}#sk-container-id-1 div.sk-parallel-item {display: flex;flex-direction: column;z-index: 1;position: relative;background-color: white;}#sk-container-id-1 div.sk-parallel-item:first-child::after {align-self: flex-end;width: 50%;}#sk-container-id-1 div.sk-parallel-item:last-child::after {align-self: flex-start;width: 50%;}#sk-container-id-1 div.sk-parallel-item:only-child::after {width: 0;}#sk-container-id-1 div.sk-dashed-wrapped {border: 1px dashed gray;margin: 0 0.4em 0.5em 0.4em;box-sizing: border-box;padding-bottom: 0.4em;background-color: white;}#sk-container-id-1 div.sk-label label {font-family: monospace;font-weight: bold;display: inline-block;line-height: 1.2em;}#sk-container-id-1 div.sk-label-container {text-align: center;}#sk-container-id-1 div.sk-container {/* jupyter's `normalize.less` sets `[hidden] { display: none; }` but bootstrap.min.css set `[hidden] { display: none !important; }` so we also need the `!important` here to be able to override the default hidden behavior on the sphinx rendered scikit-learn.org. See: https://github.com/scikit-learn/scikit-learn/issues/21755 */display: inline-block !important;position: relative;}#sk-container-id-1 div.sk-text-repr-fallback {display: none;}</style><div id=\"sk-container-id-1\" class=\"sk-top-container\"><div class=\"sk-text-repr-fallback\"><pre>RandomizedSearchCV(cv=5,\n",
       "                   estimator=XGBClassifier(base_score=None, booster=None,\n",
       "                                           callbacks=None,\n",
       "                                           colsample_bylevel=None,\n",
       "                                           colsample_bynode=None,\n",
       "                                           colsample_bytree=None,\n",
       "                                           early_stopping_rounds=None,\n",
       "                                           enable_categorical=False,\n",
       "                                           eval_metric=None, feature_types=None,\n",
       "                                           gamma=None, gpu_id=None,\n",
       "                                           grow_policy=None,\n",
       "                                           importance_type=None,\n",
       "                                           interaction_constraints=None,\n",
       "                                           learning_rate...\n",
       "                                        &#x27;gamma&#x27;: array([1.00000000e-05, 3.59381366e-05, 1.29154967e-04, 4.64158883e-04,\n",
       "       1.66810054e-03, 5.99484250e-03, 2.15443469e-02, 7.74263683e-02,\n",
       "       2.78255940e-01, 1.00000000e+00]),\n",
       "                                        &#x27;max_delta_step&#x27;: array([1.00000000e-05, 3.59381366e-05, 1.29154967e-04, 4.64158883e-04,\n",
       "       1.66810054e-03, 5.99484250e-03, 2.15443469e-02, 7.74263683e-02,\n",
       "       2.78255940e-01, 1.00000000e+00]),\n",
       "                                        &#x27;max_depth&#x27;: array([ 3,  4,  5,  6,  7,  8,  9, 10])},\n",
       "                   verbose=2)</pre><b>In a Jupyter environment, please rerun this cell to show the HTML representation or trust the notebook. <br />On GitHub, the HTML representation is unable to render, please try loading this page with nbviewer.org.</b></div><div class=\"sk-container\" hidden><div class=\"sk-item sk-dashed-wrapped\"><div class=\"sk-label-container\"><div class=\"sk-label sk-toggleable\"><input class=\"sk-toggleable__control sk-hidden--visually\" id=\"sk-estimator-id-1\" type=\"checkbox\" ><label for=\"sk-estimator-id-1\" class=\"sk-toggleable__label sk-toggleable__label-arrow\">RandomizedSearchCV</label><div class=\"sk-toggleable__content\"><pre>RandomizedSearchCV(cv=5,\n",
       "                   estimator=XGBClassifier(base_score=None, booster=None,\n",
       "                                           callbacks=None,\n",
       "                                           colsample_bylevel=None,\n",
       "                                           colsample_bynode=None,\n",
       "                                           colsample_bytree=None,\n",
       "                                           early_stopping_rounds=None,\n",
       "                                           enable_categorical=False,\n",
       "                                           eval_metric=None, feature_types=None,\n",
       "                                           gamma=None, gpu_id=None,\n",
       "                                           grow_policy=None,\n",
       "                                           importance_type=None,\n",
       "                                           interaction_constraints=None,\n",
       "                                           learning_rate...\n",
       "                                        &#x27;gamma&#x27;: array([1.00000000e-05, 3.59381366e-05, 1.29154967e-04, 4.64158883e-04,\n",
       "       1.66810054e-03, 5.99484250e-03, 2.15443469e-02, 7.74263683e-02,\n",
       "       2.78255940e-01, 1.00000000e+00]),\n",
       "                                        &#x27;max_delta_step&#x27;: array([1.00000000e-05, 3.59381366e-05, 1.29154967e-04, 4.64158883e-04,\n",
       "       1.66810054e-03, 5.99484250e-03, 2.15443469e-02, 7.74263683e-02,\n",
       "       2.78255940e-01, 1.00000000e+00]),\n",
       "                                        &#x27;max_depth&#x27;: array([ 3,  4,  5,  6,  7,  8,  9, 10])},\n",
       "                   verbose=2)</pre></div></div></div><div class=\"sk-parallel\"><div class=\"sk-parallel-item\"><div class=\"sk-item\"><div class=\"sk-label-container\"><div class=\"sk-label sk-toggleable\"><input class=\"sk-toggleable__control sk-hidden--visually\" id=\"sk-estimator-id-2\" type=\"checkbox\" ><label for=\"sk-estimator-id-2\" class=\"sk-toggleable__label sk-toggleable__label-arrow\">estimator: XGBClassifier</label><div class=\"sk-toggleable__content\"><pre>XGBClassifier(base_score=None, booster=None, callbacks=None,\n",
       "              colsample_bylevel=None, colsample_bynode=None,\n",
       "              colsample_bytree=None, early_stopping_rounds=None,\n",
       "              enable_categorical=False, eval_metric=None, feature_types=None,\n",
       "              gamma=None, gpu_id=None, grow_policy=None, importance_type=None,\n",
       "              interaction_constraints=None, learning_rate=None, max_bin=None,\n",
       "              max_cat_threshold=None, max_cat_to_onehot=None,\n",
       "              max_delta_step=None, max_depth=None, max_leaves=None,\n",
       "              min_child_weight=None, missing=nan, monotone_constraints=None,\n",
       "              n_estimators=100, n_jobs=None, num_parallel_tree=None,\n",
       "              predictor=None, random_state=None, ...)</pre></div></div></div><div class=\"sk-serial\"><div class=\"sk-item\"><div class=\"sk-estimator sk-toggleable\"><input class=\"sk-toggleable__control sk-hidden--visually\" id=\"sk-estimator-id-3\" type=\"checkbox\" ><label for=\"sk-estimator-id-3\" class=\"sk-toggleable__label sk-toggleable__label-arrow\">XGBClassifier</label><div class=\"sk-toggleable__content\"><pre>XGBClassifier(base_score=None, booster=None, callbacks=None,\n",
       "              colsample_bylevel=None, colsample_bynode=None,\n",
       "              colsample_bytree=None, early_stopping_rounds=None,\n",
       "              enable_categorical=False, eval_metric=None, feature_types=None,\n",
       "              gamma=None, gpu_id=None, grow_policy=None, importance_type=None,\n",
       "              interaction_constraints=None, learning_rate=None, max_bin=None,\n",
       "              max_cat_threshold=None, max_cat_to_onehot=None,\n",
       "              max_delta_step=None, max_depth=None, max_leaves=None,\n",
       "              min_child_weight=None, missing=nan, monotone_constraints=None,\n",
       "              n_estimators=100, n_jobs=None, num_parallel_tree=None,\n",
       "              predictor=None, random_state=None, ...)</pre></div></div></div></div></div></div></div></div></div></div>"
      ],
      "text/plain": [
       "RandomizedSearchCV(cv=5,\n",
       "                   estimator=XGBClassifier(base_score=None, booster=None,\n",
       "                                           callbacks=None,\n",
       "                                           colsample_bylevel=None,\n",
       "                                           colsample_bynode=None,\n",
       "                                           colsample_bytree=None,\n",
       "                                           early_stopping_rounds=None,\n",
       "                                           enable_categorical=False,\n",
       "                                           eval_metric=None, feature_types=None,\n",
       "                                           gamma=None, gpu_id=None,\n",
       "                                           grow_policy=None,\n",
       "                                           importance_type=None,\n",
       "                                           interaction_constraints=None,\n",
       "                                           learning_rate...\n",
       "                                        'gamma': array([1.00000000e-05, 3.59381366e-05, 1.29154967e-04, 4.64158883e-04,\n",
       "       1.66810054e-03, 5.99484250e-03, 2.15443469e-02, 7.74263683e-02,\n",
       "       2.78255940e-01, 1.00000000e+00]),\n",
       "                                        'max_delta_step': array([1.00000000e-05, 3.59381366e-05, 1.29154967e-04, 4.64158883e-04,\n",
       "       1.66810054e-03, 5.99484250e-03, 2.15443469e-02, 7.74263683e-02,\n",
       "       2.78255940e-01, 1.00000000e+00]),\n",
       "                                        'max_depth': array([ 3,  4,  5,  6,  7,  8,  9, 10])},\n",
       "                   verbose=2)"
      ]
     },
     "execution_count": 38,
     "metadata": {},
     "output_type": "execute_result"
    }
   ],
   "source": [
    "from xgboost import XGBClassifier\n",
    "from sklearn.model_selection import RandomizedSearchCV\n",
    "\n",
    "xgb_classifier = XGBClassifier() \n",
    "params = {\n",
    "    \"booster\": [\"gbtree\", \"gblinear\"],\n",
    "    \"max_depth\": np.arange(3, 11),\n",
    "    \"gamma\": np.logspace(-5, 0, 10),\n",
    "    \"max_delta_step\": np.logspace(-5, 0, 10)\n",
    "}\n",
    "\n",
    "random_xgb = RandomizedSearchCV(xgb_classifier,params,cv=5,n_iter=20,n_jobs=-1,verbose=2,refit=True)\n",
    "random_xgb.fit(transformed_data,train_y)"
   ]
  },
  {
   "cell_type": "code",
   "execution_count": 39,
   "metadata": {},
   "outputs": [
    {
     "data": {
      "text/plain": [
       "0.7814836112708453"
      ]
     },
     "execution_count": 39,
     "metadata": {},
     "output_type": "execute_result"
    }
   ],
   "source": [
    "random_xgb.best_estimator_.score(transformed_test,test_y)"
   ]
  },
  {
   "cell_type": "code",
   "execution_count": 40,
   "metadata": {},
   "outputs": [
    {
     "name": "stdout",
     "output_type": "stream",
     "text": [
      "              precision    recall  f1-score   support\n",
      "\n",
      "       False       0.80      0.75      0.77       861\n",
      "        True       0.77      0.81      0.79       878\n",
      "\n",
      "    accuracy                           0.78      1739\n",
      "   macro avg       0.78      0.78      0.78      1739\n",
      "weighted avg       0.78      0.78      0.78      1739\n",
      "\n"
     ]
    }
   ],
   "source": [
    "from sklearn.metrics import classification_report\n",
    "print(classification_report(test_y,random_xgb.best_estimator_.predict(transformed_test)))"
   ]
  },
  {
   "cell_type": "code",
   "execution_count": 41,
   "metadata": {},
   "outputs": [
    {
     "data": {
      "text/plain": [
       "0.8201035375323554"
      ]
     },
     "execution_count": 41,
     "metadata": {},
     "output_type": "execute_result"
    }
   ],
   "source": [
    "random_xgb.best_estimator_.score(transformed_data,train_y)"
   ]
  },
  {
   "cell_type": "code",
   "execution_count": 42,
   "metadata": {},
   "outputs": [
    {
     "data": {
      "text/html": [
       "<style>#sk-container-id-2 {color: black;}#sk-container-id-2 pre{padding: 0;}#sk-container-id-2 div.sk-toggleable {background-color: white;}#sk-container-id-2 label.sk-toggleable__label {cursor: pointer;display: block;width: 100%;margin-bottom: 0;padding: 0.3em;box-sizing: border-box;text-align: center;}#sk-container-id-2 label.sk-toggleable__label-arrow:before {content: \"▸\";float: left;margin-right: 0.25em;color: #696969;}#sk-container-id-2 label.sk-toggleable__label-arrow:hover:before {color: black;}#sk-container-id-2 div.sk-estimator:hover label.sk-toggleable__label-arrow:before {color: black;}#sk-container-id-2 div.sk-toggleable__content {max-height: 0;max-width: 0;overflow: hidden;text-align: left;background-color: #f0f8ff;}#sk-container-id-2 div.sk-toggleable__content pre {margin: 0.2em;color: black;border-radius: 0.25em;background-color: #f0f8ff;}#sk-container-id-2 input.sk-toggleable__control:checked~div.sk-toggleable__content {max-height: 200px;max-width: 100%;overflow: auto;}#sk-container-id-2 input.sk-toggleable__control:checked~label.sk-toggleable__label-arrow:before {content: \"▾\";}#sk-container-id-2 div.sk-estimator input.sk-toggleable__control:checked~label.sk-toggleable__label {background-color: #d4ebff;}#sk-container-id-2 div.sk-label input.sk-toggleable__control:checked~label.sk-toggleable__label {background-color: #d4ebff;}#sk-container-id-2 input.sk-hidden--visually {border: 0;clip: rect(1px 1px 1px 1px);clip: rect(1px, 1px, 1px, 1px);height: 1px;margin: -1px;overflow: hidden;padding: 0;position: absolute;width: 1px;}#sk-container-id-2 div.sk-estimator {font-family: monospace;background-color: #f0f8ff;border: 1px dotted black;border-radius: 0.25em;box-sizing: border-box;margin-bottom: 0.5em;}#sk-container-id-2 div.sk-estimator:hover {background-color: #d4ebff;}#sk-container-id-2 div.sk-parallel-item::after {content: \"\";width: 100%;border-bottom: 1px solid gray;flex-grow: 1;}#sk-container-id-2 div.sk-label:hover label.sk-toggleable__label {background-color: #d4ebff;}#sk-container-id-2 div.sk-serial::before {content: \"\";position: absolute;border-left: 1px solid gray;box-sizing: border-box;top: 0;bottom: 0;left: 50%;z-index: 0;}#sk-container-id-2 div.sk-serial {display: flex;flex-direction: column;align-items: center;background-color: white;padding-right: 0.2em;padding-left: 0.2em;position: relative;}#sk-container-id-2 div.sk-item {position: relative;z-index: 1;}#sk-container-id-2 div.sk-parallel {display: flex;align-items: stretch;justify-content: center;background-color: white;position: relative;}#sk-container-id-2 div.sk-item::before, #sk-container-id-2 div.sk-parallel-item::before {content: \"\";position: absolute;border-left: 1px solid gray;box-sizing: border-box;top: 0;bottom: 0;left: 50%;z-index: -1;}#sk-container-id-2 div.sk-parallel-item {display: flex;flex-direction: column;z-index: 1;position: relative;background-color: white;}#sk-container-id-2 div.sk-parallel-item:first-child::after {align-self: flex-end;width: 50%;}#sk-container-id-2 div.sk-parallel-item:last-child::after {align-self: flex-start;width: 50%;}#sk-container-id-2 div.sk-parallel-item:only-child::after {width: 0;}#sk-container-id-2 div.sk-dashed-wrapped {border: 1px dashed gray;margin: 0 0.4em 0.5em 0.4em;box-sizing: border-box;padding-bottom: 0.4em;background-color: white;}#sk-container-id-2 div.sk-label label {font-family: monospace;font-weight: bold;display: inline-block;line-height: 1.2em;}#sk-container-id-2 div.sk-label-container {text-align: center;}#sk-container-id-2 div.sk-container {/* jupyter's `normalize.less` sets `[hidden] { display: none; }` but bootstrap.min.css set `[hidden] { display: none !important; }` so we also need the `!important` here to be able to override the default hidden behavior on the sphinx rendered scikit-learn.org. See: https://github.com/scikit-learn/scikit-learn/issues/21755 */display: inline-block !important;position: relative;}#sk-container-id-2 div.sk-text-repr-fallback {display: none;}</style><div id=\"sk-container-id-2\" class=\"sk-top-container\"><div class=\"sk-text-repr-fallback\"><pre>XGBClassifier(base_score=None, booster=&#x27;gbtree&#x27;, callbacks=None,\n",
       "              colsample_bylevel=None, colsample_bynode=None,\n",
       "              colsample_bytree=None, early_stopping_rounds=None,\n",
       "              enable_categorical=False, eval_metric=None, feature_types=None,\n",
       "              gamma=1e-05, gpu_id=None, grow_policy=None, importance_type=None,\n",
       "              interaction_constraints=None, learning_rate=None, max_bin=None,\n",
       "              max_cat_threshold=None, max_cat_to_onehot=None,\n",
       "              max_delta_step=0.2782559402207126, max_depth=3, max_leaves=None,\n",
       "              min_child_weight=None, missing=nan, monotone_constraints=None,\n",
       "              n_estimators=100, n_jobs=None, num_parallel_tree=None,\n",
       "              predictor=None, random_state=None, ...)</pre><b>In a Jupyter environment, please rerun this cell to show the HTML representation or trust the notebook. <br />On GitHub, the HTML representation is unable to render, please try loading this page with nbviewer.org.</b></div><div class=\"sk-container\" hidden><div class=\"sk-item\"><div class=\"sk-estimator sk-toggleable\"><input class=\"sk-toggleable__control sk-hidden--visually\" id=\"sk-estimator-id-4\" type=\"checkbox\" checked><label for=\"sk-estimator-id-4\" class=\"sk-toggleable__label sk-toggleable__label-arrow\">XGBClassifier</label><div class=\"sk-toggleable__content\"><pre>XGBClassifier(base_score=None, booster=&#x27;gbtree&#x27;, callbacks=None,\n",
       "              colsample_bylevel=None, colsample_bynode=None,\n",
       "              colsample_bytree=None, early_stopping_rounds=None,\n",
       "              enable_categorical=False, eval_metric=None, feature_types=None,\n",
       "              gamma=1e-05, gpu_id=None, grow_policy=None, importance_type=None,\n",
       "              interaction_constraints=None, learning_rate=None, max_bin=None,\n",
       "              max_cat_threshold=None, max_cat_to_onehot=None,\n",
       "              max_delta_step=0.2782559402207126, max_depth=3, max_leaves=None,\n",
       "              min_child_weight=None, missing=nan, monotone_constraints=None,\n",
       "              n_estimators=100, n_jobs=None, num_parallel_tree=None,\n",
       "              predictor=None, random_state=None, ...)</pre></div></div></div></div></div>"
      ],
      "text/plain": [
       "XGBClassifier(base_score=None, booster='gbtree', callbacks=None,\n",
       "              colsample_bylevel=None, colsample_bynode=None,\n",
       "              colsample_bytree=None, early_stopping_rounds=None,\n",
       "              enable_categorical=False, eval_metric=None, feature_types=None,\n",
       "              gamma=1e-05, gpu_id=None, grow_policy=None, importance_type=None,\n",
       "              interaction_constraints=None, learning_rate=None, max_bin=None,\n",
       "              max_cat_threshold=None, max_cat_to_onehot=None,\n",
       "              max_delta_step=0.2782559402207126, max_depth=3, max_leaves=None,\n",
       "              min_child_weight=None, missing=nan, monotone_constraints=None,\n",
       "              n_estimators=100, n_jobs=None, num_parallel_tree=None,\n",
       "              predictor=None, random_state=None, ...)"
      ]
     },
     "execution_count": 42,
     "metadata": {},
     "output_type": "execute_result"
    }
   ],
   "source": [
    "random_xgb.best_estimator_"
   ]
  },
  {
   "cell_type": "code",
   "execution_count": 49,
   "metadata": {},
   "outputs": [
    {
     "data": {
      "image/png": "[encoded data removed]",
      "text/plain": [
       "<Figure size 1200x600 with 2 Axes>"
      ]
     },
     "metadata": {},
     "output_type": "display_data"
    }
   ],
   "source": [
    "from sklearn.metrics import confusion_matrix, roc_curve, roc_auc_score\n",
    "import seaborn as sns \n",
    "\n",
    "fig,ax = plt.subplots(1,2,figsize=(12,6))\n",
    "prediction = random_xgb.best_estimator_.predict(transformed_test)\n",
    "\n",
    "ax_confusion=ax[1]\n",
    "sns.heatmap(confusion_matrix(test_y, prediction), annot=True, fmt='d', cmap='Blues', cbar=False, square=True, xticklabels=[\"negative\", \"positive\"], yticklabels=[\"negative\", \"positive\"], ax=ax_confusion)\n",
    "ax_confusion.set_title('XGBoost - Confusion Matrix')\n",
    "\n",
    "prediction_proba = random_xgb.best_estimator_.predict_proba(transformed_test)[:,1]\n",
    "ax_roc=ax[0]\n",
    "# Plot ROC Curve\n",
    "fpr, tpr, _ = roc_curve(test_y, prediction_proba)\n",
    "roc_auc = roc_auc_score(test_y, prediction_proba)\n",
    "ax_roc.plot(fpr, tpr, label='ROC curve (area = %0.2f)' % roc_auc)\n",
    "ax_roc.plot([0, 1], [0, 1], 'k--')\n",
    "ax_roc.set_xlim([0.0, 1.0])\n",
    "ax_roc.set_ylim([0.0, 1.05])\n",
    "ax_roc.set_xlabel('False Positive Rate')\n",
    "ax_roc.set_ylabel('True Positive Rate')\n",
    "ax_roc.set_title('XGBoost - ROC Curve')\n",
    "ax_roc.legend(loc=\"lower right\")\n",
    "\n",
    "# Adjust the layout and spacing of the subplots\n",
    "plt.tight_layout()\n",
    "\n",
    "# Show the plots\n",
    "plt.show()\n",
    "\n"
   ]
  },
  {
   "cell_type": "markdown",
   "metadata": {},
   "source": [
    "It's giving a close result to `RandomForestClassifier` so it will not be finetuned \n",
    "\n",
    "**Next idea:** Neural networks "
   ]
  },
  {
   "cell_type": "code",
   "execution_count": 35,
   "metadata": {},
   "outputs": [
    {
     "data": {
      "text/plain": [
       "(6954, 17)"
      ]
     },
     "execution_count": 35,
     "metadata": {},
     "output_type": "execute_result"
    }
   ],
   "source": [
    "transformed_data.shape"
   ]
  },
  {
   "cell_type": "code",
   "execution_count": 148,
   "metadata": {},
   "outputs": [
    {
     "name": "stdout",
     "output_type": "stream",
     "text": [
      "Epoch 1/100\n"
     ]
    },
    {
     "name": "stdout",
     "output_type": "stream",
     "text": [
      "216/218 [============================>.] - ETA: 0s - loss: 9.3322 - accuracy: 0.5065\n",
      "Epoch 1: val_accuracy improved from -inf to 0.50489, saving model to nn_model\\\n",
      "218/218 [==============================] - 4s 6ms/step - loss: 9.2800 - accuracy: 0.5066 - val_loss: 0.6946 - val_accuracy: 0.5049\n",
      "Epoch 2/100\n",
      "205/218 [===========================>..] - ETA: 0s - loss: 0.6942 - accuracy: 0.5091\n",
      "Epoch 2: val_accuracy did not improve from 0.50489\n",
      "218/218 [==============================] - 1s 4ms/step - loss: 0.6939 - accuracy: 0.5116 - val_loss: 0.7007 - val_accuracy: 0.5049\n",
      "Epoch 3/100\n",
      "212/218 [============================>.] - ETA: 0s - loss: 0.6960 - accuracy: 0.4944\n",
      "Epoch 3: val_accuracy did not improve from 0.50489\n",
      "218/218 [==============================] - 2s 7ms/step - loss: 0.6961 - accuracy: 0.4950 - val_loss: 0.7037 - val_accuracy: 0.5049\n",
      "Epoch 4/100\n",
      "216/218 [============================>.] - ETA: 0s - loss: 0.6958 - accuracy: 0.4933\n",
      "Epoch 4: val_accuracy did not improve from 0.50489\n",
      "218/218 [==============================] - 1s 4ms/step - loss: 0.6958 - accuracy: 0.4930 - val_loss: 0.6940 - val_accuracy: 0.4968\n",
      "Epoch 5/100\n",
      "217/218 [============================>.] - ETA: 0s - loss: 0.6949 - accuracy: 0.4928\n",
      "Epoch 5: val_accuracy did not improve from 0.50489\n",
      "218/218 [==============================] - 1s 4ms/step - loss: 0.6949 - accuracy: 0.4932 - val_loss: 0.6938 - val_accuracy: 0.5049\n",
      "Epoch 6/100\n",
      "206/218 [===========================>..] - ETA: 0s - loss: 0.6945 - accuracy: 0.5062\n",
      "Epoch 6: val_accuracy did not improve from 0.50489\n",
      "218/218 [==============================] - 1s 5ms/step - loss: 0.6948 - accuracy: 0.5050 - val_loss: 0.6939 - val_accuracy: 0.4968\n",
      "Epoch 7/100\n",
      "212/218 [============================>.] - ETA: 0s - loss: 0.6957 - accuracy: 0.5031\n",
      "Epoch 7: val_accuracy did not improve from 0.50489\n",
      "218/218 [==============================] - 1s 6ms/step - loss: 0.6957 - accuracy: 0.5027 - val_loss: 0.6939 - val_accuracy: 0.5049\n",
      "Epoch 8/100\n",
      "211/218 [============================>.] - ETA: 0s - loss: 0.6948 - accuracy: 0.5000\n",
      "Epoch 8: val_accuracy did not improve from 0.50489\n",
      "218/218 [==============================] - 1s 5ms/step - loss: 0.6949 - accuracy: 0.5001 - val_loss: 0.6945 - val_accuracy: 0.5049\n",
      "Epoch 9/100\n",
      "212/218 [============================>.] - ETA: 0s - loss: 0.6946 - accuracy: 0.4948\n",
      "Epoch 9: val_accuracy did not improve from 0.50489\n",
      "218/218 [==============================] - 1s 4ms/step - loss: 0.6946 - accuracy: 0.4950 - val_loss: 0.6951 - val_accuracy: 0.5049\n",
      "Epoch 10/100\n",
      "215/218 [============================>.] - ETA: 0s - loss: 0.6957 - accuracy: 0.5000\n",
      "Epoch 10: val_accuracy did not improve from 0.50489\n",
      "218/218 [==============================] - 1s 5ms/step - loss: 0.6956 - accuracy: 0.5004 - val_loss: 0.6941 - val_accuracy: 0.5049\n",
      "Epoch 11/100\n",
      "206/218 [===========================>..] - ETA: 0s - loss: 0.6952 - accuracy: 0.4942\n",
      "Epoch 11: val_accuracy did not improve from 0.50489\n",
      "218/218 [==============================] - 1s 4ms/step - loss: 0.6951 - accuracy: 0.4961 - val_loss: 0.6948 - val_accuracy: 0.5049\n",
      "Epoch 12/100\n",
      "210/218 [===========================>..] - ETA: 0s - loss: 0.6941 - accuracy: 0.5049\n",
      "Epoch 12: val_accuracy did not improve from 0.50489\n",
      "218/218 [==============================] - 1s 4ms/step - loss: 0.6942 - accuracy: 0.5047 - val_loss: 0.6956 - val_accuracy: 0.5049\n",
      "Epoch 13/100\n",
      "216/218 [============================>.] - ETA: 0s - loss: 0.6948 - accuracy: 0.4962\n",
      "Epoch 13: val_accuracy did not improve from 0.50489\n",
      "218/218 [==============================] - 1s 4ms/step - loss: 0.6948 - accuracy: 0.4967 - val_loss: 0.6955 - val_accuracy: 0.4968\n",
      "Epoch 14/100\n",
      "217/218 [============================>.] - ETA: 0s - loss: 0.6954 - accuracy: 0.4935\n",
      "Epoch 14: val_accuracy did not improve from 0.50489\n",
      "218/218 [==============================] - 1s 4ms/step - loss: 0.6954 - accuracy: 0.4935 - val_loss: 0.6949 - val_accuracy: 0.4980\n",
      "Epoch 15/100\n",
      "211/218 [============================>.] - ETA: 0s - loss: 0.6952 - accuracy: 0.5093\n",
      "Epoch 15: val_accuracy did not improve from 0.50489\n",
      "218/218 [==============================] - 1s 6ms/step - loss: 0.6952 - accuracy: 0.5091 - val_loss: 0.6941 - val_accuracy: 0.5049\n",
      "Epoch 16/100\n",
      "214/218 [============================>.] - ETA: 0s - loss: 0.6943 - accuracy: 0.5092\n",
      "Epoch 16: val_accuracy did not improve from 0.50489\n",
      "218/218 [==============================] - 1s 4ms/step - loss: 0.6942 - accuracy: 0.5096 - val_loss: 0.6944 - val_accuracy: 0.4986\n",
      "Epoch 17/100\n",
      "215/218 [============================>.] - ETA: 0s - loss: 0.6949 - accuracy: 0.5084\n",
      "Epoch 17: val_accuracy did not improve from 0.50489\n",
      "218/218 [==============================] - 1s 5ms/step - loss: 0.6949 - accuracy: 0.5088 - val_loss: 0.7013 - val_accuracy: 0.5049\n",
      "Epoch 18/100\n",
      "216/218 [============================>.] - ETA: 0s - loss: 0.6955 - accuracy: 0.5049\n",
      "Epoch 18: val_accuracy did not improve from 0.50489\n",
      "218/218 [==============================] - 1s 7ms/step - loss: 0.6955 - accuracy: 0.5047 - val_loss: 0.6939 - val_accuracy: 0.4968\n",
      "Epoch 19/100\n",
      "211/218 [============================>.] - ETA: 0s - loss: 0.6951 - accuracy: 0.5047\n",
      "Epoch 19: val_accuracy did not improve from 0.50489\n",
      "218/218 [==============================] - 1s 4ms/step - loss: 0.6950 - accuracy: 0.5042 - val_loss: 0.6970 - val_accuracy: 0.4934\n",
      "Epoch 20/100\n",
      "217/218 [============================>.] - ETA: 0s - loss: 0.6962 - accuracy: 0.5118\n",
      "Epoch 20: val_accuracy did not improve from 0.50489\n",
      "218/218 [==============================] - 1s 5ms/step - loss: 0.6961 - accuracy: 0.5119 - val_loss: 0.6946 - val_accuracy: 0.5049\n",
      "Epoch 21/100\n",
      "203/218 [==========================>...] - ETA: 0s - loss: 0.6956 - accuracy: 0.4986\n",
      "Epoch 21: val_accuracy did not improve from 0.50489\n",
      "218/218 [==============================] - 1s 4ms/step - loss: 0.6958 - accuracy: 0.4978 - val_loss: 0.6939 - val_accuracy: 0.4957\n",
      "Epoch 22/100\n",
      "209/218 [===========================>..] - ETA: 0s - loss: 0.6959 - accuracy: 0.4849\n",
      "Epoch 22: val_accuracy did not improve from 0.50489\n",
      "218/218 [==============================] - 1s 5ms/step - loss: 0.6958 - accuracy: 0.4858 - val_loss: 0.6955 - val_accuracy: 0.4968\n",
      "Epoch 23/100\n",
      "208/218 [===========================>..] - ETA: 0s - loss: 0.6954 - accuracy: 0.4941\n",
      "Epoch 23: val_accuracy did not improve from 0.50489\n",
      "218/218 [==============================] - 1s 6ms/step - loss: 0.6954 - accuracy: 0.4915 - val_loss: 0.6942 - val_accuracy: 0.4980\n",
      "Epoch 24/100\n",
      "209/218 [===========================>..] - ETA: 0s - loss: 0.6946 - accuracy: 0.5001\n",
      "Epoch 24: val_accuracy did not improve from 0.50489\n",
      "218/218 [==============================] - 1s 4ms/step - loss: 0.6945 - accuracy: 0.5007 - val_loss: 0.6939 - val_accuracy: 0.4968\n",
      "Epoch 25/100\n",
      "211/218 [============================>.] - ETA: 0s - loss: 0.6955 - accuracy: 0.5078\n",
      "Epoch 25: val_accuracy did not improve from 0.50489\n",
      "218/218 [==============================] - 1s 5ms/step - loss: 0.6955 - accuracy: 0.5085 - val_loss: 0.7006 - val_accuracy: 0.4922\n",
      "Epoch 26/100\n",
      "216/218 [============================>.] - ETA: 0s - loss: 0.6945 - accuracy: 0.5080\n",
      "Epoch 26: val_accuracy did not improve from 0.50489\n",
      "218/218 [==============================] - 1s 4ms/step - loss: 0.6946 - accuracy: 0.5076 - val_loss: 0.6939 - val_accuracy: 0.5049\n",
      "Epoch 27/100\n",
      "214/218 [============================>.] - ETA: 0s - loss: 0.6952 - accuracy: 0.5044\n",
      "Epoch 27: val_accuracy did not improve from 0.50489\n",
      "218/218 [==============================] - 1s 4ms/step - loss: 0.6956 - accuracy: 0.5039 - val_loss: 0.7048 - val_accuracy: 0.4934\n",
      "Epoch 28/100\n",
      "216/218 [============================>.] - ETA: 0s - loss: 0.6941 - accuracy: 0.5017\n",
      "Epoch 28: val_accuracy did not improve from 0.50489\n",
      "218/218 [==============================] - 1s 4ms/step - loss: 0.6940 - accuracy: 0.5022 - val_loss: 0.7070 - val_accuracy: 0.5049\n",
      "Epoch 29/100\n",
      "217/218 [============================>.] - ETA: 0s - loss: 0.6954 - accuracy: 0.4994\n",
      "Epoch 29: val_accuracy did not improve from 0.50489\n",
      "218/218 [==============================] - 1s 4ms/step - loss: 0.6953 - accuracy: 0.4999 - val_loss: 0.6961 - val_accuracy: 0.5049\n",
      "Epoch 30/100\n",
      "216/218 [============================>.] - ETA: 0s - loss: 0.6941 - accuracy: 0.5132\n",
      "Epoch 30: val_accuracy did not improve from 0.50489\n",
      "218/218 [==============================] - 1s 6ms/step - loss: 0.6943 - accuracy: 0.5131 - val_loss: 0.7134 - val_accuracy: 0.5049\n",
      "Epoch 31/100\n",
      "211/218 [============================>.] - ETA: 0s - loss: 0.6951 - accuracy: 0.5030\n",
      "Epoch 31: val_accuracy did not improve from 0.50489\n",
      "218/218 [==============================] - 1s 4ms/step - loss: 0.6950 - accuracy: 0.5039 - val_loss: 0.6969 - val_accuracy: 0.5049\n",
      "Epoch 32/100\n",
      "211/218 [============================>.] - ETA: 0s - loss: 0.6959 - accuracy: 0.5046\n",
      "Epoch 32: val_accuracy did not improve from 0.50489\n",
      "218/218 [==============================] - 1s 4ms/step - loss: 0.6958 - accuracy: 0.5056 - val_loss: 0.6944 - val_accuracy: 0.5049\n",
      "Epoch 33/100\n",
      "214/218 [============================>.] - ETA: 0s - loss: 0.6953 - accuracy: 0.5060\n",
      "Epoch 33: val_accuracy did not improve from 0.50489\n",
      "218/218 [==============================] - 1s 5ms/step - loss: 0.6954 - accuracy: 0.5056 - val_loss: 0.6940 - val_accuracy: 0.4986\n",
      "Epoch 34/100\n",
      "215/218 [============================>.] - ETA: 0s - loss: 0.6952 - accuracy: 0.5015\n",
      "Epoch 34: val_accuracy did not improve from 0.50489\n",
      "218/218 [==============================] - 1s 6ms/step - loss: 0.6952 - accuracy: 0.5019 - val_loss: 0.6939 - val_accuracy: 0.5049\n",
      "Epoch 35/100\n",
      "218/218 [==============================] - ETA: 0s - loss: 0.6953 - accuracy: 0.4924\n",
      "Epoch 35: val_accuracy did not improve from 0.50489\n",
      "218/218 [==============================] - 1s 5ms/step - loss: 0.6953 - accuracy: 0.4924 - val_loss: 0.6945 - val_accuracy: 0.4986\n",
      "Epoch 36/100\n",
      "215/218 [============================>.] - ETA: 0s - loss: 0.6965 - accuracy: 0.4968\n",
      "Epoch 36: val_accuracy did not improve from 0.50489\n",
      "218/218 [==============================] - 2s 9ms/step - loss: 0.6965 - accuracy: 0.4964 - val_loss: 0.6939 - val_accuracy: 0.4968\n",
      "Epoch 37/100\n",
      "218/218 [==============================] - ETA: 0s - loss: 0.6963 - accuracy: 0.5111\n",
      "Epoch 37: val_accuracy did not improve from 0.50489\n",
      "218/218 [==============================] - 2s 11ms/step - loss: 0.6963 - accuracy: 0.5111 - val_loss: 0.6955 - val_accuracy: 0.4968\n",
      "Epoch 38/100\n",
      "212/218 [============================>.] - ETA: 0s - loss: 0.6949 - accuracy: 0.5021\n",
      "Epoch 38: val_accuracy did not improve from 0.50489\n",
      "218/218 [==============================] - 2s 11ms/step - loss: 0.6950 - accuracy: 0.5022 - val_loss: 0.7020 - val_accuracy: 0.4911\n",
      "Epoch 39/100\n",
      "211/218 [============================>.] - ETA: 0s - loss: 0.6943 - accuracy: 0.4987\n",
      "Epoch 39: val_accuracy did not improve from 0.50489\n",
      "218/218 [==============================] - 2s 8ms/step - loss: 0.6946 - accuracy: 0.4987 - val_loss: 0.6993 - val_accuracy: 0.5049\n",
      "Epoch 40/100\n",
      "212/218 [============================>.] - ETA: 0s - loss: 0.6948 - accuracy: 0.4917\n",
      "Epoch 40: val_accuracy did not improve from 0.50489\n",
      "218/218 [==============================] - 2s 9ms/step - loss: 0.6948 - accuracy: 0.4915 - val_loss: 0.6950 - val_accuracy: 0.4980\n",
      "Epoch 41/100\n",
      "218/218 [==============================] - ETA: 0s - loss: 0.6955 - accuracy: 0.5016\n",
      "Epoch 41: val_accuracy did not improve from 0.50489\n",
      "218/218 [==============================] - 2s 9ms/step - loss: 0.6955 - accuracy: 0.5016 - val_loss: 0.7028 - val_accuracy: 0.5049\n",
      "Epoch 42/100\n",
      "218/218 [==============================] - ETA: 0s - loss: 0.6954 - accuracy: 0.4981\n",
      "Epoch 42: val_accuracy did not improve from 0.50489\n",
      "218/218 [==============================] - 2s 9ms/step - loss: 0.6954 - accuracy: 0.4981 - val_loss: 0.6944 - val_accuracy: 0.5049\n",
      "Epoch 43/100\n",
      " 13/218 [>.............................] - ETA: 1s - loss: 0.6939 - accuracy: 0.5096"
     ]
    },
    {
     "ename": "KeyboardInterrupt",
     "evalue": "",
     "output_type": "error",
     "traceback": [
      "\u001b[1;31m---------------------------------------------------------------------------\u001b[0m",
      "\u001b[1;31mKeyboardInterrupt\u001b[0m                         Traceback (most recent call last)",
      "Cell \u001b[1;32mIn[148], line 28\u001b[0m\n\u001b[0;32m     25\u001b[0m train_y_tensor \u001b[39m=\u001b[39m tf\u001b[39m.\u001b[39mconvert_to_tensor(train_y)\n\u001b[0;32m     26\u001b[0m transformed_test_tensor \u001b[39m=\u001b[39m tf\u001b[39m.\u001b[39mconvert_to_tensor(transformed_test,dtype\u001b[39m=\u001b[39mtf\u001b[39m.\u001b[39mfloat32)\n\u001b[1;32m---> 28\u001b[0m history\u001b[39m=\u001b[39mnn_model\u001b[39m.\u001b[39;49mfit(x\u001b[39m=\u001b[39;49mtransformed_data_tensor,y\u001b[39m=\u001b[39;49mtrain_y_tensor,batch_size\u001b[39m=\u001b[39;49m\u001b[39m32\u001b[39;49m,epochs\u001b[39m=\u001b[39;49m\u001b[39m100\u001b[39;49m,\n\u001b[0;32m     29\u001b[0m                     validation_data\u001b[39m=\u001b[39;49m(transformed_test_tensor,test_y),callbacks\u001b[39m=\u001b[39;49m[checkpoint_callback])\n",
      "File \u001b[1;32m~\\AppData\\Roaming\\Python\\Python311\\site-packages\\keras\\utils\\traceback_utils.py:65\u001b[0m, in \u001b[0;36mfilter_traceback.<locals>.error_handler\u001b[1;34m(*args, **kwargs)\u001b[0m\n\u001b[0;32m     63\u001b[0m filtered_tb \u001b[39m=\u001b[39m \u001b[39mNone\u001b[39;00m\n\u001b[0;32m     64\u001b[0m \u001b[39mtry\u001b[39;00m:\n\u001b[1;32m---> 65\u001b[0m     \u001b[39mreturn\u001b[39;00m fn(\u001b[39m*\u001b[39;49margs, \u001b[39m*\u001b[39;49m\u001b[39m*\u001b[39;49mkwargs)\n\u001b[0;32m     66\u001b[0m \u001b[39mexcept\u001b[39;00m \u001b[39mException\u001b[39;00m \u001b[39mas\u001b[39;00m e:\n\u001b[0;32m     67\u001b[0m     filtered_tb \u001b[39m=\u001b[39m _process_traceback_frames(e\u001b[39m.\u001b[39m__traceback__)\n",
      "File \u001b[1;32m~\\AppData\\Roaming\\Python\\Python311\\site-packages\\keras\\engine\\training.py:1676\u001b[0m, in \u001b[0;36mModel.fit\u001b[1;34m(self, x, y, batch_size, epochs, verbose, callbacks, validation_split, validation_data, shuffle, class_weight, sample_weight, initial_epoch, steps_per_epoch, validation_steps, validation_batch_size, validation_freq, max_queue_size, workers, use_multiprocessing)\u001b[0m\n\u001b[0;32m   1674\u001b[0m callbacks\u001b[39m.\u001b[39mon_epoch_begin(epoch)\n\u001b[0;32m   1675\u001b[0m \u001b[39mwith\u001b[39;00m data_handler\u001b[39m.\u001b[39mcatch_stop_iteration():\n\u001b[1;32m-> 1676\u001b[0m     \u001b[39mfor\u001b[39;00m step \u001b[39min\u001b[39;00m data_handler\u001b[39m.\u001b[39msteps():\n\u001b[0;32m   1677\u001b[0m         \u001b[39mwith\u001b[39;00m tf\u001b[39m.\u001b[39mprofiler\u001b[39m.\u001b[39mexperimental\u001b[39m.\u001b[39mTrace(\n\u001b[0;32m   1678\u001b[0m             \u001b[39m\"\u001b[39m\u001b[39mtrain\u001b[39m\u001b[39m\"\u001b[39m,\n\u001b[0;32m   1679\u001b[0m             epoch_num\u001b[39m=\u001b[39mepoch,\n\u001b[1;32m   (...)\u001b[0m\n\u001b[0;32m   1682\u001b[0m             _r\u001b[39m=\u001b[39m\u001b[39m1\u001b[39m,\n\u001b[0;32m   1683\u001b[0m         ):\n\u001b[0;32m   1684\u001b[0m             callbacks\u001b[39m.\u001b[39mon_train_batch_begin(step)\n",
      "File \u001b[1;32m~\\AppData\\Roaming\\Python\\Python311\\site-packages\\keras\\engine\\data_adapter.py:1375\u001b[0m, in \u001b[0;36mDataHandler.steps\u001b[1;34m(self)\u001b[0m\n\u001b[0;32m   1373\u001b[0m \u001b[39mif\u001b[39;00m \u001b[39mself\u001b[39m\u001b[39m.\u001b[39m_insufficient_data:  \u001b[39m# Set by `catch_stop_iteration`.\u001b[39;00m\n\u001b[0;32m   1374\u001b[0m     \u001b[39mbreak\u001b[39;00m\n\u001b[1;32m-> 1375\u001b[0m original_spe \u001b[39m=\u001b[39m \u001b[39mself\u001b[39;49m\u001b[39m.\u001b[39;49m_steps_per_execution\u001b[39m.\u001b[39;49mnumpy()\u001b[39m.\u001b[39mitem()\n\u001b[0;32m   1376\u001b[0m can_run_full_execution \u001b[39m=\u001b[39m (\n\u001b[0;32m   1377\u001b[0m     original_spe \u001b[39m==\u001b[39m \u001b[39m1\u001b[39m\n\u001b[0;32m   1378\u001b[0m     \u001b[39mor\u001b[39;00m \u001b[39mself\u001b[39m\u001b[39m.\u001b[39m_inferred_steps \u001b[39mis\u001b[39;00m \u001b[39mNone\u001b[39;00m\n\u001b[0;32m   1379\u001b[0m     \u001b[39mor\u001b[39;00m \u001b[39mself\u001b[39m\u001b[39m.\u001b[39m_inferred_steps \u001b[39m-\u001b[39m \u001b[39mself\u001b[39m\u001b[39m.\u001b[39m_current_step \u001b[39m>\u001b[39m\u001b[39m=\u001b[39m original_spe\n\u001b[0;32m   1380\u001b[0m )\n\u001b[0;32m   1382\u001b[0m \u001b[39mif\u001b[39;00m can_run_full_execution:\n",
      "File \u001b[1;32m~\\AppData\\Roaming\\Python\\Python311\\site-packages\\tensorflow\\python\\ops\\resource_variable_ops.py:647\u001b[0m, in \u001b[0;36mBaseResourceVariable.numpy\u001b[1;34m(self)\u001b[0m\n\u001b[0;32m    645\u001b[0m \u001b[39mdef\u001b[39;00m \u001b[39mnumpy\u001b[39m(\u001b[39mself\u001b[39m):\n\u001b[0;32m    646\u001b[0m   \u001b[39mif\u001b[39;00m context\u001b[39m.\u001b[39mexecuting_eagerly():\n\u001b[1;32m--> 647\u001b[0m     \u001b[39mreturn\u001b[39;00m \u001b[39mself\u001b[39;49m\u001b[39m.\u001b[39;49mread_value()\u001b[39m.\u001b[39mnumpy()\n\u001b[0;32m    648\u001b[0m   \u001b[39mraise\u001b[39;00m \u001b[39mNotImplementedError\u001b[39;00m(\n\u001b[0;32m    649\u001b[0m       \u001b[39m\"\u001b[39m\u001b[39mnumpy() is only available when eager execution is enabled.\u001b[39m\u001b[39m\"\u001b[39m)\n",
      "File \u001b[1;32m~\\AppData\\Roaming\\Python\\Python311\\site-packages\\tensorflow\\python\\ops\\resource_variable_ops.py:774\u001b[0m, in \u001b[0;36mBaseResourceVariable.read_value\u001b[1;34m(self)\u001b[0m\n\u001b[0;32m    765\u001b[0m \u001b[39m\u001b[39m\u001b[39m\"\"\"Constructs an op which reads the value of this variable.\u001b[39;00m\n\u001b[0;32m    766\u001b[0m \n\u001b[0;32m    767\u001b[0m \u001b[39mShould be used when there are multiple reads, or when it is desirable to\u001b[39;00m\n\u001b[1;32m   (...)\u001b[0m\n\u001b[0;32m    771\u001b[0m \u001b[39m  The value of the variable.\u001b[39;00m\n\u001b[0;32m    772\u001b[0m \u001b[39m\"\"\"\u001b[39;00m\n\u001b[0;32m    773\u001b[0m \u001b[39mwith\u001b[39;00m ops\u001b[39m.\u001b[39mname_scope(\u001b[39m\"\u001b[39m\u001b[39mRead\u001b[39m\u001b[39m\"\u001b[39m):\n\u001b[1;32m--> 774\u001b[0m   value \u001b[39m=\u001b[39m \u001b[39mself\u001b[39;49m\u001b[39m.\u001b[39;49m_read_variable_op()\n\u001b[0;32m    775\u001b[0m \u001b[39m# Return an identity so it can get placed on whatever device the context\u001b[39;00m\n\u001b[0;32m    776\u001b[0m \u001b[39m# specifies instead of the device where the variable is.\u001b[39;00m\n\u001b[0;32m    777\u001b[0m \u001b[39mreturn\u001b[39;00m array_ops\u001b[39m.\u001b[39midentity(value)\n",
      "File \u001b[1;32m~\\AppData\\Roaming\\Python\\Python311\\site-packages\\tensorflow\\python\\ops\\resource_variable_ops.py:753\u001b[0m, in \u001b[0;36mBaseResourceVariable._read_variable_op\u001b[1;34m(self, no_copy)\u001b[0m\n\u001b[0;32m    751\u001b[0m       result \u001b[39m=\u001b[39m read_and_set_handle(no_copy)\n\u001b[0;32m    752\u001b[0m \u001b[39melse\u001b[39;00m:\n\u001b[1;32m--> 753\u001b[0m   result \u001b[39m=\u001b[39m read_and_set_handle(no_copy)\n\u001b[0;32m    755\u001b[0m \u001b[39mif\u001b[39;00m \u001b[39mnot\u001b[39;00m context\u001b[39m.\u001b[39mexecuting_eagerly():\n\u001b[0;32m    756\u001b[0m   \u001b[39m# Note that if a control flow context is active the input of the read op\u001b[39;00m\n\u001b[0;32m    757\u001b[0m   \u001b[39m# might not actually be the handle. This line bypasses it.\u001b[39;00m\n\u001b[0;32m    758\u001b[0m   tape\u001b[39m.\u001b[39mrecord_operation(\n\u001b[0;32m    759\u001b[0m       \u001b[39m\"\u001b[39m\u001b[39mReadVariableOp\u001b[39m\u001b[39m\"\u001b[39m, [result], [\u001b[39mself\u001b[39m\u001b[39m.\u001b[39mhandle],\n\u001b[0;32m    760\u001b[0m       backward_function\u001b[39m=\u001b[39m\u001b[39mlambda\u001b[39;00m x: [x],\n\u001b[0;32m    761\u001b[0m       forward_function\u001b[39m=\u001b[39m\u001b[39mlambda\u001b[39;00m x: [x])\n",
      "File \u001b[1;32m~\\AppData\\Roaming\\Python\\Python311\\site-packages\\tensorflow\\python\\ops\\resource_variable_ops.py:743\u001b[0m, in \u001b[0;36mBaseResourceVariable._read_variable_op.<locals>.read_and_set_handle\u001b[1;34m(no_copy)\u001b[0m\n\u001b[0;32m    741\u001b[0m \u001b[39mif\u001b[39;00m no_copy \u001b[39mand\u001b[39;00m forward_compat\u001b[39m.\u001b[39mforward_compatible(\u001b[39m2022\u001b[39m, \u001b[39m5\u001b[39m, \u001b[39m3\u001b[39m):\n\u001b[0;32m    742\u001b[0m   gen_resource_variable_ops\u001b[39m.\u001b[39mdisable_copy_on_read(\u001b[39mself\u001b[39m\u001b[39m.\u001b[39mhandle)\n\u001b[1;32m--> 743\u001b[0m result \u001b[39m=\u001b[39m gen_resource_variable_ops\u001b[39m.\u001b[39;49mread_variable_op(\n\u001b[0;32m    744\u001b[0m     \u001b[39mself\u001b[39;49m\u001b[39m.\u001b[39;49mhandle, \u001b[39mself\u001b[39;49m\u001b[39m.\u001b[39;49m_dtype)\n\u001b[0;32m    745\u001b[0m _maybe_set_handle_data(\u001b[39mself\u001b[39m\u001b[39m.\u001b[39m_dtype, \u001b[39mself\u001b[39m\u001b[39m.\u001b[39mhandle, result)\n\u001b[0;32m    746\u001b[0m \u001b[39mreturn\u001b[39;00m result\n",
      "File \u001b[1;32m~\\AppData\\Roaming\\Python\\Python311\\site-packages\\tensorflow\\python\\ops\\gen_resource_variable_ops.py:580\u001b[0m, in \u001b[0;36mread_variable_op\u001b[1;34m(resource, dtype, name)\u001b[0m\n\u001b[0;32m    578\u001b[0m \u001b[39mif\u001b[39;00m tld\u001b[39m.\u001b[39mis_eager:\n\u001b[0;32m    579\u001b[0m   \u001b[39mtry\u001b[39;00m:\n\u001b[1;32m--> 580\u001b[0m     _result \u001b[39m=\u001b[39m pywrap_tfe\u001b[39m.\u001b[39;49mTFE_Py_FastPathExecute(\n\u001b[0;32m    581\u001b[0m       _ctx, \u001b[39m\"\u001b[39;49m\u001b[39mReadVariableOp\u001b[39;49m\u001b[39m\"\u001b[39;49m, name, resource, \u001b[39m\"\u001b[39;49m\u001b[39mdtype\u001b[39;49m\u001b[39m\"\u001b[39;49m, dtype)\n\u001b[0;32m    582\u001b[0m     \u001b[39mreturn\u001b[39;00m _result\n\u001b[0;32m    583\u001b[0m   \u001b[39mexcept\u001b[39;00m _core\u001b[39m.\u001b[39m_NotOkStatusException \u001b[39mas\u001b[39;00m e:\n",
      "\u001b[1;31mKeyboardInterrupt\u001b[0m: "
     ]
    }
   ],
   "source": [
    "import tensorflow as tf \n",
    "\n",
    "nn_model = tf.keras.models.Sequential([\n",
    "    tf.keras.layers.Dense(28,input_dim=17,activation=\"relu\"),\n",
    "    tf.keras.layers.Dense(18,activation=\"relu\"),\n",
    "    tf.keras.layers.Dense(1,activation=\"sigmoid\")\n",
    "])\n",
    "opt = tf.keras.optimizers.Adam(learning_rate=0.001)\n",
    "checkpoint_callback = tf.keras.callbacks.ModelCheckpoint(\n",
    "    filepath=\"nn_model/\",\n",
    "    monitor=\"val_accuracy\",\n",
    "    save_best_only=True,\n",
    "    save_weights_only=True,\n",
    "    mode=\"max\",\n",
    "    verbose=1\n",
    ")\n",
    "\n",
    "\n",
    "nn_model.compile(loss=tf.keras.losses.binary_crossentropy, optimizer=opt, metrics=['accuracy'])\n",
    "\n",
    "transformed_data_tensor = tf.convert_to_tensor(transformed_data,dtype=tf.float32)\n",
    "train_y_tensor = tf.convert_to_tensor(train_y)\n",
    "transformed_test_tensor = tf.convert_to_tensor(transformed_test,dtype=tf.float32)\n",
    "\n",
    "history=nn_model.fit(x=transformed_data_tensor,y=train_y_tensor,batch_size=32,epochs=100,\n",
    "                    validation_data=(transformed_test_tensor,test_y),callbacks=[checkpoint_callback])"
   ]
  },
  {
   "cell_type": "code",
   "execution_count": 139,
   "metadata": {},
   "outputs": [
    {
     "data": {
      "image/png": "[encoded data removed]",
      "text/plain": [
       "<Figure size 600x300 with 2 Axes>"
      ]
     },
     "metadata": {},
     "output_type": "display_data"
    }
   ],
   "source": [
    "fig,ax = plt.subplots(1,2,figsize=(6,3))\n",
    "ax[0].plot(range(1,101),history.history[\"loss\"])\n",
    "ax[0].set_title(\"training loss\")\n",
    "ax[1].plot(range(1,101),history.history[\"accuracy\"])\n",
    "ax[1].set_title(\"training accuracy\");"
   ]
  },
  {
   "cell_type": "code",
   "execution_count": 140,
   "metadata": {},
   "outputs": [
    {
     "data": {
      "image/png": "[encoded data removed]",
      "text/plain": [
       "<Figure size 600x300 with 2 Axes>"
      ]
     },
     "metadata": {},
     "output_type": "display_data"
    }
   ],
   "source": [
    "fig,ax = plt.subplots(1,2,figsize=(6,3))\n",
    "ax[0].plot(range(1,101),history.history[\"val_loss\"])\n",
    "ax[0].set_title(\"validation loss\")\n",
    "ax[1].plot(range(1,101),history.history[\"val_accuracy\"])\n",
    "ax[1].set_title(\"validation accuracy\");"
   ]
  },
  {
   "cell_type": "code",
   "execution_count": 144,
   "metadata": {},
   "outputs": [
    {
     "data": {
      "text/plain": [
       "0.7722828984260559"
      ]
     },
     "execution_count": 144,
     "metadata": {},
     "output_type": "execute_result"
    }
   ],
   "source": [
    "max(history.history[\"val_accuracy\"])"
   ]
  }
 ],
 "metadata": {
  "kernelspec": {
   "display_name": "Python 3",
   "language": "python",
   "name": "python3"
  },
  "language_info": {
   "codemirror_mode": {
    "name": "ipython",
    "version": 3
   },
   "file_extension": ".py",
   "mimetype": "text/x-python",
   "name": "python",
   "nbconvert_exporter": "python",
   "pygments_lexer": "ipython3",
   "version": "3.11.2"
  },
  "orig_nbformat": 4
 },
 "nbformat": 4,
 "nbformat_minor": 2
}
